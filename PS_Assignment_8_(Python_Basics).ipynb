{
  "nbformat": 4,
  "nbformat_minor": 0,
  "metadata": {
    "colab": {
      "provenance": []
    },
    "kernelspec": {
      "name": "python3",
      "display_name": "Python 3"
    },
    "language_info": {
      "name": "python"
    }
  },
  "cells": [
    {
      "cell_type": "markdown",
      "source": [
        "### Python (Basics) Assignment No. 8\n",
        "\n",
        "1 Batch - Full Stack Data Science Bootcamp 2.0\n",
        "\n",
        "2 Name - **Prerit Sharma**\n",
        "\n",
        "3 Email ID - **praritsharma7@gmail.com**"
      ],
      "metadata": {
        "id": "9tj7SPtIg_8P"
      }
    },
    {
      "cell_type": "markdown",
      "source": [
        "###Q1. Is the Python Standard Library included with PyInputPlus?"
      ],
      "metadata": {
        "id": "pQUMQr_FsdZZ"
      }
    },
    {
      "cell_type": "markdown",
      "source": [
        "###Ans.PyInputPlus is a Python module used for taking inputs with additional validation features. PyInputPlus will keep asking the user for text until they enter valid input."
      ],
      "metadata": {
        "id": "m2JYfZVLssFD"
      }
    },
    {
      "cell_type": "markdown",
      "source": [
        "-------------------------------------------------------------------------------------------------------------"
      ],
      "metadata": {
        "id": "x_E5tsDhtGkx"
      }
    },
    {
      "cell_type": "markdown",
      "source": [
        "###Q 2. Why is PyInputPlus commonly imported with import pyinputplus as pypi?"
      ],
      "metadata": {
        "id": "vmJ_B5YwtISJ"
      }
    },
    {
      "cell_type": "markdown",
      "source": [
        "###AnS. The 'as pypi' code in the import statement saves us from typing pyinputplus each time we want to call a PyInputPlus function."
      ],
      "metadata": {
        "id": "eU2icv8LtXhz"
      }
    },
    {
      "cell_type": "markdown",
      "source": [
        "-------------------------------------------------------------"
      ],
      "metadata": {
        "id": "gEkr-WhVtbHz"
      }
    },
    {
      "cell_type": "markdown",
      "source": [
        "###Q 3. How do you distinguish between inputInt() and inputFloat()?"
      ],
      "metadata": {
        "id": "TJTJ05UXtcYi"
      }
    },
    {
      "cell_type": "markdown",
      "source": [
        "###Ans.\"inputInt()\" : Accepts an integer value. This also takes additional parameters ‘min’, ‘max’, ‘greaterThan’ and ‘lessThan’ for bounds. Returns an int. \"inputFloat()\" : Accepts a floating-point numeric value. Also takes additional ‘min’, ‘max’, ‘greaterThan’ and ‘lessThan’ parameters. Returns a float."
      ],
      "metadata": {
        "id": "GorBOi9dtlyh"
      }
    },
    {
      "cell_type": "markdown",
      "source": [
        "------------------------------------------------------------------------------------------------\n"
      ],
      "metadata": {
        "id": "dXnAkJ4et4ha"
      }
    },
    {
      "cell_type": "markdown",
      "source": [
        "###Q 4. Using PyInputPlus, how do you ensure that the user enters a whole number between 0 and 99?"
      ],
      "metadata": {
        "id": "leeeeWUhxXSB"
      }
    },
    {
      "cell_type": "markdown",
      "source": [
        "###Ans."
      ],
      "metadata": {
        "id": "qsAmxld-xcwQ"
      }
    },
    {
      "cell_type": "code",
      "source": [
        "!pip install PyInputPlus\n"
      ],
      "metadata": {
        "colab": {
          "base_uri": "https://localhost:8080/"
        },
        "id": "wkJjNNty5D2u",
        "outputId": "fd607dfa-d4cf-44bd-d690-ca25153612a9"
      },
      "execution_count": 22,
      "outputs": [
        {
          "output_type": "stream",
          "name": "stdout",
          "text": [
            "Requirement already satisfied: PyInputPlus in /usr/local/lib/python3.10/dist-packages (0.2.12)\n",
            "Requirement already satisfied: pysimplevalidate>=0.2.7 in /usr/local/lib/python3.10/dist-packages (from PyInputPlus) (0.2.12)\n",
            "Requirement already satisfied: stdiomask>=0.0.3 in /usr/local/lib/python3.10/dist-packages (from PyInputPlus) (0.0.6)\n"
          ]
        }
      ]
    },
    {
      "cell_type": "code",
      "source": [
        "import pyinputplus as pyip\n",
        "wholenumber = pyip.inputInt(prompt='Enter a number: ', min=0, max=100)\n",
        "print(wholenumber)\n"
      ],
      "metadata": {
        "colab": {
          "base_uri": "https://localhost:8080/"
        },
        "id": "2hvF1OY0xfBx",
        "outputId": "00b979c2-4980-403b-b0f9-7d5d2c6cc463"
      },
      "execution_count": 23,
      "outputs": [
        {
          "output_type": "stream",
          "name": "stdout",
          "text": [
            "Enter a number: 56\n",
            "56\n"
          ]
        }
      ]
    },
    {
      "cell_type": "code",
      "source": [],
      "metadata": {
        "id": "Eq2sk-VX58EV"
      },
      "execution_count": null,
      "outputs": []
    },
    {
      "cell_type": "markdown",
      "source": [
        "---------------------------------------------------------------------------------------------------"
      ],
      "metadata": {
        "id": "2gHUxmhPc5ov"
      }
    },
    {
      "cell_type": "markdown",
      "source": [
        "###Q 5. What is transferred to the keyword arguments allowRegexes and blockRegexes?"
      ],
      "metadata": {
        "id": "yhjNozNIc-8-"
      }
    },
    {
      "cell_type": "markdown",
      "source": [
        "###Ans.The allowRegexes and blockRegexes keyword arguments take a list of regular expression strings to determine what the PyInputPlus function will accept or reject as valid input."
      ],
      "metadata": {
        "id": "DrVro07JdTRm"
      }
    },
    {
      "cell_type": "markdown",
      "source": [
        "----------------------------------------------------------------------------------------"
      ],
      "metadata": {
        "id": "PLp_kbyhdXGF"
      }
    },
    {
      "cell_type": "markdown",
      "source": [
        "###Q 6. If a blank input is entered three times, what does inputStr(limit=3) do?"
      ],
      "metadata": {
        "id": "e6ila_kfdYa0"
      }
    },
    {
      "cell_type": "markdown",
      "source": [
        "###Ans.The statement inputStr(limit=3) will throw two exceptions ValidationException and RetryLimitException. The first exception is thrown because blank values are not allowed by inputStr() function by default. it we want to consider blank values as valid input, we have to set blank=True.\n",
        "\n",
        "###The second exception is occured because we have reached the max limit we have specified by using limit parameter. inorder to avoid this exception we can use default parameter to return a default value when max limit is reached."
      ],
      "metadata": {
        "id": "aqQE6_ZVddBl"
      }
    },
    {
      "cell_type": "markdown",
      "source": [
        "--------------------------------------------------"
      ],
      "metadata": {
        "id": "XNJR09Jvd4m1"
      }
    },
    {
      "cell_type": "markdown",
      "source": [
        "###Q 7. If blank input is entered three times, what does inputStr(limit=3, default=&#39;hello&#39;) do?"
      ],
      "metadata": {
        "id": "eyH4BviQd5f9"
      }
    },
    {
      "cell_type": "markdown",
      "source": [
        "###Ans.Since the default parameter is set to hello. after blank input is entered three times instead of raising RetryLimitException exception. the function will return hello as response to the calling function"
      ],
      "metadata": {
        "id": "yqxgbHjGd-ae"
      }
    },
    {
      "cell_type": "code",
      "source": [
        "inp = pypi.inputStr(limit=3, default='hello')"
      ],
      "metadata": {
        "id": "lqUI7GV5eMMM"
      },
      "execution_count": null,
      "outputs": []
    },
    {
      "cell_type": "markdown",
      "source": [
        "--------------------------------------End-----------------------------------------------------"
      ],
      "metadata": {
        "id": "tVpLhKuVePZd"
      }
    }
  ]
}