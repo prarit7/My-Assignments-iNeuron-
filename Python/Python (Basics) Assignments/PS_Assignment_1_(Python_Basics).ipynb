{
  "nbformat": 4,
  "nbformat_minor": 0,
  "metadata": {
    "colab": {
      "provenance": []
    },
    "kernelspec": {
      "name": "python3",
      "display_name": "Python 3"
    },
    "language_info": {
      "name": "python"
    }
  },
  "cells": [
    {
      "cell_type": "markdown",
      "source": [
        "#**iNeuron**\n",
        "## Python (Basics) Assignment No. 1\n",
        "\n",
        "- Batch - Full Stack Data Science Bootcamp 2.0\n",
        "- Name - **Prerit Sharma**\n",
        "- Email ID - **praritsharma7@gmail.com**"
      ],
      "metadata": {
        "id": "criPUJM_lB8o"
      }
    },
    {
      "cell_type": "markdown",
      "source": [
        "------------------------------------------------------------------------------"
      ],
      "metadata": {
        "id": "9qZgngf3luYF"
      }
    },
    {
      "cell_type": "markdown",
      "source": [
        "## Q1.) In the below elements which of them are values or an expression? eg:- values can be integer or string and expressions will be mathematical operators.\n",
        "* \n",
        "(a) 'hello'\n",
        "-(b) -87.8\n",
        "-(c) - \n",
        "-(d) / \n",
        "-(e) +\t\n",
        "-(f) 6"
      ],
      "metadata": {
        "id": "ibQ_UkHMyOOK"
      }
    },
    {
      "cell_type": "markdown",
      "source": [
        "####Ans of Q1.).....\n"
      ],
      "metadata": {
        "id": "ZLFiClin2Ydz"
      }
    },
    {
      "cell_type": "code",
      "execution_count": null,
      "metadata": {
        "colab": {
          "base_uri": "https://localhost:8080/"
        },
        "id": "ZRHwGxCUyIMy",
        "outputId": "a1e0a7c8-bd3a-44ae-b88b-e43935965b0c"
      },
      "outputs": [
        {
          "output_type": "stream",
          "name": "stdout",
          "text": [
            "<class 'str'>\n"
          ]
        }
      ],
      "source": [
        "# (a) \n",
        "# 'hello' is a value (String type of value) as it's in '_' single/double qutoes format.\n",
        "#  ex:\n",
        "\n",
        "a = 'hello'\n",
        "print(type(a))"
      ]
    },
    {
      "cell_type": "code",
      "source": [
        "# (b)\n",
        "# -87.8 is a value (float type of value) as it's having float value.\n",
        "# ex:\n",
        "b = -87.8\n",
        "print(type(b))"
      ],
      "metadata": {
        "colab": {
          "base_uri": "https://localhost:8080/"
        },
        "id": "sNeviYAJysEv",
        "outputId": "497fe5e0-c711-4095-9cec-aca07cfa76d7"
      },
      "execution_count": null,
      "outputs": [
        {
          "output_type": "stream",
          "name": "stdout",
          "text": [
            "<class 'float'>\n"
          ]
        }
      ]
    },
    {
      "cell_type": "markdown",
      "source": [
        "#### (c) **- (Minus)** is an expression (Mathematical expression) as it's a mathematical operator.\n",
        "#### (d) **/ (Divide)** is an expression (Mathematical expression) as it's a mathematical operator.\n",
        "#### (e) **+ (Addition)** is an expression (Mathematical expression) as it's a mathematical operator.\n"
      ],
      "metadata": {
        "id": "t6M9iLun0-uH"
      }
    },
    {
      "cell_type": "code",
      "source": [
        "# (f)\n",
        "# 6 is a value (Integer type of value) as it's a numeric digit.\n",
        "# ex:\n",
        "\n",
        "f = 6\n",
        "print(type(f))"
      ],
      "metadata": {
        "colab": {
          "base_uri": "https://localhost:8080/"
        },
        "id": "gfhOdMGJzouR",
        "outputId": "173e063f-ca3e-4693-b6d0-6f4645145c95"
      },
      "execution_count": null,
      "outputs": [
        {
          "output_type": "stream",
          "name": "stdout",
          "text": [
            "<class 'int'>\n"
          ]
        }
      ]
    },
    {
      "cell_type": "markdown",
      "source": [
        "--------------------------------------------------------------------------------------"
      ],
      "metadata": {
        "id": "ObFruZRx188U"
      }
    },
    {
      "cell_type": "markdown",
      "source": [
        "## Q.2) What is the difference between string and variable?\n",
        "\n",
        "### Ans -  \n",
        "\n",
        "- String is a datatype in Python and other programming languages that consist both alphabatic and numeric values in it but it should always be in either single quotes (' ') or in double quotes (\" \"). \n",
        "- Whereas variable is a name or group of names in alphabatic or numeric characters in which we can assign a value."
      ],
      "metadata": {
        "id": "g6izCRXt2LSs"
      }
    },
    {
      "cell_type": "markdown",
      "source": [
        "-------------------------------------------------------------------------"
      ],
      "metadata": {
        "id": "H2XmRfOs4wh7"
      }
    },
    {
      "cell_type": "markdown",
      "source": [
        "## Q.3) Describe three different data types.\n",
        "\n",
        "### Ans \n",
        "- There are several datatypes in Python programming language. Some common and most used are given below... \n",
        "- **Numeric data types : int, float, complex.**\n",
        "- **String data types : str**\n",
        "- **Boolean type : bool**\n",
        "\n",
        "\n",
        "- 1) int - To define numeric values, ex: (45, 55, 100).\n",
        "- 2) float - To define numeric values with decimal, ex: (95.55, 12.36, 80.2)\n",
        "- 3) complex - To define Complex values, ex: (5+2j)\n",
        "- 4) str - To define String values but in (' ') or in (\" \"), ex: (\"Mayur\", \"Soni\")\n",
        "- 5) bool - To define True or False values."
      ],
      "metadata": {
        "id": "aQIhAV7w4zqZ"
      }
    },
    {
      "cell_type": "markdown",
      "source": [
        "----------------------------------------------------------------------------"
      ],
      "metadata": {
        "id": "h0lgLhFx8UeY"
      }
    },
    {
      "cell_type": "markdown",
      "source": [
        "## Q.4) What is an expression made up of? What do all expressions do ?\n",
        "\n",
        "### Ans \n",
        "- An expression is made up of Arithmatic, Logical, Equality, Relational etc etc Operators of Mathematics, they performs several types of mathematical and logical operations on values as directed. Some of them are given below...\n",
        "\n",
        "- Arithmatic Expresssion - (+) (-) (*) (/) (//) (%) (**)\n",
        "- Logical Expression - (AND) (OR) (NOT) \n",
        "- Relational (Comparison) Expression - (> Greater than) (< Less than) (== Equal to) (>= Greater than and equal to) (<= Less than and equal to) (!= Not equal to)\n",
        "- Equality Expression - (is) (is not) (== is equal to) (!= is not equal to)"
      ],
      "metadata": {
        "id": "gmEXKj0x8ZeW"
      }
    },
    {
      "cell_type": "markdown",
      "source": [
        "-------------------------------------------------------------------------"
      ],
      "metadata": {
        "id": "kAiCYufUBDv_"
      }
    },
    {
      "cell_type": "markdown",
      "source": [
        "## Q.5) This assignment statements, like spam = 10. What is the difference between an expression and a statement ?\n",
        "\n",
        "### Ans - \n",
        "- Expression only contain identifier and operators where operator include arithmetic, logic, realtional (Comparison) and boolean separator. \n",
        "- Whereas Statement is a line or group of lines which are commands that we give a function to perform like. \n",
        "\n",
        "Ex: \n",
        "- (+ - * /) (AND OR NOT) ( > < >= <= != ) these are expressions.\n",
        "- spam = 10 is a statement."
      ],
      "metadata": {
        "id": "E6RNZqnRBGGv"
      }
    },
    {
      "cell_type": "markdown",
      "source": [
        "-----------------------------------------------------------------------------"
      ],
      "metadata": {
        "id": "QnuHsozbWMDT"
      }
    },
    {
      "cell_type": "markdown",
      "source": [
        "## Q.6) After running the following code, what does the variable bacon contain?\n",
        "\n",
        "\n",
        "> bacon = 24\n",
        "\n",
        "> bacon + 1"
      ],
      "metadata": {
        "id": "eq_BRV85WOOj"
      }
    },
    {
      "cell_type": "code",
      "source": [
        "# Answer -\n",
        "\n",
        "bacon = 24\n",
        "bacon + 1 "
      ],
      "metadata": {
        "id": "17Hom-oW8Vy9",
        "colab": {
          "base_uri": "https://localhost:8080/"
        },
        "outputId": "ec65184f-13d1-48e4-eaeb-e51a5d3d2f49"
      },
      "execution_count": null,
      "outputs": [
        {
          "output_type": "execute_result",
          "data": {
            "text/plain": [
              "25"
            ]
          },
          "metadata": {},
          "execution_count": 1
        }
      ]
    },
    {
      "cell_type": "markdown",
      "source": [
        "### Ans - **After running the following code, variable bacon contain value = 25**"
      ],
      "metadata": {
        "id": "yfDUfZyIXYN2"
      }
    },
    {
      "cell_type": "markdown",
      "source": [
        "----------------------------------------------------------------------------"
      ],
      "metadata": {
        "id": "rzcwSDm8Xil9"
      }
    },
    {
      "cell_type": "markdown",
      "source": [
        "## Q.7) What should the values of the following two terms be?\n",
        "> 'spam' + 'spamspam'\n",
        "\n",
        "> 'spam' * 3\n"
      ],
      "metadata": {
        "id": "ymbdr641XnnU"
      }
    },
    {
      "cell_type": "code",
      "source": [
        "# Ans - \n",
        "\n",
        "'spam' + 'spamspam'\n",
        "\n",
        "# it concate both the values."
      ],
      "metadata": {
        "colab": {
          "base_uri": "https://localhost:8080/",
          "height": 35
        },
        "id": "4SSbAsw9Wn7o",
        "outputId": "95c74d2e-5f14-4ebc-e2c0-0914d11ec70c"
      },
      "execution_count": null,
      "outputs": [
        {
          "output_type": "execute_result",
          "data": {
            "text/plain": [
              "'spamspamspam'"
            ],
            "application/vnd.google.colaboratory.intrinsic+json": {
              "type": "string"
            }
          },
          "metadata": {},
          "execution_count": 6
        }
      ]
    },
    {
      "cell_type": "code",
      "source": [
        "'spam'*3\n",
        "\n",
        "# it simply print the value in the times which it's been multiplied with."
      ],
      "metadata": {
        "colab": {
          "base_uri": "https://localhost:8080/",
          "height": 35
        },
        "id": "MS4BmpoyX2m7",
        "outputId": "4fda9a81-e927-435f-e736-8947d5d2c7b5"
      },
      "execution_count": null,
      "outputs": [
        {
          "output_type": "execute_result",
          "data": {
            "text/plain": [
              "'spamspamspam'"
            ],
            "application/vnd.google.colaboratory.intrinsic+json": {
              "type": "string"
            }
          },
          "metadata": {},
          "execution_count": 8
        }
      ]
    },
    {
      "cell_type": "markdown",
      "source": [
        "------------------------------------------------------------------------------"
      ],
      "metadata": {
        "id": "v6qClsrWaXcl"
      }
    },
    {
      "cell_type": "markdown",
      "source": [
        "## Q.8) Why is eggs a valid variable name while 100 is invalid ?\n",
        "\n",
        "### Ans - \n",
        "- eggs can be a valid variable name as it's a group of alphabatic characters which Python allows as a variable name and it's also not a reserve keyword.\n",
        "- Whereas 100 can not be a variable name as its a literal integer value and Python does not allow literal values as a variable name."
      ],
      "metadata": {
        "id": "-TLxnY1baaU0"
      }
    },
    {
      "cell_type": "markdown",
      "source": [
        "------------------------------------------------------------------------------"
      ],
      "metadata": {
        "id": "pPaZXeN-ceUO"
      }
    },
    {
      "cell_type": "markdown",
      "source": [
        "## Q.9) What three functions can be used to get the integer, floating-point number, or string version of a value ?\n",
        "\n",
        "### Ans - \n",
        "- To get an integer value we use **int()** function.\n",
        "- To get a float - point value we use **float()** function.\n",
        "- To get a string version of a value, we use **str()** function.\n"
      ],
      "metadata": {
        "id": "ln98Z3FCcghV"
      }
    },
    {
      "cell_type": "markdown",
      "source": [
        "------------------------------------------------------------------"
      ],
      "metadata": {
        "id": "p2vWsPoVjKQG"
      }
    },
    {
      "cell_type": "markdown",
      "source": [
        "## Q.10) Why does this expression cause an error? How can you fix it ?\n",
        "> 'I have eaten ' + 99 + ' burritos.'\n",
        "\n",
        "\n",
        "### Ans - This expression is causing error because - \n",
        "- We can only concatenate integer to integer or string to string values.\n",
        "- To fix this error we must change the datatype of that perticular value. \n",
        "- As shown in the given example below.... we changed the datatype of value 99 from int (by default) to str (String) so that we can add this 99 to the other values as str(99).\n"
      ],
      "metadata": {
        "id": "GOJIV2f3jMbW"
      }
    },
    {
      "cell_type": "code",
      "source": [
        "'I have eaten ' + str(99) + ' burritos.'"
      ],
      "metadata": {
        "colab": {
          "base_uri": "https://localhost:8080/",
          "height": 35
        },
        "id": "02E2CjFYeEic",
        "outputId": "42cca756-89ba-4d0d-9d13-be152d07b32d"
      },
      "execution_count": null,
      "outputs": [
        {
          "output_type": "execute_result",
          "data": {
            "text/plain": [
              "'I have eaten 99 burritos.'"
            ],
            "application/vnd.google.colaboratory.intrinsic+json": {
              "type": "string"
            }
          },
          "metadata": {},
          "execution_count": 45
        }
      ]
    },
    {
      "cell_type": "markdown",
      "source": [
        "------------------------------------------------------------End------------------------------------------------------------"
      ],
      "metadata": {
        "id": "gesLcXWukyEZ"
      }
    }
  ]
}