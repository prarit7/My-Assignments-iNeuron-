{
  "nbformat": 4,
  "nbformat_minor": 0,
  "metadata": {
    "colab": {
      "provenance": []
    },
    "kernelspec": {
      "name": "python3",
      "display_name": "Python 3"
    },
    "language_info": {
      "name": "python"
    }
  },
  "cells": [
    {
      "cell_type": "markdown",
      "source": [
        "## Python (Basics) Assignment No. 5\n",
        "\n",
        "1 Batch - Full Stack Data Science Bootcamp 2.0\n",
        "\n",
        "2 Name - **Prerit Sharma**\n",
        "\n",
        "3 Email ID - **praritsharma7@gmail.com**"
      ],
      "metadata": {
        "id": "CfTf91bMwpUP"
      }
    },
    {
      "cell_type": "markdown",
      "source": [
        "###Q 1. What does an empty dictionary&#39;s code look like?"
      ],
      "metadata": {
        "id": "DGmpQv32wzZe"
      }
    },
    {
      "cell_type": "markdown",
      "source": [
        "###Ans .An empty dictionary's code look like two curly brackets: {}"
      ],
      "metadata": {
        "id": "ZXy-jFtkxu8O"
      }
    },
    {
      "cell_type": "markdown",
      "source": [
        "-------------------------------------------------------------------------------------------------------\n"
      ],
      "metadata": {
        "id": "ssM5laRGx7u-"
      }
    },
    {
      "cell_type": "markdown",
      "source": [
        "###Q 2. What is the value of a dictionary value with the key &#39;foo&#39; and the value 42?"
      ],
      "metadata": {
        "id": "dAa5dQ58x9UG"
      }
    },
    {
      "cell_type": "markdown",
      "source": [
        "###Ans.The value of a dictionary value with the key 'foo' and the value 42 is {'foo': 42}\n",
        "\n"
      ],
      "metadata": {
        "id": "lGRAHrEzyB4o"
      }
    },
    {
      "cell_type": "code",
      "source": [
        "dic = {'foo' : 42}"
      ],
      "metadata": {
        "id": "WTS0eOr5yINf"
      },
      "execution_count": null,
      "outputs": []
    },
    {
      "cell_type": "markdown",
      "source": [
        "--------------------------------------------------------------------------------------------------"
      ],
      "metadata": {
        "id": "vhFz5hgLyMOW"
      }
    },
    {
      "cell_type": "markdown",
      "source": [
        "###Q 3. What is the most significant distinction between a dictionary and a list?"
      ],
      "metadata": {
        "id": "YcBVhnAmyNsG"
      }
    },
    {
      "cell_type": "markdown",
      "source": [
        "###Ans.A list is an ordered sequence of items, whereas dictionaries are unordered sets."
      ],
      "metadata": {
        "id": "E1UnFdxcyRmP"
      }
    },
    {
      "cell_type": "markdown",
      "source": [
        "----------------------------------------------------------------------------------------------"
      ],
      "metadata": {
        "id": "ptkE__Pa1K66"
      }
    },
    {
      "cell_type": "markdown",
      "source": [
        "###Q 4. What happens if you try to access spam[&#39;foo&#39;] if spam is {&#39;bar&#39;: 100}?"
      ],
      "metadata": {
        "id": "BAmyTBmI1MOi"
      }
    },
    {
      "cell_type": "code",
      "source": [
        "###Ans.\n",
        "spam = {'bar':100}\n",
        "spam['foo']"
      ],
      "metadata": {
        "colab": {
          "base_uri": "https://localhost:8080/",
          "height": 200
        },
        "id": "MCLMssdY1SRM",
        "outputId": "5caf07df-2039-4503-9fcb-d6ce4d0fc386"
      },
      "execution_count": null,
      "outputs": [
        {
          "output_type": "error",
          "ename": "KeyError",
          "evalue": "ignored",
          "traceback": [
            "\u001b[0;31m---------------------------------------------------------------------------\u001b[0m",
            "\u001b[0;31mKeyError\u001b[0m                                  Traceback (most recent call last)",
            "\u001b[0;32m<ipython-input-2-ead808107229>\u001b[0m in \u001b[0;36m<cell line: 3>\u001b[0;34m()\u001b[0m\n\u001b[1;32m      1\u001b[0m \u001b[0;31m###Ans.\u001b[0m\u001b[0;34m\u001b[0m\u001b[0;34m\u001b[0m\u001b[0m\n\u001b[1;32m      2\u001b[0m \u001b[0mspam\u001b[0m \u001b[0;34m=\u001b[0m \u001b[0;34m{\u001b[0m\u001b[0;34m'bar'\u001b[0m\u001b[0;34m:\u001b[0m\u001b[0;36m100\u001b[0m\u001b[0;34m}\u001b[0m\u001b[0;34m\u001b[0m\u001b[0;34m\u001b[0m\u001b[0m\n\u001b[0;32m----> 3\u001b[0;31m \u001b[0mspam\u001b[0m\u001b[0;34m[\u001b[0m\u001b[0;34m'foo'\u001b[0m\u001b[0;34m]\u001b[0m\u001b[0;34m\u001b[0m\u001b[0;34m\u001b[0m\u001b[0m\n\u001b[0m",
            "\u001b[0;31mKeyError\u001b[0m: 'foo'"
          ]
        }
      ]
    },
    {
      "cell_type": "markdown",
      "source": [
        "It will give keyError."
      ],
      "metadata": {
        "id": "PeQd_ZzQ1iK8"
      }
    },
    {
      "cell_type": "markdown",
      "source": [
        "-----------------------------------------------------------------------------------------------------------------\n"
      ],
      "metadata": {
        "id": "0uZPomPT1jGW"
      }
    },
    {
      "cell_type": "markdown",
      "source": [
        "###Q 5. If a dictionary is stored in spam, what is the difference between the expressions &#39;cat&#39; in spam and &#39;cat&#39; in spam.keys()?"
      ],
      "metadata": {
        "id": "pJl6h9Ee1le6"
      }
    },
    {
      "cell_type": "markdown",
      "source": [
        "###Ans. There is no difference. The in operator checks whether a value exists as a key in the dictionary."
      ],
      "metadata": {
        "id": "zlP3uXzm1r5q"
      }
    },
    {
      "cell_type": "markdown",
      "source": [
        "--------------------------------------------------------------------------------------------"
      ],
      "metadata": {
        "id": "uVMAMp9D1yTy"
      }
    },
    {
      "cell_type": "markdown",
      "source": [
        "###Q 6. If a dictionary is stored in spam, what is the difference between the expressions &#39;cat&#39; in spam and &#39;cat&#39; in spam.values()?"
      ],
      "metadata": {
        "id": "J9ZTl5BG10Qz"
      }
    },
    {
      "cell_type": "markdown",
      "source": [
        "###Ans.'cat' in spam checks whether a value exists as a key 'cat' in the dictionary, while 'cat' in spam.values() checks whether there is a value 'cat' for one of the keys in spam."
      ],
      "metadata": {
        "id": "JqCDwUmE17bj"
      }
    },
    {
      "cell_type": "markdown",
      "source": [
        "-----------------------------------------------------------------------------------------------------------------------------------------------"
      ],
      "metadata": {
        "id": "svMXQ1772DWr"
      }
    },
    {
      "cell_type": "markdown",
      "source": [
        "###Q 7. What is a shortcut for the following code?\n",
        "if &#39;color&#39; not in spam:\n",
        "\n",
        "spam[&#39;color&#39;] = &#39;black&#39;"
      ],
      "metadata": {
        "id": "r9Z96uAp2Fej"
      }
    },
    {
      "cell_type": "markdown",
      "source": [
        "###Ans.\n",
        "spam.setdefault('color', 'black')\n",
        "\n"
      ],
      "metadata": {
        "id": "kFoRPaAB2Nmk"
      }
    },
    {
      "cell_type": "markdown",
      "source": [
        "--------------------------------------------------------------------------------------------------------------------------------"
      ],
      "metadata": {
        "id": "yaYCgI_u2dsT"
      }
    },
    {
      "cell_type": "markdown",
      "source": [
        "###Q 8. How do you &quot;pretty print&quot; dictionary values using which module and function?"
      ],
      "metadata": {
        "id": "2k_N5ZoA2fXE"
      }
    },
    {
      "cell_type": "markdown",
      "source": [
        "###Ans.pprint.pprint()"
      ],
      "metadata": {
        "id": "7-mo78cQ2lBj"
      }
    },
    {
      "cell_type": "markdown",
      "source": [
        "-----------------------------------------------------------------End--------------------------------------------------------------------"
      ],
      "metadata": {
        "id": "yZLmX2Mp2vO4"
      }
    }
  ]
}