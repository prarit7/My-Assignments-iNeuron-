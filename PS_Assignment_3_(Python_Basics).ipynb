{
  "nbformat": 4,
  "nbformat_minor": 0,
  "metadata": {
    "colab": {
      "provenance": []
    },
    "kernelspec": {
      "name": "python3",
      "display_name": "Python 3"
    },
    "language_info": {
      "name": "python"
    }
  },
  "cells": [
    {
      "cell_type": "markdown",
      "source": [
        "#**iNeuron**\n",
        "\n",
        "## Python (Basics) Assignment No. 3\n",
        "\n",
        "1 Batch - Full Stack Data Science Bootcamp 2.0\n",
        "\n",
        "2 Name - **Prerit Sharma**\n",
        "\n",
        "3 Email ID - **praritsharma7@gmail.com**"
      ],
      "metadata": {
        "id": "ff_Zae34XGMH"
      }
    },
    {
      "cell_type": "markdown",
      "source": [
        "###Q 1.Why are functions advantageous to have in your programs?"
      ],
      "metadata": {
        "id": "Z7rV8Cz6Xbvm"
      }
    },
    {
      "cell_type": "markdown",
      "source": [
        "### Ans.  Functions reduce the need for duplicate code. This makes programs shorter, easier to read, and easier to update."
      ],
      "metadata": {
        "id": "kyXo_-MbX7QG"
      }
    },
    {
      "cell_type": "markdown",
      "source": [
        "-------------------------------------------------------------------------------------------------------------------------------------"
      ],
      "metadata": {
        "id": "38J9WSMcfgfc"
      }
    },
    {
      "cell_type": "markdown",
      "source": [
        "###Q 2. When does the code in a function run: when it&#39;s specified or when it&#39;s called?"
      ],
      "metadata": {
        "id": "nnUSfnSvYD5t"
      }
    },
    {
      "cell_type": "markdown",
      "source": [
        "### Ans. The code in a function executes when the function is called, not when the function is defined.\n"
      ],
      "metadata": {
        "id": "e9d7B13RYPhZ"
      }
    },
    {
      "cell_type": "markdown",
      "source": [
        "--------------------------------------------------------------------------------------------------------------------------------------------------------------------------"
      ],
      "metadata": {
        "id": "9ttlh3nUfjy1"
      }
    },
    {
      "cell_type": "markdown",
      "source": [
        "### Q 3. What statement creates a function?"
      ],
      "metadata": {
        "id": "uzVUWf7hYnDA"
      }
    },
    {
      "cell_type": "markdown",
      "source": [
        "### Ans.  The def statement defines, i.e. creates a function."
      ],
      "metadata": {
        "id": "w0UbODyXY_gu"
      }
    },
    {
      "cell_type": "markdown",
      "source": [
        "---------------------------------------------------------------------------------------------------------------------------------------------------------------------"
      ],
      "metadata": {
        "id": "KOmPsg38fmeU"
      }
    },
    {
      "cell_type": "markdown",
      "source": [
        "### Q4. What is the difference between a function and a function call?"
      ],
      "metadata": {
        "id": "Au00bha3fpZN"
      }
    },
    {
      "cell_type": "markdown",
      "source": [
        "###Ans. A function consists of the def statement and the code in its def clause. A function call is what moves the program execution into the function, and the function call evaluates to the function's return value."
      ],
      "metadata": {
        "id": "bOSCPUNbfyf-"
      }
    },
    {
      "cell_type": "markdown",
      "source": [
        "------------------------------------------------------------------------------------------------------------------------------------------------------------------------------"
      ],
      "metadata": {
        "id": "dhKEEo9YgEVt"
      }
    },
    {
      "cell_type": "markdown",
      "source": [
        "###Q 5. How many global scopes are there in a Python program? How many local scopes?"
      ],
      "metadata": {
        "id": "FEj201LagI21"
      }
    },
    {
      "cell_type": "markdown",
      "source": [
        "###Ans.  there is one global scope, and a local scope is created whenever a function is called."
      ],
      "metadata": {
        "id": "gMGb2IHVgYUG"
      }
    },
    {
      "cell_type": "markdown",
      "source": [
        "---------------------------------------------------------------------------------------------------------------------------------------------------------------------"
      ],
      "metadata": {
        "id": "bAgJLKU6g2H_"
      }
    },
    {
      "cell_type": "markdown",
      "source": [
        "###Q 6. What happens to variables in a local scope when the function call returns?"
      ],
      "metadata": {
        "id": "5lfSsI-rg6n1"
      }
    },
    {
      "cell_type": "markdown",
      "source": [
        "###Ans. When a function returns, the local scope is destroyed, and all the variables in it are forgotten."
      ],
      "metadata": {
        "id": "gXiH81hKg_Qe"
      }
    },
    {
      "cell_type": "markdown",
      "source": [
        "-------------------------------------------------------------------------------------------------------------------------------------------------------------------------------------------------------------------------------------------"
      ],
      "metadata": {
        "id": "5ImRBB8jhPDJ"
      }
    },
    {
      "cell_type": "markdown",
      "source": [
        "###Q7. What is the concept of a return value? Is it possible to have a return value in an expression?"
      ],
      "metadata": {
        "id": "sFp4RpNghSEP"
      }
    },
    {
      "cell_type": "markdown",
      "source": [
        "###Ans. A return value is the value that a function call evaluates to. Like any value, a return value can be used as part of an expression."
      ],
      "metadata": {
        "id": "jWSs1mrYhaYd"
      }
    },
    {
      "cell_type": "markdown",
      "source": [
        "---------------------------------------------------------------------------------------------------------------------------------------------------------------------------------------------"
      ],
      "metadata": {
        "id": "mejTCC7ShaeR"
      }
    },
    {
      "cell_type": "markdown",
      "source": [
        "###Q8. If a function does not have a return statement, what is the return value of a call to that function?"
      ],
      "metadata": {
        "id": "ykBuyZPnhoHp"
      }
    },
    {
      "cell_type": "markdown",
      "source": [
        "###Ans. If there is no return statement for a function, its return value is None."
      ],
      "metadata": {
        "id": "pTVBdqg6h-0q"
      }
    },
    {
      "cell_type": "markdown",
      "source": [
        "-------------------------------------------------------------------------------------------------------------------------------------------------------------\n"
      ],
      "metadata": {
        "id": "RYLSwOTriDGR"
      }
    },
    {
      "cell_type": "markdown",
      "source": [
        "###Q.9. How do you make a function variable refer to the global variable?"
      ],
      "metadata": {
        "id": "8lwDsTlIiFRD"
      }
    },
    {
      "cell_type": "markdown",
      "source": [
        "###Ans. A global statement will force a variable in a function to refer to the global variable."
      ],
      "metadata": {
        "id": "qyShBTvbiZSd"
      }
    },
    {
      "cell_type": "markdown",
      "source": [
        "---------------------------------------------------------------------------------------------------------------------------------------------\n"
      ],
      "metadata": {
        "id": "kbhgfFTPiiGD"
      }
    },
    {
      "cell_type": "markdown",
      "source": [
        "###Q 10. What is the data type of None?"
      ],
      "metadata": {
        "id": "r1QRRGYiikGd"
      }
    },
    {
      "cell_type": "markdown",
      "source": [
        "###Ans. The data type of None is NoneType."
      ],
      "metadata": {
        "id": "4Pr0oDHviqOV"
      }
    },
    {
      "cell_type": "markdown",
      "source": [
        "-------------------------------------------------------------------------------------------------------------------------------------------------------------"
      ],
      "metadata": {
        "id": "6WEaC7-0izE7"
      }
    },
    {
      "cell_type": "code",
      "source": [],
      "metadata": {
        "id": "9aUNC6YXlgkN"
      },
      "execution_count": null,
      "outputs": []
    },
    {
      "cell_type": "markdown",
      "source": [
        "###Q 11. What does the sentence import areallyourpetsnamederic do?\n"
      ],
      "metadata": {
        "id": "-KCG-hqli1Zf"
      }
    },
    {
      "cell_type": "markdown",
      "source": [
        "###Ans. that import statement imports a module named areallyourpetsnamederic."
      ],
      "metadata": {
        "id": "50lHSFLTi8J1"
      }
    },
    {
      "cell_type": "markdown",
      "source": [
        "------------------------------------------------------------------------------------------------------------------------------------------------------------------\n"
      ],
      "metadata": {
        "id": "ifGZN0ZdjIvW"
      }
    },
    {
      "cell_type": "markdown",
      "source": [
        "###Q 12. If you had a bacon() feature in a spam module, what would you call it after importing spam?"
      ],
      "metadata": {
        "id": "lo4RWQLVjMOT"
      }
    },
    {
      "cell_type": "markdown",
      "source": [
        "###Ans. This function can be called with spam.bacon()."
      ],
      "metadata": {
        "id": "19HnVaJ3jS7g"
      }
    },
    {
      "cell_type": "markdown",
      "source": [
        "---------------------------------------------------------------------------------------------------------------------------------------------------------------------------------------------"
      ],
      "metadata": {
        "id": "yytoceU2jrpc"
      }
    },
    {
      "cell_type": "markdown",
      "source": [
        "###Q 13. What can you do to save a programme from crashing if it encounters an error?"
      ],
      "metadata": {
        "id": "HQeaV_LUjt8-"
      }
    },
    {
      "cell_type": "markdown",
      "source": [
        "###Ans. Place the line of code that might cause an error in a try clause."
      ],
      "metadata": {
        "id": "DTznxKhvj1pe"
      }
    },
    {
      "cell_type": "markdown",
      "source": [
        "----------------------------------------------------------------------------------------------------------------------------------------------------------------"
      ],
      "metadata": {
        "id": "55pBM3e-j5TW"
      }
    },
    {
      "cell_type": "markdown",
      "source": [
        "###Q 14. What is the purpose of the try clause? What is the purpose of the except clause?"
      ],
      "metadata": {
        "id": "mPOMgzBRj7zI"
      }
    },
    {
      "cell_type": "markdown",
      "source": [
        "###Ans. -The code that could potentially cause an error goes in the try clause,The code that executes if an error happens goes in the except clause."
      ],
      "metadata": {
        "id": "VelAYRaDkFd5"
      }
    },
    {
      "cell_type": "markdown",
      "source": [
        "-----------------------------------------------------------End--------------------------------------------------------------------------------------------------------"
      ],
      "metadata": {
        "id": "KR_G7lIRkkyO"
      }
    },
    {
      "cell_type": "code",
      "source": [],
      "metadata": {
        "id": "1157kkA2kJzf"
      },
      "execution_count": null,
      "outputs": []
    }
  ]
}