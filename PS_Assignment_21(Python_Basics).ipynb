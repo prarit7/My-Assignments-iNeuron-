{
  "nbformat": 4,
  "nbformat_minor": 0,
  "metadata": {
    "colab": {
      "provenance": []
    },
    "kernelspec": {
      "name": "python3",
      "display_name": "Python 3"
    },
    "language_info": {
      "name": "python"
    }
  },
  "cells": [
    {
      "cell_type": "markdown",
      "source": [
        "### Python (Basics) Assignment No. 21\n",
        "\n",
        "1 Batch - Full Stack Data Science Bootcamp 2.0\n",
        "\n",
        "2 Name - **Prerit Sharma**\n",
        "\n",
        "3 Email ID - **praritsharma7@gmail.com**"
      ],
      "metadata": {
        "id": "swPYAJy5G22b"
      }
    },
    {
      "cell_type": "markdown",
      "source": [
        "------------------------------------------------------------------------------------------"
      ],
      "metadata": {
        "id": "UV3uUESvHAc0"
      }
    },
    {
      "cell_type": "markdown",
      "source": [
        "###Q 1. Add the current date to the text file today.txt as a string."
      ],
      "metadata": {
        "id": "JCUh3JsyHCP1"
      }
    },
    {
      "cell_type": "markdown",
      "source": [],
      "metadata": {
        "id": "OswhZIEoHGr8"
      }
    },
    {
      "cell_type": "markdown",
      "source": [
        "###Ans."
      ],
      "metadata": {
        "id": "a7UVekVrHHBc"
      }
    },
    {
      "cell_type": "code",
      "source": [
        "import datetime\n",
        "from datetime import date\n",
        "now = date.today()\n",
        "cur_date = now.isoformat()\n",
        "cur_date"
      ],
      "metadata": {
        "colab": {
          "base_uri": "https://localhost:8080/",
          "height": 35
        },
        "id": "IdW4DxYjHIaF",
        "outputId": "297076e5-6fc9-4a17-c2d5-a03390d5fb83"
      },
      "execution_count": 1,
      "outputs": [
        {
          "output_type": "execute_result",
          "data": {
            "text/plain": [
              "'2023-08-25'"
            ],
            "application/vnd.google.colaboratory.intrinsic+json": {
              "type": "string"
            }
          },
          "metadata": {},
          "execution_count": 1
        }
      ]
    },
    {
      "cell_type": "markdown",
      "source": [
        "----------------------------------------------------------------------------------------------------------------------"
      ],
      "metadata": {
        "id": "shVRY9ENHRdl"
      }
    },
    {
      "cell_type": "markdown",
      "source": [
        "###Q 2. Read the text file today.txt into the string today_string"
      ],
      "metadata": {
        "id": "e9OdMuBCHTWm"
      }
    },
    {
      "cell_type": "markdown",
      "source": [
        "###Ans."
      ],
      "metadata": {
        "id": "yEMwyHhWHY4V"
      }
    },
    {
      "cell_type": "code",
      "source": [
        "with open('today.txt','w') as file:\n",
        "    file.write(cur_date)"
      ],
      "metadata": {
        "id": "QX5J_IC_HbTu"
      },
      "execution_count": 2,
      "outputs": []
    },
    {
      "cell_type": "markdown",
      "source": [
        "-----------------------------------------------------------------------------------------------------"
      ],
      "metadata": {
        "id": "H2tOISW9HafN"
      }
    },
    {
      "cell_type": "markdown",
      "source": [
        "###Q 3. Parse the date from today_string."
      ],
      "metadata": {
        "id": "yrOeHKtlHiAW"
      }
    },
    {
      "cell_type": "markdown",
      "source": [
        "###Ans."
      ],
      "metadata": {
        "id": "WbNZpo2GHm4f"
      }
    },
    {
      "cell_type": "code",
      "source": [
        "from datetime import datetime\n",
        "fmt = '%Y-%m-%d\\n'\n",
        "datetime.strptime(today_string, fmt)"
      ],
      "metadata": {
        "id": "32DA73kdHoXP"
      },
      "execution_count": null,
      "outputs": []
    },
    {
      "cell_type": "markdown",
      "source": [
        "-------------------------------------------------------------------------------------------------------------------"
      ],
      "metadata": {
        "id": "JiyA8snXHrY5"
      }
    },
    {
      "cell_type": "markdown",
      "source": [
        "###Q 4. List the files in your current directory"
      ],
      "metadata": {
        "id": "8RP__0zNHtx_"
      }
    },
    {
      "cell_type": "markdown",
      "source": [
        "###Ans."
      ],
      "metadata": {
        "id": "d55eo1YOHxJr"
      }
    },
    {
      "cell_type": "code",
      "source": [
        "import os\n",
        "for folders, subfolders, files in os.walk(os.getcwd()):\n",
        "    for file in files:\n",
        "        print(file)"
      ],
      "metadata": {
        "colab": {
          "base_uri": "https://localhost:8080/"
        },
        "id": "N2Dl9yG1H2Ef",
        "outputId": "a50481da-19dd-4afa-ff8b-3d3200e5fec3"
      },
      "execution_count": 4,
      "outputs": [
        {
          "output_type": "stream",
          "name": "stdout",
          "text": [
            "today.txt\n",
            "active_config\n",
            ".last_survey_prompt.yaml\n",
            ".last_opt_in_prompt.yaml\n",
            ".last_update_check.json\n",
            "default_configs.db\n",
            "config_sentinel\n",
            "gce\n",
            "config_default\n",
            "21.25.07.624486.log\n",
            "21.25.34.842300.log\n",
            "21.24.55.354132.log\n",
            "21.24.28.892496.log\n",
            "21.23.44.598291.log\n",
            "21.25.35.723493.log\n",
            "README.md\n",
            "anscombe.json\n",
            "california_housing_test.csv\n",
            "mnist_test.csv\n",
            "mnist_train_small.csv\n",
            "california_housing_train.csv\n"
          ]
        }
      ]
    },
    {
      "cell_type": "markdown",
      "source": [
        "---------------------------------------------------------------------------------------"
      ],
      "metadata": {
        "id": "VSK_-KlpH5C_"
      }
    },
    {
      "cell_type": "markdown",
      "source": [
        "###Q 5. Create a list of all of the files in your parent directory (minimum five files should be available)."
      ],
      "metadata": {
        "id": "-TIAViKZIE4y"
      }
    },
    {
      "cell_type": "markdown",
      "source": [
        "###Ans."
      ],
      "metadata": {
        "id": "E-G5c6TpIIHB"
      }
    },
    {
      "cell_type": "code",
      "source": [
        "import os\n",
        "os.listdir()"
      ],
      "metadata": {
        "colab": {
          "base_uri": "https://localhost:8080/"
        },
        "id": "_m2df-I4IKPC",
        "outputId": "a7f6cbb3-3deb-46c1-fef1-cd66713e7a32"
      },
      "execution_count": 5,
      "outputs": [
        {
          "output_type": "execute_result",
          "data": {
            "text/plain": [
              "['.config', 'today.txt', 'sample_data']"
            ]
          },
          "metadata": {},
          "execution_count": 5
        }
      ]
    },
    {
      "cell_type": "markdown",
      "source": [
        "---------------------------------------------------------"
      ],
      "metadata": {
        "id": "ple-CKjoINna"
      }
    },
    {
      "cell_type": "markdown",
      "source": [
        "###Q 6. Use multiprocessing to create three separate processes. Make each one wait a random number of seconds between one and five, print the current time, and then exit."
      ],
      "metadata": {
        "id": "vvaGpx72IOrp"
      }
    },
    {
      "cell_type": "markdown",
      "source": [
        "###Ans."
      ],
      "metadata": {
        "id": "imhkfrNnITQR"
      }
    },
    {
      "cell_type": "code",
      "source": [
        "import multiprocessing\n",
        "import time\n",
        "import random\n",
        "import datetime\n",
        "\n",
        "def procOne():\n",
        "    print(f'Proc_one_Starttime -> {datetime.datetime.now()}')\n",
        "    time.sleep(random.randint(1,5))\n",
        "    print(f'Proc_one_Endtime -> {datetime.datetime.now()}')\n",
        "\n",
        "def procTwo():\n",
        "    print(f'Proc_two_Starttime -> {datetime.datetime.now()}')\n",
        "    time.sleep(random.randint(1,5))\n",
        "    print(f'Proc_two_Endtime -> {datetime.datetime.now()}')\n",
        "\n",
        "def procThree():\n",
        "    print(f'Proc_two_Starttime -> {datetime.datetime.now()}')\n",
        "    time.sleep(random.randint(1,5))\n",
        "    print(f'Proc_two_Endtime -> {datetime.datetime.now()}')\n",
        "\n",
        "if __name__ == \"__main__\":\n",
        "    p1 = multiprocessing.Process(target=procOne)\n",
        "    p2 = multiprocessing.Process(target=procTwo)\n",
        "    p3 = multiprocessing.Process(target=procThree)\n",
        "\n",
        "    p1.start()\n",
        "    p2.start()\n",
        "    p3.start()\n",
        "\n",
        "    p1.join()\n",
        "    p2.join()\n",
        "    p3.join()"
      ],
      "metadata": {
        "colab": {
          "base_uri": "https://localhost:8080/"
        },
        "id": "kSZh5synIUgj",
        "outputId": "39b72b45-bb8b-4a93-f54a-1ae10413fa50"
      },
      "execution_count": 6,
      "outputs": [
        {
          "output_type": "stream",
          "name": "stdout",
          "text": [
            "Proc_one_Starttime -> 2023-08-25 19:17:58.988506\n",
            "Proc_two_Starttime -> 2023-08-25 19:17:59.004707Proc_two_Starttime -> 2023-08-25 19:17:59.024039\n",
            "\n",
            "Proc_two_Endtime -> 2023-08-25 19:18:00.036229\n",
            "Proc_one_Endtime -> 2023-08-25 19:18:02.025928\n",
            "Proc_two_Endtime -> 2023-08-25 19:18:04.038093\n"
          ]
        }
      ]
    },
    {
      "cell_type": "markdown",
      "source": [
        "---------------------------------------------------------------------------------------------------------------------------------------------------------------------------"
      ],
      "metadata": {
        "id": "wspg3RXnIcJr"
      }
    },
    {
      "cell_type": "markdown",
      "source": [
        "###Q 7. Create a date object of your day of birth."
      ],
      "metadata": {
        "id": "zFxw4JD5Ieqb"
      }
    },
    {
      "cell_type": "markdown",
      "source": [
        "###Ans."
      ],
      "metadata": {
        "id": "m8hAjRGiIiys"
      }
    },
    {
      "cell_type": "code",
      "source": [
        "from datetime import datetime\n",
        "my_dob = datetime.strptime('16/03/1996','%d/%m/%Y')\n",
        "print(my_dob, type(my_dob))"
      ],
      "metadata": {
        "colab": {
          "base_uri": "https://localhost:8080/"
        },
        "id": "UJDhMA97Im4W",
        "outputId": "3aa6ae02-251d-4345-a6d7-19df37f5d180"
      },
      "execution_count": 7,
      "outputs": [
        {
          "output_type": "stream",
          "name": "stdout",
          "text": [
            "1996-03-16 00:00:00 <class 'datetime.datetime'>\n"
          ]
        }
      ]
    },
    {
      "cell_type": "markdown",
      "source": [
        "------------------------------------------------------------"
      ],
      "metadata": {
        "id": "qX5JAn0RIr5N"
      }
    },
    {
      "cell_type": "markdown",
      "source": [
        "### Q 8. What day of the week was your day of birth?"
      ],
      "metadata": {
        "id": "B4jdhx6BItIc"
      }
    },
    {
      "cell_type": "markdown",
      "source": [
        "###Ans."
      ],
      "metadata": {
        "id": "O1H28P8NIxnT"
      }
    },
    {
      "cell_type": "code",
      "source": [
        "from datetime import datetime\n",
        "my_dob = datetime(1996,3,16)\n",
        "my_dob.strftime(\"%A\")"
      ],
      "metadata": {
        "colab": {
          "base_uri": "https://localhost:8080/",
          "height": 35
        },
        "id": "mql2dNU0Iz3L",
        "outputId": "4c6f7827-c5b6-4989-de8b-4a7816dace4b"
      },
      "execution_count": 10,
      "outputs": [
        {
          "output_type": "execute_result",
          "data": {
            "text/plain": [
              "'Saturday'"
            ],
            "application/vnd.google.colaboratory.intrinsic+json": {
              "type": "string"
            }
          },
          "metadata": {},
          "execution_count": 10
        }
      ]
    },
    {
      "cell_type": "markdown",
      "source": [
        "---------------------------------------------------------------------------------------------------------"
      ],
      "metadata": {
        "id": "3RyY6JIJI9ht"
      }
    },
    {
      "cell_type": "markdown",
      "source": [
        "###Q 9. When will you be (or when were you) 10,000 days old?"
      ],
      "metadata": {
        "id": "s2wDIbY0JA0Q"
      }
    },
    {
      "cell_type": "markdown",
      "source": [
        "###Q 9. When will you be (or when were you) 10,000 days old?"
      ],
      "metadata": {
        "id": "mhmK54K5JCL9"
      }
    },
    {
      "cell_type": "markdown",
      "source": [
        "###Ans."
      ],
      "metadata": {
        "id": "DsZMhDo3JJh9"
      }
    },
    {
      "cell_type": "code",
      "source": [
        "from datetime import datetime, timedelta\n",
        "my_dob = datetime.strptime(\"16/03/1996\",'%d/%m/%Y')\n",
        "future_date = my_dob-timedelta(10000)\n",
        "future_date"
      ],
      "metadata": {
        "colab": {
          "base_uri": "https://localhost:8080/"
        },
        "id": "xIQC6JphJQUd",
        "outputId": "e82d1727-56c5-4276-f546-7fc13f57cc9f"
      },
      "execution_count": 12,
      "outputs": [
        {
          "output_type": "execute_result",
          "data": {
            "text/plain": [
              "datetime.datetime(1968, 10, 29, 0, 0)"
            ]
          },
          "metadata": {},
          "execution_count": 12
        }
      ]
    },
    {
      "cell_type": "markdown",
      "source": [
        "--------------------------------------------------End-----------------------------------------------------------------------------"
      ],
      "metadata": {
        "id": "LYzdbvP-JLEG"
      }
    }
  ]
}