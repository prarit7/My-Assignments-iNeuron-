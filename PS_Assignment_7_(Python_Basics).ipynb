{
  "nbformat": 4,
  "nbformat_minor": 0,
  "metadata": {
    "colab": {
      "provenance": []
    },
    "kernelspec": {
      "name": "python3",
      "display_name": "Python 3"
    },
    "language_info": {
      "name": "python"
    }
  },
  "cells": [
    {
      "cell_type": "markdown",
      "source": [
        "## Python (Basics) Assignment No. 7\n",
        "\n",
        "1 Batch - Full Stack Data Science Bootcamp 2.0\n",
        "\n",
        "2 Name - **Prerit Sharma**\n",
        "\n",
        "3 Email ID - **praritsharma7@gmail.com**"
      ],
      "metadata": {
        "id": "1kMmrfHnRobB"
      }
    },
    {
      "cell_type": "markdown",
      "source": [
        "-----------------------------------------------------------------------------------------------------------------------------------------------"
      ],
      "metadata": {
        "id": "Tt-h5-KzR2xw"
      }
    },
    {
      "cell_type": "markdown",
      "source": [
        "###Q1. What is the name of the feature responsible for generating Regex objects?"
      ],
      "metadata": {
        "id": "wDStI6wOR43Q"
      }
    },
    {
      "cell_type": "markdown",
      "source": [
        "###Ans.The re.compile() function returns Regex objects. In another words, We can compile a regular expression into a regex object to look for occurrences of the same pattern inside various target strings without rewriting it."
      ],
      "metadata": {
        "id": "kkcjuBfcSBeh"
      }
    },
    {
      "cell_type": "markdown",
      "source": [
        "------------------------------------------------------------------------------------------------------------------------------------------------------------"
      ],
      "metadata": {
        "id": "wCWfWTTtVv7w"
      }
    },
    {
      "cell_type": "markdown",
      "source": [
        "###Q 2. Why do raw strings often appear in Regex objects?"
      ],
      "metadata": {
        "id": "Ca63OADtVyAx"
      }
    },
    {
      "cell_type": "markdown",
      "source": [
        "##Ans.Raw strings are used so that backslashes do not have to be escaped."
      ],
      "metadata": {
        "id": "av-py066V4xg"
      }
    },
    {
      "cell_type": "markdown",
      "source": [
        "-----------------------------------------------------------------------------------------------------------------------------"
      ],
      "metadata": {
        "id": "fWG6xNITWJXh"
      }
    },
    {
      "cell_type": "markdown",
      "source": [
        "###Q 3. What is the return value of the search() method?"
      ],
      "metadata": {
        "id": "19iuEmhsWLba"
      }
    },
    {
      "cell_type": "markdown",
      "source": [
        "###Ans.The search() method returns Match objects."
      ],
      "metadata": {
        "id": "1eNIgUuMWWlJ"
      }
    },
    {
      "cell_type": "markdown",
      "source": [
        "---------------------------------------------------------------------------------------------------------------------------------------------------------------------------------------------------------------------------------------"
      ],
      "metadata": {
        "id": "h5CumeRRWwNJ"
      }
    },
    {
      "cell_type": "markdown",
      "source": [
        "###Q 4. From a Match item, how do you get the actual strings that match the pattern?"
      ],
      "metadata": {
        "id": "pPk6MfXtWy1Z"
      }
    },
    {
      "cell_type": "markdown",
      "source": [
        "###Ans.The group() method returns strings of the matched text."
      ],
      "metadata": {
        "id": "Bmv0oVIxW4yx"
      }
    },
    {
      "cell_type": "markdown",
      "source": [
        "-------------------------------------------------------------------------------------------------"
      ],
      "metadata": {
        "id": "Vs9PoQbSXEMh"
      }
    },
    {
      "cell_type": "markdown",
      "source": [
        "###Q 5. In the regex which created from the r&#39;(\\d\\d\\d)-(\\d\\d\\d-\\d\\d\\d\\d)&#39;, what does group zero cover?Group 2? Group 1?"
      ],
      "metadata": {
        "id": "avtAbfWIXHfR"
      }
    },
    {
      "cell_type": "markdown",
      "source": [
        "###Ans.Group 0 is the entire match, group 1 covers the first set of parentheses, and group 2 covers the second set of parentheses."
      ],
      "metadata": {
        "id": "9SyMsOPAXRkB"
      }
    },
    {
      "cell_type": "markdown",
      "source": [
        "--------------------------------------------------------------------------------------------------------------------------------------------------------------"
      ],
      "metadata": {
        "id": "AexnxRdzXjdh"
      }
    },
    {
      "cell_type": "markdown",
      "source": [
        "###Q 6. In standard expression syntax, parentheses and intervals have distinct meanings. How can you tell a regex that you want it to fit real parentheses and periods?"
      ],
      "metadata": {
        "id": "6gXUg6zeXltR"
      }
    },
    {
      "cell_type": "markdown",
      "source": [
        "###Ans.Periods and parentheses can be escaped with a backslash: \\"
      ],
      "metadata": {
        "id": "Qe0CKUBWXsWx"
      }
    },
    {
      "cell_type": "markdown",
      "source": [
        "-------------------------------------------------------------------------------------------------------------\n"
      ],
      "metadata": {
        "id": "_HoORzsMX4SY"
      }
    },
    {
      "cell_type": "markdown",
      "source": [
        "###Q 7. The findall() method returns a string list or a list of string tuples. What causes it to return one of the two options?"
      ],
      "metadata": {
        "id": "cbK8EjMkX6-B"
      }
    },
    {
      "cell_type": "markdown",
      "source": [
        "###Ans.If the regex has no groups, a list of strings is returned. If the regex has groups, a list of tuples of strings is returned."
      ],
      "metadata": {
        "id": "gnTXsQkmYA5B"
      }
    },
    {
      "cell_type": "markdown",
      "source": [
        "----------------------------------------------------------------------------------------------"
      ],
      "metadata": {
        "id": "Y5zQyXQtYNSC"
      }
    },
    {
      "cell_type": "markdown",
      "source": [
        "###Q 8. In standard expressions, what does the | character mean?"
      ],
      "metadata": {
        "id": "vcnfbK1qYPCI"
      }
    },
    {
      "cell_type": "markdown",
      "source": [
        "###Ans. The | character signifies matching “either, or” between two groups."
      ],
      "metadata": {
        "id": "O7pqQehYYUCB"
      }
    },
    {
      "cell_type": "markdown",
      "source": [
        "---------------------------------------------------------------------------"
      ],
      "metadata": {
        "id": "7Fmycc6oYa0x"
      }
    },
    {
      "cell_type": "markdown",
      "source": [
        "###Q 9. In regular expressions, what does the character stand for?"
      ],
      "metadata": {
        "id": "ExgO_oGxYcrj"
      }
    },
    {
      "cell_type": "markdown",
      "source": [
        "###Ans.The ? character can either mean “match zero or one of the preceding group” or be used to signify nongreedy matching."
      ],
      "metadata": {
        "id": "AUPJTqd0Yi2C"
      }
    },
    {
      "cell_type": "markdown",
      "source": [
        "###Q 10.In regular expressions, what is the difference between the + and * characters?"
      ],
      "metadata": {
        "id": "BFMY5tQdY7zh"
      }
    },
    {
      "cell_type": "markdown",
      "source": [
        "###Ans. In Regular Expressions, * Represents Zero ore more occurances of the preceeding group, whereas + represents one or more occurances of the preceeding group."
      ],
      "metadata": {
        "id": "uqQdPPquY-kK"
      }
    },
    {
      "cell_type": "markdown",
      "source": [
        "--------------------------------------------------"
      ],
      "metadata": {
        "id": "CO6E6W_PYsJB"
      }
    },
    {
      "cell_type": "markdown",
      "source": [
        "###Q 11. What is the difference between {4} and {4,5} in regular expression?"
      ],
      "metadata": {
        "id": "VDQJPRvoYtVh"
      }
    },
    {
      "cell_type": "markdown",
      "source": [
        "###Ans. The {4} matches exactly three instances of the preceding group. The {4,5} matches between three and five instances."
      ],
      "metadata": {
        "id": "084l6uEoY2Wp"
      }
    },
    {
      "cell_type": "markdown",
      "source": [
        "--------------------------------------------------------------------------------------------------"
      ],
      "metadata": {
        "id": "fxXx0dRtZUIq"
      }
    },
    {
      "cell_type": "markdown",
      "source": [
        "###Q 12. What do you mean by the \\d, \\w, and \\s shorthand character classes signify in regular expressions?"
      ],
      "metadata": {
        "id": "SHOyqHfhZV3i"
      }
    },
    {
      "cell_type": "markdown",
      "source": [
        "###Ans.The \\d, \\w, and \\s shorthand character classes match a single digit, word, or space character, respectively.\n",
        "\n"
      ],
      "metadata": {
        "id": "1vMWNx3KZc-q"
      }
    },
    {
      "cell_type": "markdown",
      "source": [
        "----------------------------------------------------------------"
      ],
      "metadata": {
        "id": "A6YzkBy1ZjpB"
      }
    },
    {
      "cell_type": "markdown",
      "source": [
        "###Q 13. What do means by \\D, \\W, and \\S shorthand character classes signify in regular expressions?"
      ],
      "metadata": {
        "id": "s1tscCETZkt5"
      }
    },
    {
      "cell_type": "markdown",
      "source": [
        "###Ans. The \\d, \\w, and \\s shorthand character classes match a single digit, word, or space character, respectively."
      ],
      "metadata": {
        "id": "TAjPFbyMZq7Z"
      }
    },
    {
      "cell_type": "markdown",
      "source": [
        "--------------------------------------------------------------------------"
      ],
      "metadata": {
        "id": "tMUHmveGZ14S"
      }
    },
    {
      "cell_type": "markdown",
      "source": [
        "###Q 14. What is the difference between .*? and .*?"
      ],
      "metadata": {
        "id": "ULGwFRCuZ3Gp"
      }
    },
    {
      "cell_type": "markdown",
      "source": [
        "###Ans. .* is a Greedy mode, which returns the longest string that meets the condition. Whereas .*? is a non greedy mode which returns the shortest string that meets the condition."
      ],
      "metadata": {
        "id": "VH_wbSyhaAXy"
      }
    },
    {
      "cell_type": "markdown",
      "source": [
        "---------------------------------------------------"
      ],
      "metadata": {
        "id": "EX5MWQd1aMpa"
      }
    },
    {
      "cell_type": "markdown",
      "source": [
        "###Q 15. What is the syntax for matching both numbers and lowercase letters with a character class?"
      ],
      "metadata": {
        "id": "FZql2XYoaNoZ"
      }
    },
    {
      "cell_type": "markdown",
      "source": [
        "###Ans. Either [0-9a-z] or [a-z0-9]"
      ],
      "metadata": {
        "id": "TWabarNwaRnB"
      }
    },
    {
      "cell_type": "markdown",
      "source": [
        "------------------------------------------------------------------------------------------------------------------------------------------------------"
      ],
      "metadata": {
        "id": "H4GcrJsTaoMy"
      }
    },
    {
      "cell_type": "markdown",
      "source": [
        "###Q 16. What is the procedure for making a normal expression in regax case insensitive?"
      ],
      "metadata": {
        "id": "3EgDZYZGaYHa"
      }
    },
    {
      "cell_type": "markdown",
      "source": [
        "###Ans. We can pass re.IGNORECASE as a flag to make a normal expression case insensitive."
      ],
      "metadata": {
        "id": "4PqAMx7racZL"
      }
    },
    {
      "cell_type": "markdown",
      "source": [
        "-------------------------------------------------------------------------------------"
      ],
      "metadata": {
        "id": "j-bKnY6Xalda"
      }
    },
    {
      "cell_type": "markdown",
      "source": [
        "###Q 17. What does the . character normally match? What does it match if re.DOTALL is passed as 2nd argument in re.compile()?"
      ],
      "metadata": {
        "id": "I5aBjiQlatji"
      }
    },
    {
      "cell_type": "markdown",
      "source": [
        "###Ans.The . character normally matches any character except the newline character. If re.DOTALL is passed as the second argument to re.compile(), then the dot will also match newline characters."
      ],
      "metadata": {
        "id": "TiMLJ5rXa5Pi"
      }
    },
    {
      "cell_type": "markdown",
      "source": [
        "---------------------------------------------------------------------------"
      ],
      "metadata": {
        "id": "RS2Cp2HZa78q"
      }
    },
    {
      "cell_type": "markdown",
      "source": [
        "###Q 18. If numReg = re.compile(r&#39;\\d+&#39;), what will numRegex.sub(&#39;X&#39;, &#39;11 drummers, 10 pipers, five rings, 4 hen&#39;) return?"
      ],
      "metadata": {
        "id": "pSXe3gBza9PB"
      }
    },
    {
      "cell_type": "markdown",
      "source": [
        "###Ans.The output will be 'X drummers, X pipers, five rings, X hens' import re."
      ],
      "metadata": {
        "id": "vGkcl0e_bDPy"
      }
    },
    {
      "cell_type": "code",
      "source": [
        "import re\n",
        "numReg = re.compile(r'\\d+')\n",
        "numReg.sub('X', '11 drummers, 10 pipers, five rings, 4 hen')"
      ],
      "metadata": {
        "colab": {
          "base_uri": "https://localhost:8080/",
          "height": 35
        },
        "id": "II7ypCzybN6d",
        "outputId": "7cc7bc89-8e01-4c4b-f96b-23e55c94d096"
      },
      "execution_count": 1,
      "outputs": [
        {
          "output_type": "execute_result",
          "data": {
            "text/plain": [
              "'X drummers, X pipers, five rings, X hen'"
            ],
            "application/vnd.google.colaboratory.intrinsic+json": {
              "type": "string"
            }
          },
          "metadata": {},
          "execution_count": 1
        }
      ]
    },
    {
      "cell_type": "markdown",
      "source": [
        "------------------------------------------------------------------------------------------------------"
      ],
      "metadata": {
        "id": "57plV9SMbRjL"
      }
    },
    {
      "cell_type": "markdown",
      "source": [
        "###Q 19. What does passing re.VERBOSE as the 2nd argument to re.compile() allow to do?"
      ],
      "metadata": {
        "id": "_bX9OMNpbS9b"
      }
    },
    {
      "cell_type": "markdown",
      "source": [
        "###Ans. re.VERBOSE will allow to add whitespace and comments to string passed to re.compile()."
      ],
      "metadata": {
        "id": "y7hqp_UjbZma"
      }
    },
    {
      "cell_type": "code",
      "source": [
        "# Without Using VERBOSE\n",
        "regex_email = re.compile(r'^([a-z0-9_\\.-]+)@([0-9a-z\\.-]+)\\.([a-z\\.]{2, 6})$', re.IGNORECASE)\n",
        "\n",
        "# Using VERBOSE\n",
        "regex_email = re.compile(r\"\"\"\n",
        "                            ^([a-z0-9_\\.-]+)              # local Part like username\n",
        "                            @                             # single @ sign\n",
        "                            ([0-9a-z\\.-]+)                # Domain name like google\n",
        "                            \\.                            # single Dot .\n",
        "                            ([a-z]{2,6})$                 # Top level Domain  like com/in/org\n",
        "                         \"\"\",re.VERBOSE | re.IGNORECASE)"
      ],
      "metadata": {
        "id": "LvbAnuYgbgVq"
      },
      "execution_count": 2,
      "outputs": []
    },
    {
      "cell_type": "markdown",
      "source": [
        "---------------------------------------------------------------------------------------------------------------------------------------------"
      ],
      "metadata": {
        "id": "c1JSwRv_boTn"
      }
    },
    {
      "cell_type": "markdown",
      "source": [
        "###Q 20. How would you write a regex that match a number with comma for every three digits? It must match the given following:\n",
        "&#39;42&#39;\n",
        "\n",
        "&#39;1,234&#39;\n",
        "\n",
        "&#39;6,368,745&#39;\n",
        "\n",
        "but not the following:\n",
        "&#39;12,34,567&#39;\n",
        "\n",
        " (which has only two digits between the commas)\n",
        "\n",
        "&#39;1234&#39;\n",
        "\n",
        " (which lacks commas)"
      ],
      "metadata": {
        "id": "NgAVwYtbbrxK"
      }
    },
    {
      "cell_type": "markdown",
      "source": [
        "###Ans."
      ],
      "metadata": {
        "id": "7EDiJFYabyyq"
      }
    },
    {
      "cell_type": "code",
      "source": [
        "import re\n",
        "pattern = r'^\\d{1,3}(,\\d{3})*$'\n",
        "pagex = re.compile(pattern)\n",
        "for ele in ['42','1,234', '6,368,745','12,34,567','1234']:\n",
        "    print('Output:',ele, '->', pagex.search(ele))"
      ],
      "metadata": {
        "colab": {
          "base_uri": "https://localhost:8080/"
        },
        "id": "nS1L4oR2cQJ-",
        "outputId": "1111f32a-e3ff-418d-fb88-c207b73572c9"
      },
      "execution_count": 3,
      "outputs": [
        {
          "output_type": "stream",
          "name": "stdout",
          "text": [
            "Output: 42 -> <re.Match object; span=(0, 2), match='42'>\n",
            "Output: 1,234 -> <re.Match object; span=(0, 5), match='1,234'>\n",
            "Output: 6,368,745 -> <re.Match object; span=(0, 9), match='6,368,745'>\n",
            "Output: 12,34,567 -> None\n",
            "Output: 1234 -> None\n"
          ]
        }
      ]
    },
    {
      "cell_type": "markdown",
      "source": [
        "-------------------------------------------------------------------"
      ],
      "metadata": {
        "id": "8aK8u8Aqcj6m"
      }
    },
    {
      "cell_type": "markdown",
      "source": [
        "###Q 21. How would you write a regex that matches the full name of someone whose last name is Watanabe? You can assume that the first name that comes before it will always be one word that begins with a capital letter. The regex must match the following:\n",
        "\n",
        "&#39;Haruto Watanabe&#39;\n",
        "\n",
        "&#39;Alice Watanabe&#39;\n",
        "\n",
        "&#39;RoboCop Watanabe&#39;\n",
        "\n",
        "but not the following:\n",
        "\n",
        "&#39;haruto Watanabe&#39; (where the first name is not capitalized)\n",
        "\n",
        "&#39;Mr. Watanabe&#39; (where the preceding word has a nonletter character)\n",
        "\n",
        "&#39;Watanabe&#39; (which has no first name)\n",
        "\n",
        "&#39;Haruto watanabe&#39; (where Watanabe is not capitalized)"
      ],
      "metadata": {
        "id": "uTliixjccShd"
      }
    },
    {
      "cell_type": "markdown",
      "source": [
        "###Ans."
      ],
      "metadata": {
        "id": "QpNLqkO9ci32"
      }
    },
    {
      "cell_type": "code",
      "source": [
        "import re\n",
        "pattern = r'[A-Z]{1}[a-z]*\\sWatanabe'\n",
        "namex = re.compile(pattern)\n",
        "for name in ['Haruto Watanabe','Alice Watanabe','RoboCop Watanabe','haruto Watanabe','Mr. Watanabe','Watanabe','Haruto watanabe']:\n",
        "    print('Output: ',name,'->',namex.search(name))"
      ],
      "metadata": {
        "colab": {
          "base_uri": "https://localhost:8080/"
        },
        "id": "UHPWR5d4ctDS",
        "outputId": "3a17b076-d50f-478c-fb6c-9677c3aacbfc"
      },
      "execution_count": 4,
      "outputs": [
        {
          "output_type": "stream",
          "name": "stdout",
          "text": [
            "Output:  Haruto Watanabe -> <re.Match object; span=(0, 15), match='Haruto Watanabe'>\n",
            "Output:  Alice Watanabe -> <re.Match object; span=(0, 14), match='Alice Watanabe'>\n",
            "Output:  RoboCop Watanabe -> <re.Match object; span=(4, 16), match='Cop Watanabe'>\n",
            "Output:  haruto Watanabe -> None\n",
            "Output:  Mr. Watanabe -> None\n",
            "Output:  Watanabe -> None\n",
            "Output:  Haruto watanabe -> None\n"
          ]
        }
      ]
    },
    {
      "cell_type": "markdown",
      "source": [
        "---------------------------------------------------------------------------------------------------------------------------------------"
      ],
      "metadata": {
        "id": "47DIEFDmcuGX"
      }
    },
    {
      "cell_type": "markdown",
      "source": [
        "###Q 22. How would you write a regex that matches a sentence where the first word is either Alice, Bob, or Carol; the second word is either eats, pets, or throws; the third word is apples, cats, or baseballs; and the sentence ends with a period? This regex should be case-insensitive. It must match the following:\n",
        "\n",
        "&#39;Alice eats apples.&#39;\n",
        "\n",
        "&#39;Bob pets cats.&#39;\n",
        "\n",
        "&#39;Carol throws baseballs.&#39;\n",
        "\n",
        "&#39;Alice throws Apples.&#39;\n",
        "\n",
        "&#39;BOB EATS CATS.&#39;\n",
        "\n",
        "but not the following:\n",
        "\n",
        "&#39;RoboCop eats apples.&#39;\n",
        "\n",
        "&#39;ALICE THROWS FOOTBALLS.&#39;\n",
        "\n",
        "&#39;Carol eats 7 cats.&#39;"
      ],
      "metadata": {
        "id": "7Mw5XewQcwQI"
      }
    },
    {
      "cell_type": "markdown",
      "source": [
        "###Ans."
      ],
      "metadata": {
        "id": "kN-BrI-zc-8o"
      }
    },
    {
      "cell_type": "code",
      "source": [
        "import re\n",
        "pattern = r'(Alice|Bob|Carol)\\s(eats|pets|throws)\\s(apples|cats|baseballs)\\.'\n",
        "casex = re.compile(pattern,re.IGNORECASE)\n",
        "for ele in ['Alice eats apples.','Bob pets cats.','Carol throws baseballs.','Alice throws Apples.','BOB EATS CATS.','RoboCop eats apples.'\n",
        ",'ALICE THROWS FOOTBALLS.','Carol eats 7 cats.']:\n",
        "    print('Output: ',ele,'->',casex.search(ele))"
      ],
      "metadata": {
        "colab": {
          "base_uri": "https://localhost:8080/"
        },
        "id": "QZpiGpUwdHRC",
        "outputId": "d41a2689-52bd-4a22-ac9b-da90d9560740"
      },
      "execution_count": 5,
      "outputs": [
        {
          "output_type": "stream",
          "name": "stdout",
          "text": [
            "Output:  Alice eats apples. -> <re.Match object; span=(0, 18), match='Alice eats apples.'>\n",
            "Output:  Bob pets cats. -> <re.Match object; span=(0, 14), match='Bob pets cats.'>\n",
            "Output:  Carol throws baseballs. -> <re.Match object; span=(0, 23), match='Carol throws baseballs.'>\n",
            "Output:  Alice throws Apples. -> <re.Match object; span=(0, 20), match='Alice throws Apples.'>\n",
            "Output:  BOB EATS CATS. -> <re.Match object; span=(0, 14), match='BOB EATS CATS.'>\n",
            "Output:  RoboCop eats apples. -> None\n",
            "Output:  ALICE THROWS FOOTBALLS. -> None\n",
            "Output:  Carol eats 7 cats. -> None\n"
          ]
        }
      ]
    },
    {
      "cell_type": "markdown",
      "source": [
        "----------------------------------------------End----------------------------------------------------------"
      ],
      "metadata": {
        "id": "-PcQXIM2dInD"
      }
    }
  ]
}
