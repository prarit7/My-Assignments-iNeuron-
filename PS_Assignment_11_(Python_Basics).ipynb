{
  "cells": [
    {
      "cell_type": "markdown",
      "metadata": {
        "id": "ELrzONjoyJlS"
      },
      "source": [
        "### Python (Basics) Assignment No. 11\n",
        "\n",
        "1 Batch - Full Stack Data Science Bootcamp 2.0\n",
        "\n",
        "2 Name - **Prerit Sharma**\n",
        "\n",
        "3 Email ID - **praritsharma7@gmail.com**\n"
      ]
    },
    {
      "cell_type": "markdown",
      "metadata": {
        "id": "a-G-kiiNyTgC"
      },
      "source": [
        "--------------------------------------------------------------------------------------"
      ]
    },
    {
      "cell_type": "markdown",
      "metadata": {
        "id": "epRM0sL6yWcx"
      },
      "source": [
        "###Q 1. Create an assert statement that throws an AssertionError if the variable spam is a negative integer."
      ]
    },
    {
      "cell_type": "markdown",
      "metadata": {
        "id": "7cYFMg4gybR5"
      },
      "source": [
        "###Ans."
      ]
    },
    {
      "cell_type": "code",
      "execution_count": null,
      "metadata": {
        "colab": {
          "base_uri": "https://localhost:8080/",
          "height": 183
        },
        "id": "KVGAMZLg_CwV",
        "outputId": "66acac83-a0b5-4f01-e6b6-747ccfdcf329"
      },
      "outputs": [
        {
          "output_type": "error",
          "ename": "AssertionError",
          "evalue": "ignored",
          "traceback": [
            "\u001b[0;31m---------------------------------------------------------------------------\u001b[0m",
            "\u001b[0;31mAssertionError\u001b[0m                            Traceback (most recent call last)",
            "\u001b[0;32m<ipython-input-48-b2f234f3cdae>\u001b[0m in \u001b[0;36m<cell line: 2>\u001b[0;34m()\u001b[0m\n\u001b[1;32m      1\u001b[0m \u001b[0mspam\u001b[0m \u001b[0;34m=\u001b[0m \u001b[0;34m-\u001b[0m\u001b[0;36m40\u001b[0m\u001b[0;34m\u001b[0m\u001b[0;34m\u001b[0m\u001b[0m\n\u001b[0;32m----> 2\u001b[0;31m \u001b[0;32massert\u001b[0m \u001b[0mspam\u001b[0m \u001b[0;34m>\u001b[0m \u001b[0;36m0\u001b[0m\u001b[0;34m,\u001b[0m \u001b[0;34m'The spam variable is a negative integer.'\u001b[0m\u001b[0;34m\u001b[0m\u001b[0;34m\u001b[0m\u001b[0m\n\u001b[0m",
            "\u001b[0;31mAssertionError\u001b[0m: The spam variable is a negative integer."
          ]
        }
      ],
      "source": [
        "spam = -40\n",
        "assert spam > 0, 'The spam variable is a negative integer.'\n",
        "\n",
        "\n",
        "#the assert statement is used to continue the execute if the given condition evaluates to True. If the assert condition evaluates to False, then it raises the AssertionError exception with the specified error message."
      ]
    },
    {
      "cell_type": "markdown",
      "metadata": {
        "id": "10E5AOxXydFB"
      },
      "source": [
        "---------------------------"
      ]
    },
    {
      "cell_type": "markdown",
      "metadata": {
        "id": "J24JdN0dyd7Z"
      },
      "source": [
        "###Q 2. Write an assert statement that triggers an AssertionError if the variables eggs and bacon contain strings that are the same as each other, even if their cases are different (that is, &#39;hello&#39; and &#39;hello&#39;are considered the same, and &#39;goodbye&#39; and &#39;GOODbye&#39; are also considered the same)."
      ]
    },
    {
      "cell_type": "markdown",
      "metadata": {
        "id": "r12poagbyjJB"
      },
      "source": [
        "###Ans.\n"
      ]
    },
    {
      "cell_type": "code",
      "execution_count": null,
      "metadata": {
        "id": "2LIP-TO5_nd1"
      },
      "outputs": [],
      "source": [
        "def raise_assert(egg,bacon):\n",
        "    egg = egg.upper()\n",
        "    bacon = bacon.upper()\n",
        "    assert not(egg == bacon), 'Eggs/Bacon should not be same, which are same now'"
      ]
    },
    {
      "cell_type": "code",
      "execution_count": null,
      "metadata": {
        "colab": {
          "base_uri": "https://localhost:8080/",
          "height": 252
        },
        "id": "xvIIsOZS_uN9",
        "outputId": "a2ebd957-3447-4c1b-ade5-4a5a55056e0d"
      },
      "outputs": [
        {
          "ename": "AssertionError",
          "evalue": "ignored",
          "output_type": "error",
          "traceback": [
            "\u001b[0;31m---------------------------------------------------------------------------\u001b[0m",
            "\u001b[0;31mAssertionError\u001b[0m                            Traceback (most recent call last)",
            "\u001b[0;32m<ipython-input-9-66993e9183bf>\u001b[0m in \u001b[0;36m<cell line: 1>\u001b[0;34m()\u001b[0m\n\u001b[0;32m----> 1\u001b[0;31m \u001b[0mraise_assert\u001b[0m\u001b[0;34m(\u001b[0m\u001b[0;34m'hello'\u001b[0m\u001b[0;34m,\u001b[0m\u001b[0;34m'HELLO'\u001b[0m\u001b[0;34m)\u001b[0m\u001b[0;34m\u001b[0m\u001b[0;34m\u001b[0m\u001b[0m\n\u001b[0m",
            "\u001b[0;32m<ipython-input-8-aeff50e9b554>\u001b[0m in \u001b[0;36mraise_assert\u001b[0;34m(egg, bacon)\u001b[0m\n\u001b[1;32m      2\u001b[0m     \u001b[0megg\u001b[0m \u001b[0;34m=\u001b[0m \u001b[0megg\u001b[0m\u001b[0;34m.\u001b[0m\u001b[0mupper\u001b[0m\u001b[0;34m(\u001b[0m\u001b[0;34m)\u001b[0m\u001b[0;34m\u001b[0m\u001b[0;34m\u001b[0m\u001b[0m\n\u001b[1;32m      3\u001b[0m     \u001b[0mbacon\u001b[0m \u001b[0;34m=\u001b[0m \u001b[0mbacon\u001b[0m\u001b[0;34m.\u001b[0m\u001b[0mupper\u001b[0m\u001b[0;34m(\u001b[0m\u001b[0;34m)\u001b[0m\u001b[0;34m\u001b[0m\u001b[0;34m\u001b[0m\u001b[0m\n\u001b[0;32m----> 4\u001b[0;31m     \u001b[0;32massert\u001b[0m \u001b[0;32mnot\u001b[0m\u001b[0;34m(\u001b[0m\u001b[0megg\u001b[0m \u001b[0;34m==\u001b[0m \u001b[0mbacon\u001b[0m\u001b[0;34m)\u001b[0m\u001b[0;34m,\u001b[0m \u001b[0;34m'Eggs/Bacon should not be same, which are same now'\u001b[0m\u001b[0;34m\u001b[0m\u001b[0;34m\u001b[0m\u001b[0m\n\u001b[0m",
            "\u001b[0;31mAssertionError\u001b[0m: Eggs/Bacon should not be same, which are same now"
          ]
        }
      ],
      "source": [
        "raise_assert('hello','HELLO')"
      ]
    },
    {
      "cell_type": "code",
      "source": [
        "raise_assert('goodbye','GOODbye')"
      ],
      "metadata": {
        "colab": {
          "base_uri": "https://localhost:8080/",
          "height": 175
        },
        "id": "DhS1VPVnQ_y9",
        "outputId": "bf2624c2-7847-4b3d-e1c2-e8ece2abba61"
      },
      "execution_count": 2,
      "outputs": [
        {
          "output_type": "error",
          "ename": "NameError",
          "evalue": "ignored",
          "traceback": [
            "\u001b[0;31m---------------------------------------------------------------------------\u001b[0m",
            "\u001b[0;31mNameError\u001b[0m                                 Traceback (most recent call last)",
            "\u001b[0;32m<ipython-input-2-5322ce220e06>\u001b[0m in \u001b[0;36m<cell line: 1>\u001b[0;34m()\u001b[0m\n\u001b[0;32m----> 1\u001b[0;31m \u001b[0mraise_assert\u001b[0m\u001b[0;34m(\u001b[0m\u001b[0;34m'goodbye'\u001b[0m\u001b[0;34m,\u001b[0m\u001b[0;34m'GOODbye'\u001b[0m\u001b[0;34m)\u001b[0m\u001b[0;34m\u001b[0m\u001b[0;34m\u001b[0m\u001b[0m\n\u001b[0m",
            "\u001b[0;31mNameError\u001b[0m: name 'raise_assert' is not defined"
          ]
        }
      ]
    },
    {
      "cell_type": "markdown",
      "metadata": {
        "id": "XgDOpBKtyl-5"
      },
      "source": [
        "-----------------------------------------------------------------------------"
      ]
    },
    {
      "cell_type": "markdown",
      "metadata": {
        "id": "P7CaUVZvynIZ"
      },
      "source": [
        "###Q 3. Create an assert statement that throws an AssertionError every time."
      ]
    },
    {
      "cell_type": "markdown",
      "metadata": {
        "id": "FFAOfSU0yrIA"
      },
      "source": [
        "###Ans."
      ]
    },
    {
      "cell_type": "code",
      "execution_count": null,
      "metadata": {
        "colab": {
          "base_uri": "https://localhost:8080/",
          "height": 287
        },
        "id": "lh_CCPmI_01V",
        "outputId": "dd6664d9-376c-4d0c-f57f-4c4d658e03a5"
      },
      "outputs": [
        {
          "ename": "AssertionError",
          "evalue": "ignored",
          "output_type": "error",
          "traceback": [
            "\u001b[0;31m---------------------------------------------------------------------------\u001b[0m",
            "\u001b[0;31mAssertionError\u001b[0m                            Traceback (most recent call last)",
            "\u001b[0;32m<ipython-input-10-b25c0da8a33f>\u001b[0m in \u001b[0;36m<cell line: 3>\u001b[0;34m()\u001b[0m\n\u001b[1;32m      1\u001b[0m \u001b[0;32mdef\u001b[0m \u001b[0massert_always\u001b[0m\u001b[0;34m(\u001b[0m\u001b[0;34m)\u001b[0m\u001b[0;34m:\u001b[0m\u001b[0;34m\u001b[0m\u001b[0;34m\u001b[0m\u001b[0m\n\u001b[1;32m      2\u001b[0m     \u001b[0;32massert\u001b[0m \u001b[0;32mFalse\u001b[0m\u001b[0;34m,\u001b[0m \u001b[0;34m'Always Shows Assertion Error'\u001b[0m\u001b[0;34m\u001b[0m\u001b[0;34m\u001b[0m\u001b[0m\n\u001b[0;32m----> 3\u001b[0;31m \u001b[0massert_always\u001b[0m\u001b[0;34m(\u001b[0m\u001b[0;34m)\u001b[0m\u001b[0;34m\u001b[0m\u001b[0;34m\u001b[0m\u001b[0m\n\u001b[0m",
            "\u001b[0;32m<ipython-input-10-b25c0da8a33f>\u001b[0m in \u001b[0;36massert_always\u001b[0;34m()\u001b[0m\n\u001b[1;32m      1\u001b[0m \u001b[0;32mdef\u001b[0m \u001b[0massert_always\u001b[0m\u001b[0;34m(\u001b[0m\u001b[0;34m)\u001b[0m\u001b[0;34m:\u001b[0m\u001b[0;34m\u001b[0m\u001b[0;34m\u001b[0m\u001b[0m\n\u001b[0;32m----> 2\u001b[0;31m     \u001b[0;32massert\u001b[0m \u001b[0;32mFalse\u001b[0m\u001b[0;34m,\u001b[0m \u001b[0;34m'Always Shows Assertion Error'\u001b[0m\u001b[0;34m\u001b[0m\u001b[0;34m\u001b[0m\u001b[0m\n\u001b[0m\u001b[1;32m      3\u001b[0m \u001b[0massert_always\u001b[0m\u001b[0;34m(\u001b[0m\u001b[0;34m)\u001b[0m\u001b[0;34m\u001b[0m\u001b[0;34m\u001b[0m\u001b[0m\n",
            "\u001b[0;31mAssertionError\u001b[0m: Always Shows Assertion Error"
          ]
        }
      ],
      "source": [
        "def assert_always():\n",
        "    assert False, 'Always Shows Assertion Error'\n",
        "assert_always()"
      ]
    },
    {
      "cell_type": "markdown",
      "metadata": {
        "id": "7Id3o2Fgys3g"
      },
      "source": [
        "---------------------------------------------------------------------------------------------------------------------------------------------------------------------------"
      ]
    },
    {
      "cell_type": "markdown",
      "metadata": {
        "id": "z4b2_-ZfzAn5"
      },
      "source": [
        "###Q 4. What are the two lines that must be present in your software in order to call logging.debug()?"
      ]
    },
    {
      "cell_type": "markdown",
      "metadata": {
        "id": "CLZju0N6zDpw"
      },
      "source": [
        "###Ans.\n"
      ]
    },
    {
      "cell_type": "code",
      "execution_count": null,
      "metadata": {
        "id": "4-UuetH9_3r1"
      },
      "outputs": [],
      "source": [
        "import logging\n",
        "logging.basicConfig(filename = 'application_log.txt',level=logging.DEBUG, format=' %(asctime)s - %(levelname)s - %(message)s')"
      ]
    },
    {
      "cell_type": "markdown",
      "metadata": {
        "id": "WncGFLp-zGEi"
      },
      "source": [
        "--------------------"
      ]
    },
    {
      "cell_type": "markdown",
      "metadata": {
        "id": "3GGIS0B7zGyJ"
      },
      "source": [
        "###Q 5. What are the two lines that your program must have in order to have logging.debug() send a logging message to a file named programLog.txt?"
      ]
    },
    {
      "cell_type": "markdown",
      "metadata": {
        "id": "kBufh8MozM25"
      },
      "source": [
        "###Ans.\n"
      ]
    },
    {
      "cell_type": "code",
      "execution_count": null,
      "metadata": {
        "id": "CYc2p2t6ACtd"
      },
      "outputs": [],
      "source": [
        "import logging\n",
        "logging.basicConfig(filename = 'application_log.txt',level=logging.DEBUG, format=' %(asctime)s - %(levelname)s - %(message)s')\n",
        "logging.debug(\"Data Inserted Successfully\")\n",
        "logging.debug('Connection Closed Successfully')"
      ]
    },
    {
      "cell_type": "code",
      "execution_count": null,
      "metadata": {
        "id": "lTkovR0uAHYc"
      },
      "outputs": [],
      "source": [
        "file = open(\"./sample_data/application_log.txt\",\"r\")\n",
        "for record in file.readlines():\n",
        "    print(record)"
      ]
    },
    {
      "cell_type": "markdown",
      "source": [
        "   DEBUG - Data Inserted Successfully\n",
        "\n",
        "   DEBUG - Connection Closed Successfully   "
      ],
      "metadata": {
        "id": "5WqkNALUvMAp"
      }
    },
    {
      "cell_type": "markdown",
      "metadata": {
        "id": "YE1wBcXEzOtw"
      },
      "source": [
        "---------------------------------"
      ]
    },
    {
      "cell_type": "markdown",
      "metadata": {
        "id": "koe0iQ-azPmi"
      },
      "source": [
        "###Q 6. What are the five levels of logging?"
      ]
    },
    {
      "cell_type": "markdown",
      "metadata": {
        "id": "AhIlWpVKzTep"
      },
      "source": [
        "###Ans.The Five levels of Logging provided by Python's Logging Module are CRITICAL(50), ERROR(40), WARNING(30), INFO(20), DEBUG(10), NOTSET(0)."
      ]
    },
    {
      "cell_type": "markdown",
      "metadata": {
        "id": "g-yGjPqJzVKS"
      },
      "source": [
        "-------------------------------------"
      ]
    },
    {
      "cell_type": "markdown",
      "metadata": {
        "id": "TFDZj_GjzWaA"
      },
      "source": [
        "###Q 7. What line of code would you add to your software to disable all logging messages?"
      ]
    },
    {
      "cell_type": "markdown",
      "metadata": {
        "id": "M3XslZsozaCC"
      },
      "source": [
        "###Ans.logging.disable = True"
      ]
    },
    {
      "cell_type": "markdown",
      "metadata": {
        "id": "v9KL3oK3zeDy"
      },
      "source": [
        "-------------------------------------------------"
      ]
    },
    {
      "cell_type": "markdown",
      "metadata": {
        "id": "C6Ftw4pYzgcN"
      },
      "source": [
        "###Q 8.Why is using logging messages better than using print() to display the same message?\n"
      ]
    },
    {
      "cell_type": "markdown",
      "metadata": {
        "id": "lWcrjaPpzlG4"
      },
      "source": [
        "###Ans. You can disable logging messages without removing the logging function calls. You can selectively disable lower-level logging messages. You can create logging messages. Logging messages provides a timestamp.\n"
      ]
    },
    {
      "cell_type": "markdown",
      "metadata": {
        "id": "EUoMbGDCzoSw"
      },
      "source": [
        "---------------------------\n"
      ]
    },
    {
      "cell_type": "markdown",
      "metadata": {
        "id": "do3uDmojzpSI"
      },
      "source": [
        "###Q 9. What are the differences between the Step Over, Step In, and Step Out buttons in the debugger?"
      ]
    },
    {
      "cell_type": "markdown",
      "metadata": {
        "id": "DoR5h6CozuI5"
      },
      "source": [
        "###Ans.The Differences between Step Over, Step In, Step Out buttons in debugger are:\n",
        "\n",
        "1.Step in - Step In button will cause the debugger to execute the next line of code and then pause again.\n",
        "\n",
        "2.Step Over - Step Over button will execute the next line of code, similar to the Step In button. However, if the next line of code is a function call, the Step Over button will “step over” the code in the function. The function’s code will be executed at full speed, and the debugger will pause as soon as the function call returns.\n",
        "\n",
        "3.Step out - Step Out button will cause the debugger to execute lines of code at full speed until it returns from the current function."
      ]
    },
    {
      "cell_type": "markdown",
      "metadata": {
        "id": "46GAsc60zxIw"
      },
      "source": [
        "-----------------------------"
      ]
    },
    {
      "cell_type": "markdown",
      "metadata": {
        "id": "mAfsyZqYzz8h"
      },
      "source": [
        "###Q 10.After you click Continue, when will the debugger stop ?"
      ]
    },
    {
      "cell_type": "markdown",
      "metadata": {
        "id": "J8NhB0xjz2NZ"
      },
      "source": [
        "###Ans. After you click Continue, the debugger will stop when it has reached the end of the program or a line with a breakpoint."
      ]
    },
    {
      "cell_type": "markdown",
      "metadata": {
        "id": "n7QSgq0yz4bh"
      },
      "source": [
        "------------------------------------"
      ]
    },
    {
      "cell_type": "markdown",
      "metadata": {
        "id": "Mi8HdNf8z58A"
      },
      "source": [
        "###Q 11. What is the concept of a breakpoint?"
      ]
    },
    {
      "cell_type": "markdown",
      "metadata": {
        "id": "L99MsMJ9z9-R"
      },
      "source": [
        "\n",
        "###Ans. Breakpoint is a setting on a line of code that causes the debugger to pause when the program execution reaches the line."
      ]
    },
    {
      "cell_type": "markdown",
      "metadata": {
        "id": "DfpllT4K0D-R"
      },
      "source": [
        "-----------------------------------------------------------------------End-----------------------------------------------------------------------------------------------------------"
      ]
    }
  ],
  "metadata": {
    "colab": {
      "provenance": []
    },
    "kernelspec": {
      "display_name": "Python 3",
      "name": "python3"
    },
    "language_info": {
      "name": "python"
    }
  },
  "nbformat": 4,
  "nbformat_minor": 0
}