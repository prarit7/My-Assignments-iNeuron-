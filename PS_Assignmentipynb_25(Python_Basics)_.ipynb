{
  "nbformat": 4,
  "nbformat_minor": 0,
  "metadata": {
    "colab": {
      "provenance": []
    },
    "kernelspec": {
      "name": "python3",
      "display_name": "Python 3"
    },
    "language_info": {
      "name": "python"
    }
  },
  "cells": [
    {
      "cell_type": "markdown",
      "source": [
        "### Python (Basics) Assignment No. 25\n",
        "\n",
        "1 Batch - Full Stack Data Science Bootcamp 2.0\n",
        "\n",
        "2 Name - **Prerit Sharma**\n",
        "\n",
        "3 Email ID - **praritsharma7@gmail.com**"
      ],
      "metadata": {
        "id": "mdQ6ym7Ng8Hh"
      }
    },
    {
      "cell_type": "markdown",
      "source": [
        "\n",
        "\n",
        "---\n",
        "\n"
      ],
      "metadata": {
        "id": "WkMADatFg-HA"
      }
    },
    {
      "cell_type": "markdown",
      "source": [
        "###Q 1) . What is the difference between enclosing a list comprehension in square brackets and parentheses?"
      ],
      "metadata": {
        "id": "oBJZxb_9hFI1"
      }
    },
    {
      "cell_type": "markdown",
      "source": [
        "###Ans.\n",
        "The difference between the two kinds of expressions is that the List comprehension is enclosed in square brackets [] while the Generator expression is enclosed in plain parentheses ()"
      ],
      "metadata": {
        "id": "wq7MbRQzhJdW"
      }
    },
    {
      "cell_type": "markdown",
      "source": [
        "\n",
        "\n",
        "---\n",
        "\n"
      ],
      "metadata": {
        "id": "2mATNGihhb1T"
      }
    },
    {
      "cell_type": "markdown",
      "source": [
        "###Q 2) What is the relationship between generators and iterators?"
      ],
      "metadata": {
        "id": "Ccql9w7hhi5R"
      }
    },
    {
      "cell_type": "markdown",
      "source": [
        "###Ans.\n",
        "Generators : It is another way of creating iterators in a simple way where it uses the keyword “yield” instead of returning it in a defined function. Generators are implemented using a function. Just as iterators, generators also follow lazy evaluation. Here, the yield function returns the data without affecting or exiting the function. It will return a sequence of data in an iterable format where we need to iterate over the sequence to use the data as they won’t store the entire sequence in the memory.\n",
        "\n",
        "Iterators : An iterator is an object which contains a countable number of values and it is used to iterate over iterable objects like list, tuples, sets, etc. Iterators are implemented using a class and a local variable for iterating is not required here, It follows lazy evaluation where the evaluation of the expression will be on hold and stored in the memory until the item is called specifically which helps us to avoid repeated evaluation. As lazy evaluation is implemented, it requires only 1 memory location to process the value and when we are using a large dataset then, wastage of RAM space will be reduced the need to load the entire dataset at the same time will not be there."
      ],
      "metadata": {
        "id": "nF9e5-OuhlvA"
      }
    },
    {
      "cell_type": "code",
      "source": [
        "# iterator\n",
        "iter_list = iter(['Dog', 'CAt', 'Bear'])\n",
        "print(type(iter_list))\n",
        "print(next(iter_list))\n",
        "print(next(iter_list))\n",
        "print(next(iter_list))"
      ],
      "metadata": {
        "colab": {
          "base_uri": "https://localhost:8080/"
        },
        "id": "_XF_6s-wh0Q7",
        "outputId": "6cf4e9e4-0410-4bc1-f279-308e73e2ad22"
      },
      "execution_count": 1,
      "outputs": [
        {
          "output_type": "stream",
          "name": "stdout",
          "text": [
            "<class 'list_iterator'>\n",
            "Dog\n",
            "CAt\n",
            "Bear\n"
          ]
        }
      ]
    },
    {
      "cell_type": "code",
      "source": [
        "# Generator\n",
        "\n",
        "def sq(n):\n",
        "    for i in range(1, n+1):\n",
        "        yield i*i\n",
        "\n",
        "sq(6)"
      ],
      "metadata": {
        "colab": {
          "base_uri": "https://localhost:8080/"
        },
        "id": "6yDdvJRih1S4",
        "outputId": "736f6266-e4bd-49df-fb77-8d8fddcf0c3c"
      },
      "execution_count": 2,
      "outputs": [
        {
          "output_type": "execute_result",
          "data": {
            "text/plain": [
              "<generator object sq at 0x7a5c96841070>"
            ]
          },
          "metadata": {},
          "execution_count": 2
        }
      ]
    },
    {
      "cell_type": "code",
      "source": [
        "lst = sq(6)\n",
        "lst"
      ],
      "metadata": {
        "colab": {
          "base_uri": "https://localhost:8080/"
        },
        "id": "JEWGVChrh4ow",
        "outputId": "b14c6cc6-f05f-42d5-8508-d2c5c7499fa5"
      },
      "execution_count": 3,
      "outputs": [
        {
          "output_type": "execute_result",
          "data": {
            "text/plain": [
              "<generator object sq at 0x7a5c96840eb0>"
            ]
          },
          "metadata": {},
          "execution_count": 3
        }
      ]
    },
    {
      "cell_type": "code",
      "source": [
        "print(next(lst))\n",
        "print(next(lst))\n",
        "print(next(lst))\n",
        "print(next(lst))"
      ],
      "metadata": {
        "colab": {
          "base_uri": "https://localhost:8080/"
        },
        "id": "Qiw-I3mdh-te",
        "outputId": "90ea0816-deeb-4953-be0e-384081e455e5"
      },
      "execution_count": 4,
      "outputs": [
        {
          "output_type": "stream",
          "name": "stdout",
          "text": [
            "1\n",
            "4\n",
            "9\n",
            "16\n"
          ]
        }
      ]
    },
    {
      "cell_type": "markdown",
      "source": [
        "\n",
        "\n",
        "---\n",
        "\n"
      ],
      "metadata": {
        "id": "4G_SEhpXisZp"
      }
    },
    {
      "cell_type": "markdown",
      "source": [
        "###Q 3) What are the signs that a function is a generator function?"
      ],
      "metadata": {
        "id": "bMqB2zwfiAB-"
      }
    },
    {
      "cell_type": "markdown",
      "source": [
        "###Ans.\n",
        "A generator function uses a yield statement instead of a return statement. A generator function will always return a iterable object called generator. where as a normal function can return a string/list/tuple/dict/NoneType etc.\n",
        "\n"
      ],
      "metadata": {
        "id": "3f02KE0YiDe-"
      }
    },
    {
      "cell_type": "markdown",
      "source": [
        "\n",
        "\n",
        "---\n",
        "\n"
      ],
      "metadata": {
        "id": "WJ_nc47oiIEE"
      }
    },
    {
      "cell_type": "markdown",
      "source": [
        "###Q 4) What is the purpose of a yield statement?"
      ],
      "metadata": {
        "id": "k1IG6JMRiIzE"
      }
    },
    {
      "cell_type": "markdown",
      "source": [
        "###Ans.\n",
        "A yield statement looks much like a return statement, except that instead of stopping execution of the function and returning, yield instead provides a value to the code looping over the generator and pauses execution of the generator function."
      ],
      "metadata": {
        "id": "NZteAzjwiMZE"
      }
    },
    {
      "cell_type": "markdown",
      "source": [
        "\n",
        "\n",
        "---\n",
        "\n"
      ],
      "metadata": {
        "id": "p_fC9Up4iVu8"
      }
    },
    {
      "cell_type": "markdown",
      "source": [
        "###Q 5) What is the relationship between map calls and list comprehensions? Make a comparison and contrast between the two."
      ],
      "metadata": {
        "id": "uYZu5fPeiWV8"
      }
    },
    {
      "cell_type": "markdown",
      "source": [
        "###Ans.\n",
        "Map function: Suppose we have a function and we want to compute this function for different values in a single line of code . This is where map() function plays its role. map() function returns a map object(which is an iterator) of the results after applying the given function to each item of a given iterable (list, tuple etc.)\n",
        "\n",
        "If we already have a function defined, it is often good to use map For example, map(sum, myLists) is more neat than [sum(x) for x in myLists]. You gain the elegance of not having to make up a dummy variable (e.g. sum(x) for x... or sum() for ... or sum(readableName) for readableName...) which you have to type twice, just to iterate.\n",
        "\n",
        "List Comprehension: List Comprehension is a substitute for the lambda function, map(), filter() and reduce()\n",
        "\n",
        "Comparision :\n",
        "\n",
        "1.List comprehension is more concise and easier to read as compared to map\n",
        "\n",
        "2.List comprehension allows filtering. In map, we have no such facility For example, to print all even numbers in range of 100, we can write [n for n in range(100) if n%2 == 0]. There is no alternate for it in map\n",
        "\n",
        "3.List comprehension are used when a list of results is required, where as map only returns a map object and does not return any list.\n",
        "\n",
        "4.List comprehension is faster than map when we need to evaluate expressions that are too long or complicated to express\n",
        "\n",
        "5.Map is faster in case of calling an already defined function (as no lambda is required)"
      ],
      "metadata": {
        "id": "oa3zjfYMiNEt"
      }
    },
    {
      "cell_type": "markdown",
      "source": [
        "---------------------------------------------------------End-----------------------------------------------------------------------------------------\n",
        "\n"
      ],
      "metadata": {
        "id": "6ndamnm4huDf"
      }
    }
  ]
}