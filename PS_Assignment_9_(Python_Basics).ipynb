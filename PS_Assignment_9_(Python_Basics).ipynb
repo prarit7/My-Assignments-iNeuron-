{
  "nbformat": 4,
  "nbformat_minor": 0,
  "metadata": {
    "colab": {
      "provenance": []
    },
    "kernelspec": {
      "name": "python3",
      "display_name": "Python 3"
    },
    "language_info": {
      "name": "python"
    }
  },
  "cells": [
    {
      "cell_type": "markdown",
      "source": [
        "### Python (Basics) Assignment No. 9\n",
        "\n",
        "1 Batch - Full Stack Data Science Bootcamp 2.0\n",
        "\n",
        "2 Name - **Prerit Sharma**\n",
        "\n",
        "3 Email ID - **praritsharma7@gmail.com**"
      ],
      "metadata": {
        "id": "DkjZ022ffCFl"
      }
    },
    {
      "cell_type": "markdown",
      "source": [
        "----------------------------------------------------------------------------------------------------------------------------"
      ],
      "metadata": {
        "id": "Xh7wc9p0fRAe"
      }
    },
    {
      "cell_type": "markdown",
      "source": [
        "###Q 1. To what does a relative path refer?"
      ],
      "metadata": {
        "id": "8Von9ydAfSqk"
      }
    },
    {
      "cell_type": "markdown",
      "source": [
        "###Ans.Relative paths are relative to the current working directory."
      ],
      "metadata": {
        "id": "O8YC7EFWffu4"
      }
    },
    {
      "cell_type": "markdown",
      "source": [
        "--------------------------------------------------------------------------------------------------"
      ],
      "metadata": {
        "id": "Xq4k1q2jfrNN"
      }
    },
    {
      "cell_type": "markdown",
      "source": [
        "###Q 2. What does an absolute path start with your operating system?"
      ],
      "metadata": {
        "id": "yh-82mAPfx8U"
      }
    },
    {
      "cell_type": "markdown",
      "source": [
        "###Ans.Absolute paths start with the root folder, such as / or C:. An absolute path always contains the root elements and the complete list of directories to locate the specific file or folder. All the information required to locate the file or folder is available in the absolute path."
      ],
      "metadata": {
        "id": "xVJrDw3Jf4pw"
      }
    },
    {
      "cell_type": "markdown",
      "source": [
        "---------------------------------------------------------------------------------------------------------------------"
      ],
      "metadata": {
        "id": "1bArL6d4gB6c"
      }
    },
    {
      "cell_type": "markdown",
      "source": [
        "###Q 3. What do the functions os.getcwd() and os.chdir() do?"
      ],
      "metadata": {
        "id": "GA9sZRCHgDv8"
      }
    },
    {
      "cell_type": "markdown",
      "source": [
        "###Ans.The os.getcwd() function returns the current working directory. The os.chdir() function changes the current working directory."
      ],
      "metadata": {
        "id": "1YYYSDdlgQDl"
      }
    },
    {
      "cell_type": "markdown",
      "source": [
        "--------------------------------------------------------------------------------------------------  "
      ],
      "metadata": {
        "id": "I8Hu4lEegX7U"
      }
    },
    {
      "cell_type": "markdown",
      "source": [
        "###Q 4. What are the . and .. folders?"
      ],
      "metadata": {
        "id": "M3knMOM1gbaU"
      }
    },
    {
      "cell_type": "markdown",
      "source": [
        "###Ans.The . folder is the current folder, and .. is the parent folder."
      ],
      "metadata": {
        "id": "Zh8AZvrNgghj"
      }
    },
    {
      "cell_type": "markdown",
      "source": [
        "-------------------------------------------------------------------------------------------------"
      ],
      "metadata": {
        "id": "LNiGIl1jg2vb"
      }
    },
    {
      "cell_type": "markdown",
      "source": [
        "###Q 5. In C:\\bacon\\eggs\\spam.txt, which part is the dir name, and which part is the base name?"
      ],
      "metadata": {
        "id": "NaAM8w94g5BT"
      }
    },
    {
      "cell_type": "markdown",
      "source": [
        "###Ans.C:\\bacon\\eggs is the dir name, while spam.txt is the base name."
      ],
      "metadata": {
        "id": "ZLlEyDA4g-l7"
      }
    },
    {
      "cell_type": "markdown",
      "source": [
        "--------------------------------------------------------------------------"
      ],
      "metadata": {
        "id": "WHnOq2jHhDys"
      }
    },
    {
      "cell_type": "markdown",
      "source": [
        "###Q 6. What are the three “mode” arguments that can be passed to the open() function?"
      ],
      "metadata": {
        "id": "xYJ1uWMOhF8s"
      }
    },
    {
      "cell_type": "markdown",
      "source": [
        "###Ans.The string 'r' for read mode, 'w' for write mode, and 'a' for append mode"
      ],
      "metadata": {
        "id": "c2PRAWzEhYOs"
      }
    },
    {
      "cell_type": "markdown",
      "source": [
        "--------------------------------------------------------------------------------------"
      ],
      "metadata": {
        "id": "I7KZZaUghhg0"
      }
    },
    {
      "cell_type": "markdown",
      "source": [
        "###Q 7. What happens if an existing file is opened in write mode?"
      ],
      "metadata": {
        "id": "1IEeN7jnhizM"
      }
    },
    {
      "cell_type": "markdown",
      "source": [
        "###Ans.An existing file opened in write mode is erased and completely overwritten."
      ],
      "metadata": {
        "id": "48iMM3zfmA3q"
      }
    },
    {
      "cell_type": "markdown",
      "source": [
        "----------------------------------------------------"
      ],
      "metadata": {
        "id": "JzTCUeOvmGqR"
      }
    },
    {
      "cell_type": "markdown",
      "source": [
        "###Q 8. How do you tell the difference between read() and readlines()?"
      ],
      "metadata": {
        "id": "FXvBdzromHtL"
      }
    },
    {
      "cell_type": "markdown",
      "source": [
        "###Ans. The main difference is that read() will read the whole file at once and then print out the first characters that take up as many bytes as we specify in the parenthesis\n",
        "\n",
        "###where as the readline() that will read and print out only the first characters that take up as many bytes as we specify in the parenthesis. We may want to use readline() when we are reading files that are too big for our RAM.\n",
        "\n",
        "###The read() would treat each character in the file separately, meaning that the iteration would happen for every character.\n",
        "\n",
        "###The readline() function, on the other hand, only reads a single line of the file. This means that if the first line of the file were three lines long, the readline() function would only parse (or iterate/operate) on the first line of the file."
      ],
      "metadata": {
        "id": "V8ig81CJmLPk"
      }
    },
    {
      "cell_type": "markdown",
      "source": [
        "---------------------------------------------------------------------------"
      ],
      "metadata": {
        "id": "sOAl3TAhmg-r"
      }
    },
    {
      "cell_type": "markdown",
      "source": [
        "###Q 9. What data structure does a shelf value resemble?"
      ],
      "metadata": {
        "id": "DCPik0BemiLU"
      }
    },
    {
      "cell_type": "markdown",
      "source": [
        "###Ans.A shelf value resembles a dictionary value; it has keys and values, along with keys() and values() methods that work similarly to the dictionary methods of the same names."
      ],
      "metadata": {
        "id": "wzBkMrPEmlrT"
      }
    },
    {
      "cell_type": "markdown",
      "source": [
        "-------------------------------------------End-----------------------------------------------------------------"
      ],
      "metadata": {
        "id": "lB4jB4INmrDP"
      }
    }
  ]
}