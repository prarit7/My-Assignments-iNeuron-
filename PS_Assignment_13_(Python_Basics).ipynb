{
  "nbformat": 4,
  "nbformat_minor": 0,
  "metadata": {
    "colab": {
      "provenance": []
    },
    "kernelspec": {
      "name": "python3",
      "display_name": "Python 3"
    },
    "language_info": {
      "name": "python"
    }
  },
  "cells": [
    {
      "cell_type": "markdown",
      "source": [
        "### Python (Basics) Assignment No. 13\n",
        "\n",
        "1 Batch - Full Stack Data Science Bootcamp 2.0\n",
        "\n",
        "2 Name - **Prerit Sharma**\n",
        "\n",
        "3 Email ID - **praritsharma7@gmail.com**"
      ],
      "metadata": {
        "id": "mw-BPStIZHLH"
      }
    },
    {
      "cell_type": "markdown",
      "source": [
        "------------------------------------------------------------------------------------------------------------------------------------------"
      ],
      "metadata": {
        "id": "EAu6DMF_ZNgn"
      }
    },
    {
      "cell_type": "markdown",
      "source": [
        "###Q 1. What advantages do Excel spreadsheets have over CSV spreadsheets?"
      ],
      "metadata": {
        "id": "Jb1xMsHPZPNX"
      }
    },
    {
      "cell_type": "markdown",
      "source": [
        "###Ans.The Advantages of Excel over CSV are: Excel (XLS and XLSX) file formats are better for storing and analysing complex data. An Excel not only stores data but can also do operations on the data using macros, formulas etc. CSV files are plain-text files, Does not contain formatting, formulas, macros, etc. It is also known as flat files."
      ],
      "metadata": {
        "id": "PbIJyRRzaZbS"
      }
    },
    {
      "cell_type": "markdown",
      "source": [
        "--------------------------------------------------------------------------------------------------------------"
      ],
      "metadata": {
        "id": "gBgBB6dSad8P"
      }
    },
    {
      "cell_type": "markdown",
      "source": [
        "###Q 2.What do you pass to csv.reader() and csv.writer() to create reader and writer objects?"
      ],
      "metadata": {
        "id": "3nW8BLQSafXo"
      }
    },
    {
      "cell_type": "markdown",
      "source": [
        "###Ans.We pass a file object, obtained from call to open()."
      ],
      "metadata": {
        "id": "xd7H11Dabix6"
      }
    },
    {
      "cell_type": "code",
      "source": [
        "import csv\n",
        "with open('text.csv', 'r') as file:\n",
        "    reader = csv.reader(file)\n",
        "    for row in reader:\n",
        "        print(row)"
      ],
      "metadata": {
        "id": "bn45sPd7bvb5"
      },
      "execution_count": null,
      "outputs": []
    },
    {
      "cell_type": "code",
      "source": [
        "import csv\n",
        "with open('prerit.csv', 'w', newline='') as file:\n",
        "    writer = csv.writer(file)\n",
        "    writer.writerow([\"SN\", \"Movie\", \"prerit\"])\n",
        "    writer.writerow([1, \"kgf\", \"kgf\"])\n",
        "    writer.writerow([2, \"kgf2\", \"kgf2\"])"
      ],
      "metadata": {
        "id": "i-jiEcjRb_-Q"
      },
      "execution_count": null,
      "outputs": []
    },
    {
      "cell_type": "markdown",
      "source": [
        "--------------------------------------------------------------------------------------------------------------------------------"
      ],
      "metadata": {
        "id": "BpxGYHkpcdoo"
      }
    },
    {
      "cell_type": "markdown",
      "source": [
        "###Q 3. What modes do File objects for reader and writer objects need to be opened in?"
      ],
      "metadata": {
        "id": "7zY9j9lucfXA"
      }
    },
    {
      "cell_type": "markdown",
      "source": [
        "###Ans.For csv.reader(iterable_file_object), the file objects needed to be opened in read mode mode='r' Whereas for csv.writer(iterable_file_object) the file objects needed to be opened in write mode mode='w'."
      ],
      "metadata": {
        "id": "iShiMWWnck7x"
      }
    },
    {
      "cell_type": "markdown",
      "source": [
        "----------------------------------------------------------------------------"
      ],
      "metadata": {
        "id": "y2WmcW0Tcx1g"
      }
    },
    {
      "cell_type": "markdown",
      "source": [
        "###Q 4. What method takes a list argument and writes it to a CSV file?"
      ],
      "metadata": {
        "id": "TZ8UAi62czvh"
      }
    },
    {
      "cell_type": "markdown",
      "source": [
        "###Ans. The writerrow() method."
      ],
      "metadata": {
        "id": "4oH_4DqmdL-Y"
      }
    },
    {
      "cell_type": "code",
      "source": [
        "import csv\n",
        "fields = ['Name', 'Branch', 'Year', 'CGPA']\n",
        "rows = [\n",
        "            ['Nitin', 'COE', '2', '9.0'],\n",
        "            ['mayur', 'COE', '2', '9.1'],\n",
        "            ['sandeep', 'IT', '2', '9.3']\n",
        "       ]\n",
        "with open(\"university_records.csv\", 'w') as csvfile:\n",
        "    csvwriter = csv.writer(csvfile)\n",
        "    csvwriter.writerow(fields)\n",
        "    csvwriter.writerows(rows)"
      ],
      "metadata": {
        "id": "HEpJztdGde05"
      },
      "execution_count": null,
      "outputs": []
    },
    {
      "cell_type": "markdown",
      "source": [
        "-----------------------------------------------------------------------------------------------------"
      ],
      "metadata": {
        "id": "mv6xnjSydd6B"
      }
    },
    {
      "cell_type": "markdown",
      "source": [
        "###Q 5. What do the keyword arguments delimiter and line terminator do?\n"
      ],
      "metadata": {
        "id": "FFDSC0kedodZ"
      }
    },
    {
      "cell_type": "markdown",
      "source": [
        "###Ans. The delimeter argument change the string used to separate cells in a row. The lineterminator argument changes the string used to separate rows."
      ],
      "metadata": {
        "id": "rzn2kSazdtQp"
      }
    },
    {
      "cell_type": "markdown",
      "source": [
        "-------------------------------------------------------------------------------"
      ],
      "metadata": {
        "id": "Odw58g2FdynC"
      }
    },
    {
      "cell_type": "markdown",
      "source": [
        "###Q 6. What function takes a string of JSON data and returns a Python data structure?"
      ],
      "metadata": {
        "id": "d92Up7fEd0Ag"
      }
    },
    {
      "cell_type": "markdown",
      "source": [
        "###Ans. loads() method takes a string of JSON data and returns a Python data structure"
      ],
      "metadata": {
        "id": "ssvqGJ0wd9y8"
      }
    },
    {
      "cell_type": "code",
      "source": [
        "# Example of json.loads() method\n",
        "import json\n",
        "my_details_json ='''{\n",
        "    \"Name\": \"Prerit\",\n",
        "    \"Qualification\": \"BCA\"\n",
        "    }'''\n",
        "print(my_details_json)\n",
        "print(f'Type of my_details_json is {type(my_details_json)}')\n",
        "my_details = json.loads(my_details_json)\n",
        "print(my_details)\n",
        "print(f'Type of my_details is {type(my_details)}')"
      ],
      "metadata": {
        "colab": {
          "base_uri": "https://localhost:8080/"
        },
        "id": "6IxfoMuIeHmj",
        "outputId": "bae1334f-6d45-44da-8282-0915484c9724"
      },
      "execution_count": 2,
      "outputs": [
        {
          "output_type": "stream",
          "name": "stdout",
          "text": [
            "{\n",
            "    \"Name\": \"Prerit\",\n",
            "    \"Qualification\": \"BCA\"\n",
            "    }\n",
            "Type of my_details_json is <class 'str'>\n",
            "{'Name': 'Prerit', 'Qualification': 'BCA'}\n",
            "Type of my_details is <class 'dict'>\n"
          ]
        }
      ]
    },
    {
      "cell_type": "markdown",
      "source": [
        "-----------------------------------------------------------------------------------------"
      ],
      "metadata": {
        "id": "KTWGYoKPeXV6"
      }
    },
    {
      "cell_type": "markdown",
      "source": [
        "###Q 7. What function takes a Python data structure and returns a string of JSON data?"
      ],
      "metadata": {
        "id": "Oene7_OueZcS"
      }
    },
    {
      "cell_type": "markdown",
      "source": [
        "Ans. dumps() method takes a python data structure and returns a string of JSON data"
      ],
      "metadata": {
        "id": "bNFYcOF_eexa"
      }
    },
    {
      "cell_type": "code",
      "source": [
        "# Example of json.dumps() method\n",
        "import json\n",
        "my_details = {\n",
        "   \"Name\": \"Prerit\",\n",
        "    \"Qualification\": \"BCA\"\n",
        "}\n",
        "print(my_details)\n",
        "print(f'Type of my_details is {type(my_details)}')\n",
        "my_details_json = json.dumps(my_details, indent=4, sort_keys=True)\n",
        "print(my_details_json)\n",
        "print(f'Type of my_details_json is {type(my_details_json)}')"
      ],
      "metadata": {
        "colab": {
          "base_uri": "https://localhost:8080/"
        },
        "id": "zMd8m5TGejzB",
        "outputId": "277f9023-dc05-425e-96d6-f8b037b392f5"
      },
      "execution_count": 3,
      "outputs": [
        {
          "output_type": "stream",
          "name": "stdout",
          "text": [
            "{'Name': 'Prerit', 'Qualification': 'BCA'}\n",
            "Type of my_details is <class 'dict'>\n",
            "{\n",
            "    \"Name\": \"Prerit\",\n",
            "    \"Qualification\": \"BCA\"\n",
            "}\n",
            "Type of my_details_json is <class 'str'>\n"
          ]
        }
      ]
    },
    {
      "cell_type": "markdown",
      "source": [
        "------------------------------------------------------------------------------------------------------End-----------------------------------------------------------------------------------------------------------------"
      ],
      "metadata": {
        "id": "_-16W23ueyCz"
      }
    }
  ]
}