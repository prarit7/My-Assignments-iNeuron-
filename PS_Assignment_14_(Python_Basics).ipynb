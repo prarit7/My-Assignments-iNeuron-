{
  "nbformat": 4,
  "nbformat_minor": 0,
  "metadata": {
    "colab": {
      "provenance": []
    },
    "kernelspec": {
      "name": "python3",
      "display_name": "Python 3"
    },
    "language_info": {
      "name": "python"
    }
  },
  "cells": [
    {
      "cell_type": "markdown",
      "source": [
        "### Python (Basics) Assignment No. 14\n",
        "\n",
        "1 Batch - Full Stack Data Science Bootcamp 2.0\n",
        "\n",
        "2 Name - **Prerit Sharma**\n",
        "\n",
        "3 Email ID - **praritsharma7@gmail.com**"
      ],
      "metadata": {
        "id": "92KVw1PQoK-y"
      }
    },
    {
      "cell_type": "markdown",
      "source": [
        "------------------------------------------------------------------------------------------"
      ],
      "metadata": {
        "id": "WtmyzjdmoUTr"
      }
    },
    {
      "cell_type": "markdown",
      "source": [
        "###Q 1. What does RGBA stand for?"
      ],
      "metadata": {
        "id": "C8ojyOCxoiKq"
      }
    },
    {
      "cell_type": "markdown",
      "source": [
        "###Ans.An RGBA value is a tuple of 4 integers, each ranging from 0 to 255. The four integers correspond to the amount of red, green, blue, and alpha (transparency) in the color."
      ],
      "metadata": {
        "id": "Mq4Pbc1fonhq"
      }
    },
    {
      "cell_type": "markdown",
      "source": [
        "-------------------------------------------------------------------------------------------------------------------------------------------------"
      ],
      "metadata": {
        "id": "L_89s5wyt9Ti"
      }
    },
    {
      "cell_type": "markdown",
      "source": [
        "###Q 2. From the Pillow module, how do you get the RGBA value of any images?"
      ],
      "metadata": {
        "id": "sHqHWLQft-76"
      }
    },
    {
      "cell_type": "markdown",
      "source": [
        "###Ans.A function call to ImageColor.getcolor('CornflowerBlue', 'RGBA') will return (100, 149, 237, 255), the RGBA value for that color."
      ],
      "metadata": {
        "id": "AEmYlIZBuGfq"
      }
    },
    {
      "cell_type": "markdown",
      "source": [
        "--------------------------------------------------------------------------------------------------------"
      ],
      "metadata": {
        "id": "Q8PnBWisuQNS"
      }
    },
    {
      "cell_type": "markdown",
      "source": [
        "###Q 3. What is a box tuple, and how does it work?"
      ],
      "metadata": {
        "id": "dNZQUl6zuRkK"
      }
    },
    {
      "cell_type": "markdown",
      "source": [
        "###Ans.A box tuple is a tuple value of four integers: the left edge x-coordinate, the top edge y-coordinate, the width, and the height, respectively."
      ],
      "metadata": {
        "id": "vZ71C6NBuWdZ"
      }
    },
    {
      "cell_type": "markdown",
      "source": [
        "__________________________________________________________________________________________________"
      ],
      "metadata": {
        "id": "utBAHKFjufRj"
      }
    },
    {
      "cell_type": "markdown",
      "source": [
        "###Q 4. Use your image and load in notebook then, How can you find out the width and height of an Image object?"
      ],
      "metadata": {
        "id": "XoKVTGQXug4C"
      }
    },
    {
      "cell_type": "markdown",
      "source": [
        "###Ans."
      ],
      "metadata": {
        "id": "KJOlhkwcunNa"
      }
    },
    {
      "cell_type": "code",
      "source": [
        "from PIL import Image\n",
        "pic = Image.open('3.png')\n",
        "print(f'Width, Height -> {pic.size}') # Approach 1\n",
        "print(f'Width, Height -> {pic.width},{pic.height}') # Approach 2\n",
        "width,height = pic.size\n",
        "print(f'Width, Height -> {width},{height}') # Approach 3"
      ],
      "metadata": {
        "id": "xLEKI6Rruu3a"
      },
      "execution_count": null,
      "outputs": []
    },
    {
      "cell_type": "markdown",
      "source": [
        "Width, Height -> (1024, 256)     \n",
        "Width, Height -> 1024,256     \n",
        "Width, Height -> 1024,256"
      ],
      "metadata": {
        "id": "1zb-wLd4v4Dc"
      }
    },
    {
      "cell_type": "markdown",
      "source": [
        "----------------------------------------------------------------------------------------------------------"
      ],
      "metadata": {
        "id": "JiLN8Lzzv_CB"
      }
    },
    {
      "cell_type": "markdown",
      "source": [
        "###Q 5. What method would you call to get Image object for a 100×100 image, excluding the lower-left quarter of it?"
      ],
      "metadata": {
        "id": "nj4WoVRuv_IK"
      }
    },
    {
      "cell_type": "markdown",
      "source": [
        "###Ans.     from PIL import Image         \n",
        "###img = Image.open('pic.png')                         \n",
        "###new_img = img.crop((0,50,50,50))"
      ],
      "metadata": {
        "id": "0rafoyPuwHVB"
      }
    },
    {
      "cell_type": "markdown",
      "source": [
        "---------------------------------------------------------------------------------------------------------------"
      ],
      "metadata": {
        "id": "nrc7Md_FwvEC"
      }
    },
    {
      "cell_type": "markdown",
      "source": [
        "###Q 6. After making changes to an Image object, how could you save it as an image file?"
      ],
      "metadata": {
        "id": "wQekGwZvwxti"
      }
    },
    {
      "cell_type": "markdown",
      "source": [
        "###Ans. from PIL import Image        \n",
        "###pic = Image.open('pic.png')            \n",
        "###pic.save('pic2.png')"
      ],
      "metadata": {
        "id": "okuY5Xdyw23q"
      }
    },
    {
      "cell_type": "markdown",
      "source": [
        "--------------------------------------------------------------------------------------------------------------------------"
      ],
      "metadata": {
        "id": "uAcd9wl0xCoJ"
      }
    },
    {
      "cell_type": "markdown",
      "source": [
        "###Q 7. What module contains Pillow’s shape-drawing code?"
      ],
      "metadata": {
        "id": "OD6b18oDxEF6"
      }
    },
    {
      "cell_type": "markdown",
      "source": [
        "###Ans.  Pillows ImageDraw module contains Shape drawing methods. The 'ImageDraw' module provides simple 2D graphics support for Image Object. Generally, we use this module to create new images, annotate or retouch existing images and to generate graphics on the fly for web use. The graphics commands support the drawing of shapes and annotation of text."
      ],
      "metadata": {
        "id": "ZlvUAsuDxJgp"
      }
    },
    {
      "cell_type": "markdown",
      "source": [
        "---------------------------------------------------------------------------------------------------------"
      ],
      "metadata": {
        "id": "jGtL7Y5QxOba"
      }
    },
    {
      "cell_type": "markdown",
      "source": [
        "###Q 8. Image objects do not have drawing methods. What kind of object does? How do you get this kind of object?"
      ],
      "metadata": {
        "id": "3vuC6_ZHxPyD"
      }
    },
    {
      "cell_type": "markdown",
      "source": [
        "###Ans.ImageDraw objects have shape-drawing methods such as point(), line(), or rectangle().They are returned by passing the Image object to the ImageDraw.Draw() function."
      ],
      "metadata": {
        "id": "kR8mBpUPxVBK"
      }
    },
    {
      "cell_type": "markdown",
      "source": [
        "-------------------------------------------------------------------------End------------------------------------------------------------------------------------------------"
      ],
      "metadata": {
        "id": "Alne_OrQxaUk"
      }
    }
  ]
}