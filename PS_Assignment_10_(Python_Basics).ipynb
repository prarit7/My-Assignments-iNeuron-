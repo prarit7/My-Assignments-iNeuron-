{
  "nbformat": 4,
  "nbformat_minor": 0,
  "metadata": {
    "colab": {
      "provenance": []
    },
    "kernelspec": {
      "name": "python3",
      "display_name": "Python 3"
    },
    "language_info": {
      "name": "python"
    }
  },
  "cells": [
    {
      "cell_type": "markdown",
      "source": [
        "### Python (Basics) Assignment No. 10\n",
        "\n",
        "1 Batch - Full Stack Data Science Bootcamp 2.0\n",
        "\n",
        "2 Name - **Prerit Sharma**\n",
        "\n",
        "3 Email ID - **praritsharma7@gmail.com**\n",
        "\n",
        "\n",
        "\n"
      ],
      "metadata": {
        "id": "0ayhMluHnBYr"
      }
    },
    {
      "cell_type": "markdown",
      "source": [
        "------------------------------------------------------------------------"
      ],
      "metadata": {
        "id": "Ej0Au5d7nYUs"
      }
    },
    {
      "cell_type": "markdown",
      "source": [
        "###Q 1. How do you distinguish between shutil.copy() and shutil.copytree()?"
      ],
      "metadata": {
        "id": "xpGzf9KlnZeS"
      }
    },
    {
      "cell_type": "markdown",
      "source": [
        "###Ans.The shutil.copy() function will copy a single file, while shutil.copytree() will copy an entire folder, along with all its contents.\n",
        "\n"
      ],
      "metadata": {
        "id": "tq9P-DM7nz7L"
      }
    },
    {
      "cell_type": "markdown",
      "source": [
        "--------------------------------------------------------------------------"
      ],
      "metadata": {
        "id": "fN77BfrHn2MD"
      }
    },
    {
      "cell_type": "markdown",
      "source": [
        "###Q 2. What function is used to rename files??"
      ],
      "metadata": {
        "id": "e-4DT-oFn4Fb"
      }
    },
    {
      "cell_type": "markdown",
      "source": [
        "###Ans.The shutil.move() function is used for renaming files, as well as moving them."
      ],
      "metadata": {
        "id": "MXt17qoloCGd"
      }
    },
    {
      "cell_type": "markdown",
      "source": [
        "-------------------------------"
      ],
      "metadata": {
        "id": "A46lQGqToPAK"
      }
    },
    {
      "cell_type": "markdown",
      "source": [
        "###Q 3. What is the difference between the delete functions in the send2trash and shutil modules?"
      ],
      "metadata": {
        "id": "3dh2lh7UoQCs"
      }
    },
    {
      "cell_type": "markdown",
      "source": [
        "###Ans. The send2trash functions will move a file or folder to the recycle bin, while shutil functions will permanently delete files and folders."
      ],
      "metadata": {
        "id": "GXxa7f3yoT1q"
      }
    },
    {
      "cell_type": "markdown",
      "source": [
        "-------------------------------------------------------"
      ],
      "metadata": {
        "id": "ag2PcW-Nod2T"
      }
    },
    {
      "cell_type": "markdown",
      "source": [
        "###Q 4.ZipFile objects have a close() method just like File objects’ close() method. What ZipFile method is equivalent to File objects’ open() method?"
      ],
      "metadata": {
        "id": "byyjNdKuoe9y"
      }
    },
    {
      "cell_type": "markdown",
      "source": [
        "###Ans. ZipFile method is equivalant to File objects' open() method. For example,"
      ],
      "metadata": {
        "id": "l7_9VA6EolsC"
      }
    },
    {
      "cell_type": "code",
      "source": [
        "import zipfile\n",
        "newZip = zipfile.ZipFile('new.zip', 'w')"
      ],
      "metadata": {
        "id": "ravjqLmeoxzM"
      },
      "execution_count": null,
      "outputs": []
    },
    {
      "cell_type": "markdown",
      "source": [
        "----------------------------------------------------------"
      ],
      "metadata": {
        "id": "poot-tJYo2AD"
      }
    },
    {
      "cell_type": "markdown",
      "source": [
        "###Q 5. Create a programme that searches a folder tree for files with a certain file extension (such as .pdf or .jpg). Copy these files from whatever location they are in to a new folder."
      ],
      "metadata": {
        "id": "8SV1mHPBo3HK"
      }
    },
    {
      "cell_type": "markdown",
      "source": [
        "###Ans."
      ],
      "metadata": {
        "id": "96sMac7Mo90z"
      }
    },
    {
      "cell_type": "code",
      "source": [
        "from IPython.core import extensions\n",
        "import os\n",
        "import shutil\n",
        "\n",
        "def search_copy (source, destination,extensions):\n",
        "  source= os.path.abspath(source)\n",
        "  destination = os.path.abspath(destination)\n",
        "  for foldername, subfolder, filename in os.walk(source):\n",
        "     print(f'Folder Name - {foldername}',end='\\n\\n')\n",
        "     print(f'Sub Folders-{subfolder}',end='\\n\\n')\n",
        "     print(f'Files-{filename}',end='\\n\\n')\n",
        "     for filename in filenames:\n",
        "        filename,extension = os.path.splitext(filename)\n",
        "        if extension in extensions:\n",
        "          targetfile=foldername= os.path.sep+filename+extension\n",
        "          shutil.copy(targetFile,destination)\n",
        "          print(f'files copied successfully from (source) to (destination)')\n",
        "\n",
        "\n",
        "extensions =['.pdf','.jpg','ipynb']\n",
        "source ='Source Folder'\n",
        "destination ='Destination Folder'\n",
        "search_copy(source,destination, extensions)\n"
      ],
      "metadata": {
        "id": "p04Zym7-q428"
      },
      "execution_count": null,
      "outputs": []
    },
    {
      "cell_type": "markdown",
      "source": [
        "----------------------------------------------------------------End--------------------------------------------------------------------------------------------"
      ],
      "metadata": {
        "id": "2m9uUetAwm0u"
      }
    }
  ]
}