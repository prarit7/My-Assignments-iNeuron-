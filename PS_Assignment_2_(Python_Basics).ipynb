{
  "nbformat": 4,
  "nbformat_minor": 0,
  "metadata": {
    "colab": {
      "provenance": []
    },
    "kernelspec": {
      "name": "python3",
      "display_name": "Python 3"
    },
    "language_info": {
      "name": "python"
    }
  },
  "cells": [
    {
      "cell_type": "markdown",
      "source": [
        "#**iNeuron**\n",
        "\n",
        "## Python (Basics) Assignment No. 2\n",
        "\n",
        "- Batch - Full Stack Data Science Bootcamp 2.0\n",
        "- Name - **Prerit Sharma**\n",
        "- Email ID - **praritsharma7@gmail.com**"
      ],
      "metadata": {
        "id": "Eik5qJwAwaon"
      }
    },
    {
      "cell_type": "markdown",
      "source": [
        "------------------------------------------------------------------------"
      ],
      "metadata": {
        "id": "BD3BcnVZwevg"
      }
    },
    {
      "cell_type": "markdown",
      "source": [
        "##Q.1) What are the two values of the Boolean data type? How do you write them?"
      ],
      "metadata": {
        "id": "U56C_CDawu08"
      }
    },
    {
      "cell_type": "markdown",
      "source": [
        "##Ans\n",
        " It has two possible values: True and False , which are special versions of 1 and 0 respectively and behave as such in arithmetic contexts."
      ],
      "metadata": {
        "id": "V3Acx3aJzXTU"
      }
    },
    {
      "cell_type": "markdown",
      "source": [
        "----------------------------------------------------------"
      ],
      "metadata": {
        "id": "dEPfopdKzdQP"
      }
    },
    {
      "cell_type": "markdown",
      "source": [
        "##Q.2)What are the three different types of Boolean operators?"
      ],
      "metadata": {
        "id": "6yuu7Jonw6Ar"
      }
    },
    {
      "cell_type": "markdown",
      "source": [
        "##Ans\n",
        "There are three logical operators that are used to a values. They evaluate expressions down to Boolean values, returning either True or False . These operators are and , or , and not and are defined in the table below..."
      ],
      "metadata": {
        "id": "243LE6MKy5Xs"
      }
    },
    {
      "cell_type": "markdown",
      "source": [
        "------------------------------------------------------------------"
      ],
      "metadata": {
        "id": "vAJCDqaDy-rd"
      }
    },
    {
      "cell_type": "markdown",
      "source": [
        "###Q3 Make a list of each Boolean operator&#39;s truth tables (i.e. every possible combination of Boolean values for the operator and what it evaluate )."
      ],
      "metadata": {
        "id": "qKNLjB1ZaFnC"
      }
    },
    {
      "cell_type": "markdown",
      "source": [
        "##Ans\n",
        "True and True is True.\n",
        "\n",
        "True and False is False.\n",
        "\n",
        "False and True is False.\n",
        "\n",
        "False and False is False.\n",
        "\n",
        "True or True is True.\n",
        "\n",
        "True or False is True.\n",
        "\n",
        "False or True is True.\n",
        "\n",
        "False or False is False.\n",
        "\n",
        "not True is False.\n",
        "\n",
        "not False is True."
      ],
      "metadata": {
        "id": "-mtAXc_OziGJ"
      }
    },
    {
      "cell_type": "markdown",
      "source": [
        "----------------------------------------------------------"
      ],
      "metadata": {
        "id": "1i0SEkI4zku4"
      }
    },
    {
      "cell_type": "markdown",
      "source": [
        "##Q 4. What are the values of the following expressions?\n",
        "(5 &gt; 4) and (3 == 5)\n",
        "not (5 &gt; 4)\n",
        "(5 &gt; 4) or (3 == 5)\n",
        "not ((5 &gt; 4) or (3 == 5))\n",
        "(True and True) and (True == False)\n",
        "(not False) or (not True)"
      ],
      "metadata": {
        "id": "RbRhacQrbI3A"
      }
    },
    {
      "cell_type": "code",
      "source": [
        "##Ans\n",
        "print((5>4) and (3==5))\n",
        "print(not(5>4))\n",
        "print((5>4) or (3==5))\n",
        "print(not(5>4) or (3==5))\n",
        "print((True and True) and (True==False))\n",
        "print((not(False))or(not(True)))\n"
      ],
      "metadata": {
        "colab": {
          "base_uri": "https://localhost:8080/"
        },
        "id": "Pa3IK7dwbO1p",
        "outputId": "178b2ce3-05ff-4e33-84cc-fd8220a49311"
      },
      "execution_count": null,
      "outputs": [
        {
          "output_type": "stream",
          "name": "stdout",
          "text": [
            "False\n",
            "False\n",
            "True\n",
            "False\n",
            "False\n",
            "True\n"
          ]
        }
      ]
    },
    {
      "cell_type": "markdown",
      "source": [
        "-------------------------------------------------------------------------------------------------------------------------------------------------------------"
      ],
      "metadata": {
        "id": "U28ZlvL-YEG9"
      }
    },
    {
      "cell_type": "markdown",
      "source": [
        "##Q 5. What are the six comparison operators?\n",
        "\n",
        "---\n",
        "\n"
      ],
      "metadata": {
        "id": "rk8cENpZbcJK"
      }
    },
    {
      "cell_type": "markdown",
      "source": [
        "##Ans\n",
        " ==, !=, <, >, <=, and >="
      ],
      "metadata": {
        "id": "5PgYchK2ZQFf"
      }
    },
    {
      "cell_type": "markdown",
      "source": [
        "--------------------------------------------------------------------------------------------------------------------------------------------------------------------"
      ],
      "metadata": {
        "id": "eBk9sbKpYHWF"
      }
    },
    {
      "cell_type": "markdown",
      "source": [
        "##Q 6. How do you tell the difference between the equal to and assignment operators?Describe a condition and when you would use one."
      ],
      "metadata": {
        "id": "wqWzPF3WbwVV"
      }
    },
    {
      "cell_type": "markdown",
      "source": [
        "##Ans\n",
        "== is the equal to operator that compares two values and evaluates to a Boolean, while = is the assignment operator that stores a value in a variable.\n",
        "\n",
        "#eg.\n",
        "\n",
        "# Equal To Operator\n",
        "if(2==3):\n",
        "    print(\"True\")\n",
        "else:\n",
        "    print(\"False\")\n",
        "#Assignment operator\n",
        "c=1 #here we have used assignment operator(=) to assign value of c which is 2\n",
        "print(\"c =\",c)"
      ],
      "metadata": {
        "id": "QczyH02pZWP-"
      }
    },
    {
      "cell_type": "markdown",
      "source": [
        "-------------------------------------------------------------------------------------------------------------------------------------------------------------------"
      ],
      "metadata": {
        "id": "6Zp5IV8bYPRo"
      }
    },
    {
      "cell_type": "markdown",
      "source": [
        "##Q  7. Identify the three blocks in this code:\n",
        "spam = 0\n",
        "if spam == 10:\n",
        "print(&#39;eggs&#39;)\n",
        "if spam &gt; 5:\n",
        "print(&#39;bacon&#39;)\n",
        "else:\n",
        "print(&#39;ham&#39;)\n",
        "print(&#39;spam&#39;)\n",
        "print(&#39;spam&#39;)"
      ],
      "metadata": {
        "id": "pLKI52GhcSTK"
      }
    },
    {
      "cell_type": "code",
      "source": [
        "##Ans\n",
        "spam = 0\n",
        "if spam == 10:\n",
        "    print('eggs') #Block 1\n",
        "if spam > 5:\n",
        "    print('bacon') #Block 2\n",
        "else:\n",
        "    print('ham') #Block 3\n",
        "    print('spam')\n",
        "    print('spam')"
      ],
      "metadata": {
        "colab": {
          "base_uri": "https://localhost:8080/"
        },
        "id": "arnLYk4Mcc4r",
        "outputId": "47421b09-def6-4809-db53-4e82b2631eaf"
      },
      "execution_count": null,
      "outputs": [
        {
          "output_type": "stream",
          "name": "stdout",
          "text": [
            "ham\n",
            "spam\n",
            "spam\n"
          ]
        }
      ]
    },
    {
      "cell_type": "markdown",
      "source": [
        "----------------------------------------------------------------------------------------------------------------------------------------------------------------"
      ],
      "metadata": {
        "id": "Onprnw74YVO-"
      }
    },
    {
      "cell_type": "markdown",
      "source": [
        "##Q 8. Write code that prints Hello if 1 is stored in spam, prints Howdy if 2 is stored in spam, and prints Greetings! if anything else is stored in spam."
      ],
      "metadata": {
        "id": "RjN6WhOzcmqM"
      }
    },
    {
      "cell_type": "code",
      "source": [
        "##Ans \n",
        "spam = int(input(\"Input a no.\"))\n",
        "if spam == 1:\n",
        "    print(\"Hello\")\n",
        "elif spam == 2:\n",
        "    print(\"Howdy\")\n",
        "else:\n",
        "    print(\"Greetings!\")\n",
        "\n",
        "        "
      ],
      "metadata": {
        "colab": {
          "base_uri": "https://localhost:8080/"
        },
        "id": "U5L7vYKXcvOU",
        "outputId": "b0487d9d-616c-4812-bac1-90a398fe9cc9"
      },
      "execution_count": null,
      "outputs": [
        {
          "output_type": "stream",
          "name": "stdout",
          "text": [
            "Input a no.2\n",
            "Howdy\n"
          ]
        }
      ]
    },
    {
      "cell_type": "markdown",
      "source": [
        "-----------------------------------------------------------------------------------------------------------------------------------------------------------------------------------------------------------------"
      ],
      "metadata": {
        "id": "qVvPmwMAYYUG"
      }
    },
    {
      "cell_type": "markdown",
      "source": [
        "##Q 9.If your programme is stuck in an endless loop, what keys you’ll press?\n"
      ],
      "metadata": {
        "id": "gtNZVva5c8Pm"
      }
    },
    {
      "cell_type": "code",
      "source": [
        "##Ans \n",
        " If program is stuck in endless loop we will press ctrl+c.\n",
        "\n"
      ],
      "metadata": {
        "id": "R9ojr8NXdAMG"
      },
      "execution_count": null,
      "outputs": []
    },
    {
      "cell_type": "markdown",
      "source": [
        "----------------------------------------------------------------------------------------------------------------------------------------------------------------------"
      ],
      "metadata": {
        "id": "NJjG5krTYcwF"
      }
    },
    {
      "cell_type": "code",
      "source": [],
      "metadata": {
        "id": "buvjHaQgYb-n"
      },
      "execution_count": null,
      "outputs": []
    },
    {
      "cell_type": "markdown",
      "source": [
        "##Q 10. How can you tell the difference between break and continue?"
      ],
      "metadata": {
        "id": "hAiD-D8vdMHG"
      }
    },
    {
      "cell_type": "code",
      "source": [
        "##Ans\n",
        "\n",
        "#use of break\n",
        "for i in range(8):\n",
        "    if(i==7):\n",
        "        break\n",
        "    print(i)\n",
        "    \n",
        "print('Breaked')\n",
        "#use of  continue\n",
        "for i in range(8):\n",
        "    if(i==7):\n",
        "        continue\n",
        "    print(i)\n",
        "\n"
      ],
      "metadata": {
        "colab": {
          "base_uri": "https://localhost:8080/"
        },
        "id": "wGJ9KDb-dSW6",
        "outputId": "bd60bd5d-0fd1-40de-9a0b-aae7c35bc4db"
      },
      "execution_count": null,
      "outputs": [
        {
          "output_type": "stream",
          "name": "stdout",
          "text": [
            "0\n",
            "1\n",
            "2\n",
            "3\n",
            "4\n",
            "5\n",
            "6\n",
            "Breaked\n",
            "0\n",
            "1\n",
            "2\n",
            "3\n",
            "4\n",
            "5\n",
            "6\n"
          ]
        }
      ]
    },
    {
      "cell_type": "markdown",
      "source": [
        "##Ans . The break statement will move the execution outside and just after a loop. The continue statement will move the execution to the start of the loop."
      ],
      "metadata": {
        "id": "tUpvrHqheI68"
      }
    },
    {
      "cell_type": "markdown",
      "source": [
        "------------------------------------------------------------------------------------------------------------------------------------------------------------------------------"
      ],
      "metadata": {
        "id": "pByTl30JYf4t"
      }
    },
    {
      "cell_type": "markdown",
      "source": [
        "##Q 11. In a for loop, what is the difference between range(10), range(0, 10), and range(0, 10, 1)?"
      ],
      "metadata": {
        "id": "D2RSXvZAdnRZ"
      }
    },
    {
      "cell_type": "code",
      "source": [
        "##Ans\n",
        "for i in range(10):\n",
        "    print(i)\n",
        "print(\"PPPPPPPPPPPPPPPPPPPPPPPPPPPPPPPPPPPPPPPPPPPPPPPPPPPPPPPPPPPPPPPPPPPPPPPPPPPPPPPPPPPPP\") \n",
        "for i in range(0,10):\n",
        "    print(i)\n",
        "print(\"PPPPPPPPPPPPPPPPPPPPPPPPPPPPPPPPPPPPPPPPPPPPPPPPPPPPPPPPPPPPPPPPPPPPPPPPPPPPPPPPPPPPP\")\n",
        "for i in range(0,10,1):\n",
        "    print(i)"
      ],
      "metadata": {
        "colab": {
          "base_uri": "https://localhost:8080/"
        },
        "id": "ijhtUhwrdsJw",
        "outputId": "986cbe97-747b-4d20-d3a1-3d7f0c5d0d68"
      },
      "execution_count": null,
      "outputs": [
        {
          "output_type": "stream",
          "name": "stdout",
          "text": [
            "0\n",
            "1\n",
            "2\n",
            "3\n",
            "4\n",
            "5\n",
            "6\n",
            "7\n",
            "8\n",
            "9\n",
            "PPPPPPPPPPPPPPPPPPPPPPPPPPPPPPPPPPPPPPPPPPPPPPPPPPPPPPPPPPPPPPPPPPPPPPPPPPPPPPPPPPPPP\n",
            "0\n",
            "1\n",
            "2\n",
            "3\n",
            "4\n",
            "5\n",
            "6\n",
            "7\n",
            "8\n",
            "9\n",
            "PPPPPPPPPPPPPPPPPPPPPPPPPPPPPPPPPPPPPPPPPPPPPPPPPPPPPPPPPPPPPPPPPPPPPPPPPPPPPPPPPPPPP\n",
            "0\n",
            "1\n",
            "2\n",
            "3\n",
            "4\n",
            "5\n",
            "6\n",
            "7\n",
            "8\n",
            "9\n"
          ]
        }
      ]
    },
    {
      "cell_type": "markdown",
      "source": [
        "From the above output we can conclude that they all do the same thing. The range(10) call ranges from 0 up to (but not including) 10, range(0, 10) tells the loop to start at 0, and range(0, 10, 1) tells the loop to increase the variable by 1 on each iteration."
      ],
      "metadata": {
        "id": "ozEP3j5qeLTK"
      }
    },
    {
      "cell_type": "markdown",
      "source": [
        "------------------------------------------------------------------------------------------------------------------------------------------------------------------------------------"
      ],
      "metadata": {
        "id": "P4bZSscPYiz9"
      }
    },
    {
      "cell_type": "markdown",
      "source": [
        "##Q 12. Write a short program that prints the numbers 1 to 10 using a for loop. Then write an equivalentprogram that prints the numbers 1 to 10 using a while loop."
      ],
      "metadata": {
        "id": "50iCl6BueS_-"
      }
    },
    {
      "cell_type": "code",
      "source": [
        "##Ans\n",
        "For Loop\n",
        "1\n",
        "2\n",
        "3\n",
        "4\n",
        "5\n",
        "6\n",
        "7\n",
        "8\n",
        "9\n",
        "10\n",
        "While Loop\n",
        "1\n",
        "2\n",
        "3\n",
        "4\n",
        "5\n",
        "6\n",
        "7\n",
        "8\n",
        "9\n",
        "10"
      ],
      "metadata": {
        "colab": {
          "base_uri": "https://localhost:8080/",
          "height": 130
        },
        "id": "I-pvPdNwf-TS",
        "outputId": "a7c7d79f-6e44-496e-984a-435d4354f5f3"
      },
      "execution_count": null,
      "outputs": [
        {
          "output_type": "error",
          "ename": "SyntaxError",
          "evalue": "ignored",
          "traceback": [
            "\u001b[0;36m  File \u001b[0;32m\"<ipython-input-18-8b2698134dab>\"\u001b[0;36m, line \u001b[0;32m2\u001b[0m\n\u001b[0;31m    For Loop\u001b[0m\n\u001b[0m        ^\u001b[0m\n\u001b[0;31mSyntaxError\u001b[0m\u001b[0;31m:\u001b[0m invalid syntax\n"
          ]
        }
      ]
    },
    {
      "cell_type": "markdown",
      "source": [
        "--------------------------------------------------------------------------------------------------------------------------------------------------------------------------------------------------------------------------------"
      ],
      "metadata": {
        "id": "GdCZBVXgYmKH"
      }
    },
    {
      "cell_type": "markdown",
      "source": [
        "##Q 13. If you had a function named bacon() inside a module named spam, how would you call it after importing spam?\n"
      ],
      "metadata": {
        "id": "LDRicI_ygO6Q"
      }
    },
    {
      "cell_type": "code",
      "source": [
        "##Ans\n",
        "This function can be called with spam.bacon()."
      ],
      "metadata": {
        "id": "m5NmXl3OgVto"
      },
      "execution_count": null,
      "outputs": []
    },
    {
      "cell_type": "markdown",
      "source": [
        "-----------------------------------------------------------------------------------------------------------------------------------END----------------------------------------------------------"
      ],
      "metadata": {
        "id": "KSP6TUODhkEd"
      }
    }
  ]
}