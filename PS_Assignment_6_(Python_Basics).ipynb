{
  "nbformat": 4,
  "nbformat_minor": 0,
  "metadata": {
    "colab": {
      "provenance": []
    },
    "kernelspec": {
      "name": "python3",
      "display_name": "Python 3"
    },
    "language_info": {
      "name": "python"
    }
  },
  "cells": [
    {
      "cell_type": "markdown",
      "source": [
        "## Python (Basics) Assignment No. 6\n",
        "\n",
        "1 Batch - Full Stack Data Science Bootcamp 2.0\n",
        "\n",
        "2 Name - **Prerit Sharma**\n",
        "\n",
        "3 Email ID - **praritsharma7@gmail.com**"
      ],
      "metadata": {
        "id": "W10RvaTD4h4A"
      }
    },
    {
      "cell_type": "markdown",
      "source": [
        "--------------------------------------------------------------------------------------------------------------------------------------------------------------"
      ],
      "metadata": {
        "id": "hPStoj8Y4jx3"
      }
    },
    {
      "cell_type": "markdown",
      "source": [
        "###Q 1. What are escape characters, and how do you use them?"
      ],
      "metadata": {
        "id": "4xpqJfPF41p2"
      }
    },
    {
      "cell_type": "markdown",
      "source": [
        "###Ans. An escape character is a backslash \\ followed by the character you want to insert.Escape characters represent characters in string values that would otherwise be difficult or impossible to type into code."
      ],
      "metadata": {
        "id": "JzJRxfMHPeLs"
      }
    },
    {
      "cell_type": "code",
      "source": [
        "data = \"We have enrolled in \\\"iNeuron's\\\" Full Stack Data Science class.\"\n",
        "print(data)"
      ],
      "metadata": {
        "colab": {
          "base_uri": "https://localhost:8080/"
        },
        "id": "ExyU_za3PpZu",
        "outputId": "b1933253-8537-4340-a096-2e37b9ad79b7"
      },
      "execution_count": null,
      "outputs": [
        {
          "output_type": "stream",
          "name": "stdout",
          "text": [
            "We have enrolled in \"iNeuron's\" Full Stack Data Science class.\n"
          ]
        }
      ]
    },
    {
      "cell_type": "markdown",
      "source": [
        "_________________________________________________________________________________________________________________"
      ],
      "metadata": {
        "id": "zVK8V7iGPx0D"
      }
    },
    {
      "cell_type": "markdown",
      "source": [
        "###Q 2. What do the escape characters n and t stand for?  **bold text**"
      ],
      "metadata": {
        "id": "Sio-21xJP3Db"
      }
    },
    {
      "cell_type": "markdown",
      "source": [
        "#Ans. The escape characters n and t stand for newline and tab respectively. \\n is a newline; \\t is a tab."
      ],
      "metadata": {
        "id": "mU9kIhr_QFnL"
      }
    },
    {
      "cell_type": "markdown",
      "source": [
        "--------------------------------------------------------------------------------------------------------------------------------------------------------------"
      ],
      "metadata": {
        "id": "9Smcw6AnQdF6"
      }
    },
    {
      "cell_type": "markdown",
      "source": [
        "###Q 3. What is the way to include backslash characters in a string?"
      ],
      "metadata": {
        "id": "O7wxGqEVQ-ax"
      }
    },
    {
      "cell_type": "markdown",
      "source": [
        "###Ans.The \\ escape character will represent a backslash character."
      ],
      "metadata": {
        "id": "zJCfveRIRW8q"
      }
    },
    {
      "cell_type": "markdown",
      "source": [
        "___________________________________________________________________________________________________________________________________________________________"
      ],
      "metadata": {
        "id": "WK1M7KbhT5v_"
      }
    },
    {
      "cell_type": "markdown",
      "source": [
        "###Q 4. The string &quot;Howl&#39;s Moving Castle&quot; is a correct value. Why isn&#39;t the single quote character in the word Howl&#39;s not escaped a problem?"
      ],
      "metadata": {
        "id": "Cmo5qcirT776"
      }
    },
    {
      "cell_type": "markdown",
      "source": [
        "###Ans.The single quote in Howl's is fine because you’ve used double quotes to mark the beginning and end of the string. if its wrapped inside single quotes then we have to use escape character ' to show single quote in the final output\n",
        "\n",
        "'Howl's Moving Castle' -> 'Howl's Moving Castle'"
      ],
      "metadata": {
        "id": "J-bzVMfKULkV"
      }
    },
    {
      "cell_type": "markdown",
      "source": [
        "_______________________________________________________________________________________________________________________________________________________________________"
      ],
      "metadata": {
        "id": "oOcDgrLkUZ4J"
      }
    },
    {
      "cell_type": "markdown",
      "source": [
        "###Q 5. How do you write a string of newlines if you don&#39;t want to use the n character?"
      ],
      "metadata": {
        "id": "pnOsUdkMUcIp"
      }
    },
    {
      "cell_type": "markdown",
      "source": [
        "###Ans.Multiline strings allow us to use newlines in strings without the \\n escape character."
      ],
      "metadata": {
        "id": "hgmiPPm8Ukep"
      }
    },
    {
      "cell_type": "markdown",
      "source": [
        "________________________________________________________________________________________________________________________________________________________________"
      ],
      "metadata": {
        "id": "E4grpxD2UuD9"
      }
    },
    {
      "cell_type": "markdown",
      "source": [
        "###Q 6. What are the values of the given expressions?\n",
        "&#39;Hello, world!&#39;[1]\n",
        "\n",
        "&#39;Hello, world!&#39;[0:5]\n",
        "\n",
        "&#39;Hello, world!&#39;[:5]\n",
        "\n",
        "&#39;Hello, world!&#39;[3:]"
      ],
      "metadata": {
        "id": "kpo9oIk4U0zP"
      }
    },
    {
      "cell_type": "markdown",
      "source": [
        "###Ans."
      ],
      "metadata": {
        "id": "E8_QNRfXU35-"
      }
    },
    {
      "cell_type": "code",
      "source": [
        "'Hello, world!'[1]"
      ],
      "metadata": {
        "colab": {
          "base_uri": "https://localhost:8080/",
          "height": 35
        },
        "id": "k_X5FgNqVFjv",
        "outputId": "d9184539-7ffa-447d-add4-4ca04fe63d1d"
      },
      "execution_count": 9,
      "outputs": [
        {
          "output_type": "execute_result",
          "data": {
            "text/plain": [
              "'e'"
            ],
            "application/vnd.google.colaboratory.intrinsic+json": {
              "type": "string"
            }
          },
          "metadata": {},
          "execution_count": 9
        }
      ]
    },
    {
      "cell_type": "code",
      "source": [
        "'Hello,world!'[0:5]"
      ],
      "metadata": {
        "colab": {
          "base_uri": "https://localhost:8080/",
          "height": 35
        },
        "id": "-SLj7YvaVbQ_",
        "outputId": "965e4e8a-2f7b-49ce-c142-79c922eda0f4"
      },
      "execution_count": 10,
      "outputs": [
        {
          "output_type": "execute_result",
          "data": {
            "text/plain": [
              "'Hello'"
            ],
            "application/vnd.google.colaboratory.intrinsic+json": {
              "type": "string"
            }
          },
          "metadata": {},
          "execution_count": 10
        }
      ]
    },
    {
      "cell_type": "code",
      "source": [
        "'Hello,world!'[:5]"
      ],
      "metadata": {
        "colab": {
          "base_uri": "https://localhost:8080/",
          "height": 35
        },
        "id": "ndMCwAD7V1w3",
        "outputId": "445e02ec-72b3-446c-e3e6-1318b36f936f"
      },
      "execution_count": 11,
      "outputs": [
        {
          "output_type": "execute_result",
          "data": {
            "text/plain": [
              "'Hello'"
            ],
            "application/vnd.google.colaboratory.intrinsic+json": {
              "type": "string"
            }
          },
          "metadata": {},
          "execution_count": 11
        }
      ]
    },
    {
      "cell_type": "code",
      "source": [
        "'Hello,world!'[3:]"
      ],
      "metadata": {
        "colab": {
          "base_uri": "https://localhost:8080/",
          "height": 35
        },
        "id": "0FoG80TEWXqi",
        "outputId": "352ac247-eaa3-4c54-c7ae-e153a74d9f0e"
      },
      "execution_count": 12,
      "outputs": [
        {
          "output_type": "execute_result",
          "data": {
            "text/plain": [
              "'lo,world!'"
            ],
            "application/vnd.google.colaboratory.intrinsic+json": {
              "type": "string"
            }
          },
          "metadata": {},
          "execution_count": 12
        }
      ]
    },
    {
      "cell_type": "markdown",
      "source": [
        "---------------------------------------------------------------------------------------------------------------------------------------------------------------"
      ],
      "metadata": {
        "id": "sBmaCfGzW12D"
      }
    },
    {
      "cell_type": "markdown",
      "source": [
        "###Q 7. What are the values of the following expressions?\n",
        "&#39;Hello&#39;.upper()\n",
        "\n",
        "&#39;Hello&#39;.upper().isupper()\n",
        "\n",
        "&#39;Hello&#39;.upper().lower()"
      ],
      "metadata": {
        "id": "Xx2nrpz9W4GU"
      }
    },
    {
      "cell_type": "markdown",
      "source": [
        "###Ans."
      ],
      "metadata": {
        "id": "O_N8PHDmXBLO"
      }
    },
    {
      "cell_type": "code",
      "source": [
        "'Hello'.upper()"
      ],
      "metadata": {
        "colab": {
          "base_uri": "https://localhost:8080/",
          "height": 35
        },
        "id": "7GICO0TIXUR1",
        "outputId": "c079952d-ff8b-4742-f526-58061e4bd5ee"
      },
      "execution_count": 13,
      "outputs": [
        {
          "output_type": "execute_result",
          "data": {
            "text/plain": [
              "'HELLO'"
            ],
            "application/vnd.google.colaboratory.intrinsic+json": {
              "type": "string"
            }
          },
          "metadata": {},
          "execution_count": 13
        }
      ]
    },
    {
      "cell_type": "code",
      "source": [
        "'Hello'.upper().isupper()"
      ],
      "metadata": {
        "colab": {
          "base_uri": "https://localhost:8080/"
        },
        "id": "SX_tVOgqXdxk",
        "outputId": "5509bf4d-688a-4132-ecae-d874d3c5edb7"
      },
      "execution_count": 14,
      "outputs": [
        {
          "output_type": "execute_result",
          "data": {
            "text/plain": [
              "True"
            ]
          },
          "metadata": {},
          "execution_count": 14
        }
      ]
    },
    {
      "cell_type": "code",
      "source": [
        "'Hello'.upper().lower()"
      ],
      "metadata": {
        "colab": {
          "base_uri": "https://localhost:8080/",
          "height": 35
        },
        "id": "jC0xQaRlXrTf",
        "outputId": "7b4d5339-4a2e-4ec6-8d27-7408dee2f2a0"
      },
      "execution_count": 15,
      "outputs": [
        {
          "output_type": "execute_result",
          "data": {
            "text/plain": [
              "'hello'"
            ],
            "application/vnd.google.colaboratory.intrinsic+json": {
              "type": "string"
            }
          },
          "metadata": {},
          "execution_count": 15
        }
      ]
    },
    {
      "cell_type": "markdown",
      "source": [
        "------------------------------------------------------------------------------------------------------------------------------------------"
      ],
      "metadata": {
        "id": "IFgMs0mEX33z"
      }
    },
    {
      "cell_type": "markdown",
      "source": [
        "###Q 8. What are the values of the following expressions?\n",
        "&#39;Remember, remember, the fifth of July.&#39;.split()\n",
        "\n",
        "&#39;-&#39;.join(&#39;There can only one.&#39;.split())"
      ],
      "metadata": {
        "id": "f6-5_ZUsX5uK"
      }
    },
    {
      "cell_type": "markdown",
      "source": [
        "#Ans."
      ],
      "metadata": {
        "id": "3rZ26armYAW7"
      }
    },
    {
      "cell_type": "code",
      "source": [
        "#The expressions evaluate to the following:\n",
        "\n",
        "'Remember, remember, the fifth of July.'.split()"
      ],
      "metadata": {
        "colab": {
          "base_uri": "https://localhost:8080/"
        },
        "id": "uLYK6w7DYLVI",
        "outputId": "362e2c7f-2ad3-42ec-ea2a-b13a456dfda4"
      },
      "execution_count": 16,
      "outputs": [
        {
          "output_type": "execute_result",
          "data": {
            "text/plain": [
              "['Remember,', 'remember,', 'the', 'fifth', 'of', 'July.']"
            ]
          },
          "metadata": {},
          "execution_count": 16
        }
      ]
    },
    {
      "cell_type": "code",
      "source": [
        "'-'.join('There can only one.'.split())"
      ],
      "metadata": {
        "colab": {
          "base_uri": "https://localhost:8080/",
          "height": 35
        },
        "id": "M4QpHBspYfOV",
        "outputId": "8fdf88ad-fa51-46df-cf9b-19bffb5b8fbc"
      },
      "execution_count": 17,
      "outputs": [
        {
          "output_type": "execute_result",
          "data": {
            "text/plain": [
              "'There-can-only-one.'"
            ],
            "application/vnd.google.colaboratory.intrinsic+json": {
              "type": "string"
            }
          },
          "metadata": {},
          "execution_count": 17
        }
      ]
    },
    {
      "cell_type": "markdown",
      "source": [
        "________________________________________________________________________________________________________________"
      ],
      "metadata": {
        "id": "3Cz5Bl-nYkW4"
      }
    },
    {
      "cell_type": "markdown",
      "source": [
        "###Q 9. What are the methods for right-justifying, left-justifying, and centering a string?"
      ],
      "metadata": {
        "id": "X64RNynaYpXU"
      }
    },
    {
      "cell_type": "markdown",
      "source": [
        "###Ans. The rjust(), ljust(), and center() string methods, respectively are the methods for right-justifying, left-justifying, and centering a string"
      ],
      "metadata": {
        "id": "3EeE4RhMYrja"
      }
    },
    {
      "cell_type": "markdown",
      "source": [
        "----------------------------------------------------------------------------------------------------------------------------"
      ],
      "metadata": {
        "id": "iCxGlSIDZDw7"
      }
    },
    {
      "cell_type": "markdown",
      "source": [
        "###Q 10. What is the best way to remove whitespace characters from the start or end?"
      ],
      "metadata": {
        "id": "pSrlbVlZY3eG"
      }
    },
    {
      "cell_type": "markdown",
      "source": [
        "###Ans.The lstrip() and rstrip() methods remove whitespace from the left and right ends of a string, respectively."
      ],
      "metadata": {
        "id": "lQPTU7JiZB9B"
      }
    },
    {
      "cell_type": "markdown",
      "source": [
        "-----------------------------------------------------------End----------------------------------------------------------------------------------"
      ],
      "metadata": {
        "id": "Jfo-eI8KZN-G"
      }
    }
  ]
}