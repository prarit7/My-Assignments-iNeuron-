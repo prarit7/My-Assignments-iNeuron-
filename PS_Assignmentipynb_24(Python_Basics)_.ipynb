{
  "nbformat": 4,
  "nbformat_minor": 0,
  "metadata": {
    "colab": {
      "provenance": []
    },
    "kernelspec": {
      "name": "python3",
      "display_name": "Python 3"
    },
    "language_info": {
      "name": "python"
    }
  },
  "cells": [
    {
      "cell_type": "markdown",
      "source": [
        "### Python (Basics) Assignment No. 24\n",
        "\n",
        "1 Batch - Full Stack Data Science Bootcamp 2.0\n",
        "\n",
        "2 Name - **Prerit Sharma**\n",
        "\n",
        "3 Email ID - **praritsharma7@gmail.com**"
      ],
      "metadata": {
        "id": "QXp89foBwFdq"
      }
    },
    {
      "cell_type": "markdown",
      "source": [
        "\n",
        "\n",
        "---\n",
        "\n"
      ],
      "metadata": {
        "id": "KyVu28D5wN6B"
      }
    },
    {
      "cell_type": "markdown",
      "source": [
        "###Q 1. What is the relationship between def statements and lambda expressions ?"
      ],
      "metadata": {
        "id": "GyFX_sz8wOiw"
      }
    },
    {
      "cell_type": "markdown",
      "source": [
        "###Ans.\n",
        "def statement is used to create a normal function whereas lambda expressions are used to create Anonymous functionswhich can be assigned to a variable and can be called using the variable later in function.\n",
        "\n",
        "Lambda's body is a single expression and not a block of statements like def statement. The lambda expression's body is similar to what we wouldd put in a def body's return statement. We simply type the result as an expression instead of explicitly returning it. Because it is limited to an expression, a lambda is less general than a def statement."
      ],
      "metadata": {
        "id": "JLCMgt79wR3I"
      }
    },
    {
      "cell_type": "markdown",
      "source": [
        "\n",
        "\n",
        "---\n",
        "\n"
      ],
      "metadata": {
        "id": "jHN0w3Kid0Q4"
      }
    },
    {
      "cell_type": "markdown",
      "source": [
        "###Q2. What is the benefit of lambda?"
      ],
      "metadata": {
        "id": "HfUaScbnd0-e"
      }
    },
    {
      "cell_type": "markdown",
      "source": [
        "###Ans.\n",
        "The lambda keyword in Python provides a shortcut for declaring small anonymous functions. Lambda functions behave just like regular functions declared with the def keyword. They can be used whenever function objects are required."
      ],
      "metadata": {
        "id": "3OyFlN4Deu0N"
      }
    },
    {
      "cell_type": "markdown",
      "source": [
        "\n",
        "\n",
        "---\n",
        "\n"
      ],
      "metadata": {
        "id": "DyBP6umEe5lj"
      }
    },
    {
      "cell_type": "markdown",
      "source": [
        "###Q 3. Compare and contrast map, filter, and reduce."
      ],
      "metadata": {
        "id": "cxap-yWie6UL"
      }
    },
    {
      "cell_type": "markdown",
      "source": [
        "###Ans.\n",
        "The differences between map, filter and reduce are:\n",
        "\n",
        "1.map(): The map() function is a type of higher-order. This function takes another function as a parameter along with a sequence of iterables and returns an output after applying the function to each iterable present in the sequence.\n",
        "\n",
        "2.filter(): The filter() function is used to create an output list consisting of values for which the function returns true.\n",
        "\n",
        "3.reduce(): The reduce() function, as the name describes, applies a given function to the iterables and returns a single value"
      ],
      "metadata": {
        "id": "Lq6N2qU-e-DD"
      }
    },
    {
      "cell_type": "code",
      "source": [
        "### Map functions\n",
        "Animal = [\"Anteater\", \"Dog\", \"Elephant\", \"Giraffe\", \"Cat\"]\n",
        "map_object = map(lambda s: s[0] == \"A\", Animal)\n",
        "\n",
        "\n",
        "for i in map_object:\n",
        "    print(i)"
      ],
      "metadata": {
        "colab": {
          "base_uri": "https://localhost:8080/"
        },
        "id": "9qKK2TDbfGdq",
        "outputId": "c37f5250-9c49-4624-93aa-b7f0d60fee88"
      },
      "execution_count": 2,
      "outputs": [
        {
          "output_type": "stream",
          "name": "stdout",
          "text": [
            "True\n",
            "False\n",
            "False\n",
            "False\n",
            "False\n"
          ]
        }
      ]
    },
    {
      "cell_type": "code",
      "source": [
        "### Filter function\n",
        "Animal = [\"Anteater\", \"Dog\", \"Elephant\", \"Giraffe\", \"Cat\"]\n",
        "filter_object = filter(lambda s: s[0] == \"A\", Animal)\n",
        "\n",
        "for i in filter_object:\n",
        "    print(i)"
      ],
      "metadata": {
        "colab": {
          "base_uri": "https://localhost:8080/"
        },
        "id": "Zt0Zj4jVfJ1q",
        "outputId": "19e42d17-5b0a-4012-d534-7deadf6b4ff4"
      },
      "execution_count": 3,
      "outputs": [
        {
          "output_type": "stream",
          "name": "stdout",
          "text": [
            "Anteater\n"
          ]
        }
      ]
    },
    {
      "cell_type": "code",
      "source": [
        "### Reduce Function\n",
        "from functools import reduce\n",
        "\n",
        "list = [4, 3, 8, 3]\n",
        "print(reduce(lambda x, y: x + y, list))\n",
        "print(\"With an initial value: \" + str(reduce(lambda x, y: x + y, list, 10)))"
      ],
      "metadata": {
        "colab": {
          "base_uri": "https://localhost:8080/"
        },
        "id": "eIH09cLKfMkJ",
        "outputId": "80ce1c30-7c4b-4803-a409-1821fb7fefc7"
      },
      "execution_count": 4,
      "outputs": [
        {
          "output_type": "stream",
          "name": "stdout",
          "text": [
            "18\n",
            "With an initial value: 28\n"
          ]
        }
      ]
    },
    {
      "cell_type": "markdown",
      "source": [
        "\n",
        "\n",
        "---\n",
        "\n"
      ],
      "metadata": {
        "id": "yEJc_CgofXY3"
      }
    },
    {
      "cell_type": "markdown",
      "source": [
        "###Q 4. What are function annotations, and how are they used?"
      ],
      "metadata": {
        "id": "PtxvqpBifYmm"
      }
    },
    {
      "cell_type": "markdown",
      "source": [
        "###Ans.\n",
        "Function annotation is the standard way to access the metadata with the arguments and the return value of the function. These are nothing but some random and optional Python expressions that get allied to different parts of the function. They get evaluated only during the compile-time and have no significance during the run-time of the code. They do not have any significance or meaning associated with them until accessed by some third-party libraries. They are used to type check the functions by declaring the type of the parameters and the return value for the functions. The string-based annotations help us to improve the help messages.\n",
        "\n",
        "Syntax :\n",
        "\n",
        "def func(a: 'int') -> 'int':\n",
        "\n",
        "pass\n",
        "\n",
        "Annotations for simple parameters:\n",
        "\n",
        "def func(x: 'float'=10.8, y: 'argument2'):\n",
        "\n",
        "In the above code the argument, ‘x’ of the function func, has been annotated to float data type and the argument ‘y’ has a string-based annotation. The argument can also be assigned to a default value using a ‘=’ symbol followed by the default value. These default values are optional to the code.\n",
        "\n",
        "Annotations for return values:\n",
        "\n",
        "def func(a: expression) -> 'int':\n",
        "\n",
        "The annotations for the return value is written after the ‘->’ symbol."
      ],
      "metadata": {
        "id": "ymbcvMrWfdvw"
      }
    },
    {
      "cell_type": "markdown",
      "source": [
        "\n",
        "\n",
        "---\n",
        "\n"
      ],
      "metadata": {
        "id": "o1rtF4IffmnU"
      }
    },
    {
      "cell_type": "markdown",
      "source": [
        "###Q 5. What are recursive functions, and how are they used?"
      ],
      "metadata": {
        "id": "IK0LkAFKfoE7"
      }
    },
    {
      "cell_type": "markdown",
      "source": [
        "###Ans.\n",
        "A recursive function is a function that calls itself during its execution. This means that the function will continue to call itself and repeat its behavior until some condition is met to return a result."
      ],
      "metadata": {
        "id": "3yzrrR4Ifsyz"
      }
    },
    {
      "cell_type": "code",
      "source": [
        "# Example\n",
        "def fact(x):\n",
        "    if x == 1 :\n",
        "        return 1\n",
        "    else :\n",
        "        return x * fact(x-1) # recurtion\n",
        "\n",
        "fact(3)"
      ],
      "metadata": {
        "colab": {
          "base_uri": "https://localhost:8080/"
        },
        "id": "CqakzsShfxDc",
        "outputId": "ad09707d-0c39-4b9c-e2ee-9b2bb4e883d4"
      },
      "execution_count": 5,
      "outputs": [
        {
          "output_type": "execute_result",
          "data": {
            "text/plain": [
              "6"
            ]
          },
          "metadata": {},
          "execution_count": 5
        }
      ]
    },
    {
      "cell_type": "markdown",
      "source": [
        "\n",
        "\n",
        "---\n",
        "\n"
      ],
      "metadata": {
        "id": "VzpniZbofz-j"
      }
    },
    {
      "cell_type": "markdown",
      "source": [
        "###Q 6. What are some general design guidelines for coding functions?"
      ],
      "metadata": {
        "id": "XcvsUK6ff1h1"
      }
    },
    {
      "cell_type": "markdown",
      "source": [
        "###Ans.\n",
        "1.Use 4-space indentation and no tabs.\n",
        "\n",
        "2.Use docstrings\n",
        "\n",
        "3.Wrap linethat they don’t exceed 79 characters\n",
        "\n",
        "4.Use of regular and updated comments are valuable to both the coders and users\n",
        "\n",
        "5.Use of trailing commas : in case of tuple -> ('good',)\n",
        "\n",
        "6.Use Python’s default UTF-8 or ASCII encodings and not any fancy encodings\n",
        "\n",
        "7.Naming Conventions 8.Characters that should not be used for identifiers : ‘l’ (lowercase letter el), ‘O’ (uppercase letter oh), ‘I’ (uppercase letter eye) as single character variable names as these are similar to the numerals one and zero.\n",
        "\n",
        "8.Don’t use non-ASCII characters in identifiers\n",
        "\n",
        "9.Name your classes and functions consistently\n",
        "\n",
        "10.While naming of function of methods always use self for the first argument"
      ],
      "metadata": {
        "id": "4FGoFXOxf7Ld"
      }
    },
    {
      "cell_type": "markdown",
      "source": [
        "\n",
        "\n",
        "---\n",
        "\n"
      ],
      "metadata": {
        "id": "gmO9LuHEgE0v"
      }
    },
    {
      "cell_type": "markdown",
      "source": [
        "###Q 7. Name three or more ways that functions can communicate results to a caller."
      ],
      "metadata": {
        "id": "x1COSEFngFjv"
      }
    },
    {
      "cell_type": "markdown",
      "source": [
        "###Ans.\n",
        "1.Function can return single value\n",
        "\n",
        "2.Can return multiple values, tuple\n",
        "\n",
        "3.can return list,dictionary\n",
        "\n",
        "4.can return function object\n",
        "\n",
        "5.can return class object"
      ],
      "metadata": {
        "id": "zGGCMyzIgI4p"
      }
    },
    {
      "cell_type": "markdown",
      "source": [
        "-----------------------------------------------------------End----------------------------------------"
      ],
      "metadata": {
        "id": "VXhEe9-fgO-X"
      }
    }
  ]
}