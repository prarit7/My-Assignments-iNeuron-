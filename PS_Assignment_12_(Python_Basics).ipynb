{
  "nbformat": 4,
  "nbformat_minor": 0,
  "metadata": {
    "colab": {
      "provenance": []
    },
    "kernelspec": {
      "name": "python3",
      "display_name": "Python 3"
    },
    "language_info": {
      "name": "python"
    }
  },
  "cells": [
    {
      "cell_type": "markdown",
      "source": [
        "### Python (Basics) Assignment No. 12\n",
        "\n",
        "1 Batch - Full Stack Data Science Bootcamp 2.0\n",
        "\n",
        "2 Name - **Prerit Sharma**\n",
        "\n",
        "3 Email ID - **praritsharma7@gmail.com**"
      ],
      "metadata": {
        "id": "W2mxX23UxPhf"
      }
    },
    {
      "cell_type": "markdown",
      "source": [
        "--------------------------------------------------------------------------------------------------------"
      ],
      "metadata": {
        "id": "amAY8YgZxyUH"
      }
    },
    {
      "cell_type": "markdown",
      "source": [
        "###Q 1. In what modes should the PdfFileReader() and PdfFileWriter() File objects will be opened?"
      ],
      "metadata": {
        "id": "djzuKgbrxVLV"
      }
    },
    {
      "cell_type": "markdown",
      "source": [
        "###Ans.PdfFileReader() needs to be opened in read-binary mode by passing 'rb' as the second argument to open(). Likewise, the File object passed to PyPDF2. PdfFileWriter() needs to be opened in write-binary mode with 'wb'."
      ],
      "metadata": {
        "id": "pBOGLyo9xkFa"
      }
    },
    {
      "cell_type": "markdown",
      "source": [
        "-------------------------------------------------------------------------------------------------------------"
      ],
      "metadata": {
        "id": "jlPUdwaMxSyN"
      }
    },
    {
      "cell_type": "markdown",
      "source": [
        "###Q 2. From a PdfFileReader object, how do you get a Page object for page 5?"
      ],
      "metadata": {
        "id": "eWqB6Dm5xwmf"
      }
    },
    {
      "cell_type": "markdown",
      "source": [
        "###Ans.Calling getPage(4) will return a page object for page 5, since page 0 is the first page."
      ],
      "metadata": {
        "id": "krWnVjC0x9CP"
      }
    },
    {
      "cell_type": "markdown",
      "source": [
        "-----------------------------------------------------------------------------------------------------\n"
      ],
      "metadata": {
        "id": "_bEVndYYyDu1"
      }
    },
    {
      "cell_type": "markdown",
      "source": [
        "###Q 3. What PdfFileReader variable stores the number of pages in the PDF document?"
      ],
      "metadata": {
        "id": "ATvhWfASyFt1"
      }
    },
    {
      "cell_type": "markdown",
      "source": [
        "###Ans.The total number of pages in the document is stored in the numPages variable of a PdfFileReader object."
      ],
      "metadata": {
        "id": "xbfzNmOyyMgm"
      }
    },
    {
      "cell_type": "markdown",
      "source": [
        "----------------------------------------------------------------------------------------------------------------------------"
      ],
      "metadata": {
        "id": "jVo8B2OqyV0q"
      }
    },
    {
      "cell_type": "markdown",
      "source": [
        "###Q 4. If a PdfFileReader object’s PDF is encrypted with the password swordfish, what must you do before you can obtain Page objects from it?"
      ],
      "metadata": {
        "id": "uNNJFvQvyXT5"
      }
    },
    {
      "cell_type": "markdown",
      "source": [
        "###Ans. To read an encrypted PDF, call the decrypt() function and pass the password as a string, in our case it is swordfish. After we call decrypt() with the correct password, you’ll see that calling getPage() no longer causes an error. Call decrypt('swordfish')."
      ],
      "metadata": {
        "id": "kmiKrRRxyd2H"
      }
    },
    {
      "cell_type": "markdown",
      "source": [
        "------------------------------------------------------------------------------------------------------"
      ],
      "metadata": {
        "id": "YpTOzYwCym04"
      }
    },
    {
      "cell_type": "markdown",
      "source": [
        "  ###Q 5. What methods do you use to rotate a page?"
      ],
      "metadata": {
        "id": "Jy4ZtMA_yoTf"
      }
    },
    {
      "cell_type": "markdown",
      "source": [
        "###Ans.The pages of a PDF can be rotated in 90-degree increments with the rotateClockwise() and rotateCounterClockwise() methods."
      ],
      "metadata": {
        "id": "tQ4ABBlQUeWq"
      }
    },
    {
      "cell_type": "markdown",
      "source": [
        "------------------------------------------------------------------------------------------------------------------------"
      ],
      "metadata": {
        "id": "wxSAZapzUrlJ"
      }
    },
    {
      "cell_type": "markdown",
      "source": [
        "###Q 6. What is the difference between a Run object and a Paragraph object?"
      ],
      "metadata": {
        "id": "MA0vXVglUtHr"
      }
    },
    {
      "cell_type": "markdown",
      "source": [
        "###Ans.A document contains multiple paragraphs. A paragraph begins on a new line and contains multiple runs. Runs are contiguous groups of charecters within a paragraph."
      ],
      "metadata": {
        "id": "p8m1gZKtUygq"
      }
    },
    {
      "cell_type": "markdown",
      "source": [
        "-----------------------------------------------------------------------------------------------------------------------------------------------"
      ],
      "metadata": {
        "id": "Umf66lPWU4Lj"
      }
    },
    {
      "cell_type": "markdown",
      "source": [
        "###Q 7. How do you obtain a list of Paragraph objects for a Document object that’s stored in a variable named doc?"
      ],
      "metadata": {
        "id": "SSPWuhDdU57D"
      }
    },
    {
      "cell_type": "markdown",
      "source": [
        "###Ans.len(doc.paragraphs)"
      ],
      "metadata": {
        "id": "Orw9ZLWgU__j"
      }
    },
    {
      "cell_type": "markdown",
      "source": [
        "-------------------------------------------------------------------"
      ],
      "metadata": {
        "id": "OKgBnTYqVPBl"
      }
    },
    {
      "cell_type": "markdown",
      "source": [
        "###Q 8. What type of object has bold, underline, italic, strike, and outline variables?"
      ],
      "metadata": {
        "id": "8wi57BQ4VQHM"
      }
    },
    {
      "cell_type": "markdown",
      "source": [
        "###Ans.Run object has bold, underline, italic, strike, and outline variables. The text in a Word document is more than just a string. It has font, size, color, and other styling information associated with it.\n",
        "\n",
        "###A style in Word is a collection of these attributes. A Run object is a contiguous run of text with the same style. A new Run object is needed whenever the text style changes."
      ],
      "metadata": {
        "id": "HEbe6tTIVZz0"
      }
    },
    {
      "cell_type": "markdown",
      "source": [
        "------------------------------------------------------------------------------------------------------------------"
      ],
      "metadata": {
        "id": "eNGVSfCrVaC8"
      }
    },
    {
      "cell_type": "markdown",
      "source": [
        "###Q 9. What is the difference between False, True, and None for the bold variable?"
      ],
      "metadata": {
        "id": "uRPgUaB6VpQ0"
      }
    },
    {
      "cell_type": "markdown",
      "source": [
        "###Ans.\n",
        "   bold = True  # Style Set to Bold\n",
        "  \n",
        "   bold = False # Style Not Set to Bold\n",
        "   \n",
        "   bold = None # Style is Not Applicable"
      ],
      "metadata": {
        "id": "ZedMKrgjVtp_"
      }
    },
    {
      "cell_type": "markdown",
      "source": [
        "----------------------------------------------------------------------------------------------"
      ],
      "metadata": {
        "id": "bjrXxp-wWGbF"
      }
    },
    {
      "cell_type": "markdown",
      "source": [
        "###Q 10. How do you create a Document object for a new Word document?"
      ],
      "metadata": {
        "id": "DlII746jWHzl"
      }
    },
    {
      "cell_type": "markdown",
      "source": [
        "Ans. mydoc = docx.Document()\n",
        "\n",
        "\n",
        "# Example Program\n",
        "\n",
        "from docx import Document    \n",
        "document = Document()   \n",
        "document.add_paragraph(\"iNeuron Full Stack DataScience Bootcamp Course2.0\")         \n",
        "document.save('mydocument.docx')"
      ],
      "metadata": {
        "id": "8I8iI_TVWLfO"
      }
    },
    {
      "cell_type": "markdown",
      "source": [
        "-------------------------------------------------------------------------------------"
      ],
      "metadata": {
        "id": "DL-9vQ4dWsvl"
      }
    },
    {
      "cell_type": "markdown",
      "source": [
        "###Q 11. How do you add a paragraph with the text &#39;Hello, there!&#39; to a Document object stored in a variable named doc?"
      ],
      "metadata": {
        "id": "RS_39hD-W0LO"
      }
    },
    {
      "cell_type": "markdown",
      "source": [
        "###Ans. doc.add_paragraph('Hello, there!')\n",
        "\n",
        "# Example Program\n",
        "from docx import Document           \n",
        "doc = Document()                    \n",
        "doc.add_paragraph('Hello, there!')                      \n",
        "doc.save('hello.docx')"
      ],
      "metadata": {
        "id": "DBLhHLnsW8dH"
      }
    },
    {
      "cell_type": "markdown",
      "source": [
        "-------------------------------------------------------------------------------------------------"
      ],
      "metadata": {
        "id": "FPM3Ga-OXIwN"
      }
    },
    {
      "cell_type": "markdown",
      "source": [
        "###Q 12. What integers represent the levels of headings available in Word documents?"
      ],
      "metadata": {
        "id": "3vEwr5GYXMHQ"
      }
    },
    {
      "cell_type": "markdown",
      "source": [
        "###Ans.The arguments to add_heading() are a string of the heading text and an integer from 0 to 4. The integer 0 makes the heading the Title style, which is used for the top of the document. Integers 1 to 4 are for various heading levels, with 1 being the main heading and 4 the lowest subheading. The add_heading() function returns a Paragraph object to save you the step of extracting it from the Document object as a separate step."
      ],
      "metadata": {
        "id": "yLp1B-vBXR2t"
      }
    },
    {
      "cell_type": "markdown",
      "source": [
        "----------------------------------------------------------------------------END---------------------------------------------------------------"
      ],
      "metadata": {
        "id": "RlFwQJlSXbR1"
      }
    }
  ]
}