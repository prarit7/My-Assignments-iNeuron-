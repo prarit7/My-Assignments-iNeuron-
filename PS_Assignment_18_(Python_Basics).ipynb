{
  "nbformat": 4,
  "nbformat_minor": 0,
  "metadata": {
    "colab": {
      "provenance": []
    },
    "kernelspec": {
      "name": "python3",
      "display_name": "Python 3"
    },
    "language_info": {
      "name": "python"
    }
  },
  "cells": [
    {
      "cell_type": "markdown",
      "source": [
        "### Python (Basics) Assignment No. 18\n",
        "\n",
        "1 Batch - Full Stack Data Science Bootcamp 2.0\n",
        "\n",
        "2 Name - **Prerit Sharma**\n",
        "\n",
        "3 Email ID - **praritsharma7@gmail.com**"
      ],
      "metadata": {
        "id": "3L7lyLe-Nebl"
      }
    },
    {
      "cell_type": "code",
      "source": [
        "from google.colab import drive\n",
        "drive.mount('/content/drive')"
      ],
      "metadata": {
        "id": "qAvvO9I0VRfJ"
      },
      "execution_count": null,
      "outputs": []
    },
    {
      "cell_type": "markdown",
      "source": [
        "------------------------------------------------------------------------------------------------------------------"
      ],
      "metadata": {
        "id": "0c7hDG5dNnov"
      }
    },
    {
      "cell_type": "markdown",
      "source": [
        "###Q 1. Create a zoo.py file first. Define the hours() function, which prints the string &#39;Open 9-5 daily&#39;.Then, use the interactive interpreter to import the zoo module and call its hours() function."
      ],
      "metadata": {
        "id": "i6t82rybNpN1"
      }
    },
    {
      "cell_type": "markdown",
      "source": [
        "###Ans."
      ],
      "metadata": {
        "id": "2VlU3zVlNule"
      }
    },
    {
      "cell_type": "code",
      "source": [
        "import zoo\n",
        "zoo.hours()"
      ],
      "metadata": {
        "colab": {
          "base_uri": "https://localhost:8080/"
        },
        "id": "WAjNoa0pNmdd",
        "outputId": "4ff62ecb-62ec-4d3e-fb9c-1e4ed4a22764"
      },
      "execution_count": 1,
      "outputs": [
        {
          "output_type": "stream",
          "name": "stdout",
          "text": [
            "Open 9-5 daily\n"
          ]
        }
      ]
    },
    {
      "cell_type": "markdown",
      "source": [
        "--------------------------------------------------------------------------"
      ],
      "metadata": {
        "id": "sJnfE228N4J0"
      }
    },
    {
      "cell_type": "markdown",
      "source": [
        "###Q 2. In the interactive interpreter, import the zoo module as menagerie and call its hours() function."
      ],
      "metadata": {
        "id": "-euPwJDvN5jL"
      }
    },
    {
      "cell_type": "markdown",
      "source": [
        "###Ans."
      ],
      "metadata": {
        "id": "N6E8f_WNPjYP"
      }
    },
    {
      "cell_type": "code",
      "source": [
        "import zoo as menagerie\n",
        "menagerie.hours()"
      ],
      "metadata": {
        "colab": {
          "base_uri": "https://localhost:8080/"
        },
        "id": "DUOnAUMlPlzf",
        "outputId": "eaa2980d-225c-4eff-8630-1cc2ed1c5cd6"
      },
      "execution_count": 3,
      "outputs": [
        {
          "output_type": "stream",
          "name": "stdout",
          "text": [
            "Open 9-5 daily\n"
          ]
        }
      ]
    },
    {
      "cell_type": "markdown",
      "source": [
        "------------------------------------------------------------------------------------------------------------------------------------"
      ],
      "metadata": {
        "id": "5clZFFH2PvJe"
      }
    },
    {
      "cell_type": "markdown",
      "source": [
        "###Q 3. Using the interpreter, explicitly import and call the hours() function from zoo."
      ],
      "metadata": {
        "id": "A0UMgmu8Pw4w"
      }
    },
    {
      "cell_type": "markdown",
      "source": [
        "###Ans."
      ],
      "metadata": {
        "id": "EQBEu7CvP2Jf"
      }
    },
    {
      "cell_type": "code",
      "source": [
        "from zoo import hours\n",
        "hours()"
      ],
      "metadata": {
        "id": "NU5-akzqP4i2",
        "colab": {
          "base_uri": "https://localhost:8080/"
        },
        "outputId": "04a102a3-e149-4626-e22d-1854cbade12b"
      },
      "execution_count": 4,
      "outputs": [
        {
          "output_type": "stream",
          "name": "stdout",
          "text": [
            "Open 9-5 daily\n"
          ]
        }
      ]
    },
    {
      "cell_type": "markdown",
      "source": [
        "-------------------------------------------------------------------------------------------"
      ],
      "metadata": {
        "id": "Xv0AnSH0QHF3"
      }
    },
    {
      "cell_type": "markdown",
      "source": [
        "###Q 4. Import the hours() function as info and call it."
      ],
      "metadata": {
        "id": "Ey3dhJB-P93A"
      }
    },
    {
      "cell_type": "markdown",
      "source": [
        "###Ans."
      ],
      "metadata": {
        "id": "MOT8iVcnQCa-"
      }
    },
    {
      "cell_type": "code",
      "source": [
        "from zoo import hours as info\n",
        "info()"
      ],
      "metadata": {
        "id": "QvwiNRZVQEoW",
        "colab": {
          "base_uri": "https://localhost:8080/"
        },
        "outputId": "e098e96a-427e-473d-c1e4-5d2b942a4d35"
      },
      "execution_count": 5,
      "outputs": [
        {
          "output_type": "stream",
          "name": "stdout",
          "text": [
            "Open 9-5 daily\n"
          ]
        }
      ]
    },
    {
      "cell_type": "markdown",
      "source": [
        "-----------------------------------------------------------------------------------------------------"
      ],
      "metadata": {
        "id": "655AOJAYQE9P"
      }
    },
    {
      "cell_type": "markdown",
      "source": [
        "###Q 5. Create a plain dictionary with the key-value pairs &#39;a&#39;: 1, &#39;b&#39;: 2, and &#39;c&#39;: 3, and print it out."
      ],
      "metadata": {
        "id": "vIv2FAZAQL8m"
      }
    },
    {
      "cell_type": "markdown",
      "source": [
        "###Ans."
      ],
      "metadata": {
        "id": "mND5FaiQQPgH"
      }
    },
    {
      "cell_type": "code",
      "source": [
        "plain = {'a': 1, 'b': 2, 'c': 3}\n",
        "plain"
      ],
      "metadata": {
        "id": "yAkXQI3fQLTK",
        "colab": {
          "base_uri": "https://localhost:8080/"
        },
        "outputId": "6a46739b-f0b1-47f8-a7d3-4a97a4e21b8f"
      },
      "execution_count": 6,
      "outputs": [
        {
          "output_type": "execute_result",
          "data": {
            "text/plain": [
              "{'a': 1, 'b': 2, 'c': 3}"
            ]
          },
          "metadata": {},
          "execution_count": 6
        }
      ]
    },
    {
      "cell_type": "markdown",
      "source": [
        "---------------------------------------------------------------------------------------------"
      ],
      "metadata": {
        "id": "vZS52I8eQTon"
      }
    },
    {
      "cell_type": "markdown",
      "source": [
        "###Q 6.Make an OrderedDict called fancy from the same pairs listed in 5 and print it. Did it print in the same order as plain?"
      ],
      "metadata": {
        "id": "RwqiosxIQVOe"
      }
    },
    {
      "cell_type": "markdown",
      "source": [
        "###Ans."
      ],
      "metadata": {
        "id": "iDUSA9xhQZ4U"
      }
    },
    {
      "cell_type": "code",
      "source": [
        "#Yes\n",
        "from collections import OrderedDict\n",
        "fancy = OrderedDict(plain)\n",
        "fancy"
      ],
      "metadata": {
        "id": "sYNEdqq1QTHQ",
        "colab": {
          "base_uri": "https://localhost:8080/"
        },
        "outputId": "6b06804a-92f6-433c-ab82-7cebfd7826c5"
      },
      "execution_count": 7,
      "outputs": [
        {
          "output_type": "execute_result",
          "data": {
            "text/plain": [
              "OrderedDict([('a', 1), ('b', 2), ('c', 3)])"
            ]
          },
          "metadata": {},
          "execution_count": 7
        }
      ]
    },
    {
      "cell_type": "markdown",
      "source": [
        "###Q 7. Make a default dictionary called dict_of_lists and pass it the argument list. Make the list dict_of_lists[&#39;a&#39;] and append the value &#39;something for a&#39; to it in one assignment. Print dict_of_lists[&#39;a&#39;]."
      ],
      "metadata": {
        "id": "ziN1UUgzQdd9"
      }
    },
    {
      "cell_type": "markdown",
      "source": [
        "###Ans."
      ],
      "metadata": {
        "id": "wLjyVMqnQm_e"
      }
    },
    {
      "cell_type": "code",
      "source": [
        "from collections import defaultdict\n",
        "dict_of_lists = defaultdict(list)\n",
        "dict_of_lists['a'].append('something for a')\n",
        "dict_of_lists['a']"
      ],
      "metadata": {
        "id": "35eU2rqLQqXm",
        "colab": {
          "base_uri": "https://localhost:8080/"
        },
        "outputId": "a99cc001-45d7-4190-a946-4cee04adcb80"
      },
      "execution_count": 8,
      "outputs": [
        {
          "output_type": "execute_result",
          "data": {
            "text/plain": [
              "['something for a']"
            ]
          },
          "metadata": {},
          "execution_count": 8
        }
      ]
    },
    {
      "cell_type": "markdown",
      "source": [
        "----------------------------------------------End-------------------------------------------------------------"
      ],
      "metadata": {
        "id": "LnIiHdQVQpbG"
      }
    }
  ]
}