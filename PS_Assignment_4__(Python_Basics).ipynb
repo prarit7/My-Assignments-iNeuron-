{
  "nbformat": 4,
  "nbformat_minor": 0,
  "metadata": {
    "colab": {
      "provenance": []
    },
    "kernelspec": {
      "name": "python3",
      "display_name": "Python 3"
    },
    "language_info": {
      "name": "python"
    }
  },
  "cells": [
    {
      "cell_type": "markdown",
      "source": [
        "## Python (Basics) Assignment No. 4\n",
        "\n",
        "1 Batch - Full Stack Data Science Bootcamp 2.0\n",
        "\n",
        "2 Name - **Prerit Sharma**\n",
        "\n",
        "3 Email ID - **praritsharma7@gmail.com**"
      ],
      "metadata": {
        "id": "qByo3oS6_2HK"
      }
    },
    {
      "cell_type": "markdown",
      "source": [
        "###Q 1. What exactly is []?"
      ],
      "metadata": {
        "id": "UwsaDM_c_75t"
      }
    },
    {
      "cell_type": "markdown",
      "source": [
        "###Ans. The empty list value, which is a list value that contains no items."
      ],
      "metadata": {
        "id": "pit2MtuUAiVg"
      }
    },
    {
      "cell_type": "markdown",
      "source": [
        "---------------------------------------------------------------------------------------------------------------------------------------------------------------------"
      ],
      "metadata": {
        "id": "GZBnwx6oCxL_"
      }
    },
    {
      "cell_type": "markdown",
      "source": [
        "###Q 2. In a list of values stored in a variable called spam, how would you assign the value &#39;hello&#39; as thethird value? (Assume [2, 4, 6, 8, 10] are in spam.)  Let&#39;s pretend the spam includes the list [&#39;a&#39;, &#39;b&#39;, &#39;c&#39;, &#39;d&#39;] for the next three queries."
      ],
      "metadata": {
        "id": "J1y6jpspAvw-"
      }
    },
    {
      "cell_type": "code",
      "source": [],
      "metadata": {
        "id": "sKZmK4z3DL6U"
      },
      "execution_count": null,
      "outputs": []
    },
    {
      "cell_type": "code",
      "source": [
        "###Ans.\n",
        "spam = [2,4,6,8,10]\n",
        "\n",
        "spam[2] = \"hello\"\n",
        "\n",
        "spam"
      ],
      "metadata": {
        "colab": {
          "base_uri": "https://localhost:8080/"
        },
        "id": "pQrOVZpLCX5W",
        "outputId": "bee808e8-13ab-4639-a614-81b57699f9d7"
      },
      "execution_count": null,
      "outputs": [
        {
          "output_type": "execute_result",
          "data": {
            "text/plain": [
              "[2, 4, 'hello', 8, 10]"
            ]
          },
          "metadata": {},
          "execution_count": 4
        }
      ]
    },
    {
      "cell_type": "code",
      "source": [
        "spam = ['a','b','c','d']"
      ],
      "metadata": {
        "id": "aLGfjp-GCeH-"
      },
      "execution_count": null,
      "outputs": []
    },
    {
      "cell_type": "markdown",
      "source": [
        "---------------------------------------------------------------------------------------------------------------------------------------------------------------------------------------------------------------------------------------"
      ],
      "metadata": {
        "id": "I-YDq6SxCwUO"
      }
    },
    {
      "cell_type": "markdown",
      "source": [
        "###Q 3. What is the value of spam[int(int(&#39;3&#39; * 2) / 11)]?"
      ],
      "metadata": {
        "id": "tIDqq5glC7C3"
      }
    },
    {
      "cell_type": "code",
      "source": [
        "###Ans.\n",
        "spam[int(int('3'*2)/11)]"
      ],
      "metadata": {
        "colab": {
          "base_uri": "https://localhost:8080/",
          "height": 36
        },
        "id": "k_GKQq19DWzt",
        "outputId": "0545f248-8e62-478b-fe22-b4d3d7590b65"
      },
      "execution_count": null,
      "outputs": [
        {
          "output_type": "execute_result",
          "data": {
            "text/plain": [
              "'d'"
            ],
            "application/vnd.google.colaboratory.intrinsic+json": {
              "type": "string"
            }
          },
          "metadata": {},
          "execution_count": 6
        }
      ]
    },
    {
      "cell_type": "markdown",
      "source": [
        "'3' * 2 is the string '33', which is passed to int() before being divided by 11. This eventually evaluates to 3. Expressions can be used wherever values are used."
      ],
      "metadata": {
        "id": "otZgvuECDkY2"
      }
    },
    {
      "cell_type": "markdown",
      "source": [
        "----------------------------------------------------------------------------------------------------------------------------------------------------------------------"
      ],
      "metadata": {
        "id": "uD3BakyQDkfT"
      }
    },
    {
      "cell_type": "markdown",
      "source": [
        "###Q 4. What is the value of spam[-1]?"
      ],
      "metadata": {
        "id": "hPf7ZLMyDpa3"
      }
    },
    {
      "cell_type": "code",
      "source": [
        "###Ans.\n",
        "spam[-1]"
      ],
      "metadata": {
        "colab": {
          "base_uri": "https://localhost:8080/",
          "height": 36
        },
        "id": "64Yp1PbWDwG3",
        "outputId": "9007ecc7-1af9-430a-99a2-06176b56e168"
      },
      "execution_count": null,
      "outputs": [
        {
          "output_type": "execute_result",
          "data": {
            "text/plain": [
              "'d'"
            ],
            "application/vnd.google.colaboratory.intrinsic+json": {
              "type": "string"
            }
          },
          "metadata": {},
          "execution_count": 7
        }
      ]
    },
    {
      "cell_type": "markdown",
      "source": [
        "Negative indexes count from the end."
      ],
      "metadata": {
        "id": "AEvXSbnUESrg"
      }
    },
    {
      "cell_type": "markdown",
      "source": [
        "-------------------------------------------------------------------------------------------------------------------------------------------------------------------"
      ],
      "metadata": {
        "id": "3FgxDAhXEUf5"
      }
    },
    {
      "cell_type": "markdown",
      "source": [
        "###Q 5. What is the value of spam[:2]?"
      ],
      "metadata": {
        "id": "RLn9OiG-EXn3"
      }
    },
    {
      "cell_type": "code",
      "source": [
        "##Ans.\n",
        "spam[:2]"
      ],
      "metadata": {
        "colab": {
          "base_uri": "https://localhost:8080/"
        },
        "id": "5QBhlisZEg04",
        "outputId": "c384129e-de19-4ab6-97c4-4cf1bd4fd507"
      },
      "execution_count": null,
      "outputs": [
        {
          "output_type": "execute_result",
          "data": {
            "text/plain": [
              "['a', 'b']"
            ]
          },
          "metadata": {},
          "execution_count": 8
        }
      ]
    },
    {
      "cell_type": "markdown",
      "source": [
        "###Let's pretend bacon has the list [3.14, 'cat,' 11, 'cat,' True] for the next three questions."
      ],
      "metadata": {
        "id": "USPcGN8lEkEv"
      }
    },
    {
      "cell_type": "code",
      "source": [
        "bacon = [3.14,'cat',11,'cat',True]"
      ],
      "metadata": {
        "id": "lH10olHzErS3"
      },
      "execution_count": null,
      "outputs": []
    },
    {
      "cell_type": "markdown",
      "source": [
        "###Q 6. What is the value of bacon.index(&#39;cat&#39;)?"
      ],
      "metadata": {
        "id": "J4isV8GyExI_"
      }
    },
    {
      "cell_type": "code",
      "source": [
        "bacon.index('cat')"
      ],
      "metadata": {
        "colab": {
          "base_uri": "https://localhost:8080/"
        },
        "id": "KFEsx1juE8jA",
        "outputId": "0d48ea0b-08b5-4e25-8146-feaa8d3cb686"
      },
      "execution_count": null,
      "outputs": [
        {
          "output_type": "execute_result",
          "data": {
            "text/plain": [
              "1"
            ]
          },
          "metadata": {},
          "execution_count": 10
        }
      ]
    },
    {
      "cell_type": "markdown",
      "source": [
        "---------------------------------------------------------------------------------------------------------------------------------------------------------------------------"
      ],
      "metadata": {
        "id": "yGhSD5bRE7Y_"
      }
    },
    {
      "cell_type": "markdown",
      "source": [
        "###Q7. How does bacon.append(99) change the look of the list value in bacon?"
      ],
      "metadata": {
        "id": "p01nvwhdE31_"
      }
    },
    {
      "cell_type": "code",
      "source": [
        "bacon = [3.14,'cat',11,'cat',True] \n",
        "\n",
        "bacon.append(99)\n",
        "\n",
        "bacon"
      ],
      "metadata": {
        "colab": {
          "base_uri": "https://localhost:8080/"
        },
        "id": "I5mN6BgnFHPG",
        "outputId": "63d3bd22-a19c-4922-9d9a-bb5a69793989"
      },
      "execution_count": null,
      "outputs": [
        {
          "output_type": "execute_result",
          "data": {
            "text/plain": [
              "[3.14, 'cat', 11, 'cat', True, 99]"
            ]
          },
          "metadata": {},
          "execution_count": 13
        }
      ]
    },
    {
      "cell_type": "markdown",
      "source": [
        "---------------------------------------------------------------------------------------------------------------------------------------------------------------------"
      ],
      "metadata": {
        "id": "Kqkt1dF4Fm4g"
      }
    },
    {
      "cell_type": "markdown",
      "source": [
        "###Q 8. How does bacon.remove(&#39;cat&#39;) change the look of the list in bacon?"
      ],
      "metadata": {
        "id": "7pUjdgeGFXYA"
      }
    },
    {
      "cell_type": "code",
      "source": [
        "bacon"
      ],
      "metadata": {
        "colab": {
          "base_uri": "https://localhost:8080/"
        },
        "id": "seyrFLNkFkpJ",
        "outputId": "7e0b25a5-b0a7-4f81-d338-9006980cda66"
      },
      "execution_count": null,
      "outputs": [
        {
          "output_type": "execute_result",
          "data": {
            "text/plain": [
              "[3.14, 'cat', 11, 'cat', True, 99]"
            ]
          },
          "metadata": {},
          "execution_count": 14
        }
      ]
    },
    {
      "cell_type": "code",
      "source": [
        "bacon.remove('cat')\n",
        "bacon\n"
      ],
      "metadata": {
        "colab": {
          "base_uri": "https://localhost:8080/"
        },
        "id": "lcOTivDeFwMI",
        "outputId": "82b0a275-cb79-473f-9a49-025f204d85f2"
      },
      "execution_count": null,
      "outputs": [
        {
          "output_type": "execute_result",
          "data": {
            "text/plain": [
              "[3.14, 11, True, 99]"
            ]
          },
          "metadata": {},
          "execution_count": 16
        }
      ]
    },
    {
      "cell_type": "markdown",
      "source": [
        "------------------------------------------------------------------------------------------------------------------------------------------------"
      ],
      "metadata": {
        "id": "BDwNy1B6F5TI"
      }
    },
    {
      "cell_type": "markdown",
      "source": [
        "###Q 9. What are the list concatenation and list replication operators?"
      ],
      "metadata": {
        "id": "UV0Vk7NKGbZh"
      }
    },
    {
      "cell_type": "markdown",
      "source": [
        "###Ans.The operator for list concatenation is +, and for list replication is *"
      ],
      "metadata": {
        "id": "03g1HcX8Gk1w"
      }
    },
    {
      "cell_type": "markdown",
      "source": [],
      "metadata": {
        "id": "hf5QGNZQHGdp"
      }
    },
    {
      "cell_type": "markdown",
      "source": [
        "---------------------------------------------------------------------------------------------------------------------------------"
      ],
      "metadata": {
        "id": "03A1sEyqGoI5"
      }
    },
    {
      "cell_type": "markdown",
      "source": [
        "###Q 10. What is difference between the list methods append() and insert()?"
      ],
      "metadata": {
        "id": "KWWJaxPQGpt2"
      }
    },
    {
      "cell_type": "markdown",
      "source": [
        "###Ans. In list append() will add value at the end only, whereas insert() can add value at any index in the list.In list append() will add value at the end only, whereas insert() can add value at any index in the list."
      ],
      "metadata": {
        "id": "SPMx-EoqGuOm"
      }
    },
    {
      "cell_type": "markdown",
      "source": [
        "---------------------------------------------------------------------------------------------------"
      ],
      "metadata": {
        "id": "HHyeGZY0HCRt"
      }
    },
    {
      "cell_type": "markdown",
      "source": [
        "###Q 11. What are the two methods for removing items from a list?"
      ],
      "metadata": {
        "id": "svZZP6zrHDuz"
      }
    },
    {
      "cell_type": "markdown",
      "source": [
        "###Ans.We can remove an item from the list by passing the value of the item to be deleted as the parameter to remove() function. and pop() is also a method of list for removing item from index."
      ],
      "metadata": {
        "id": "TXITuEWvHTxJ"
      }
    },
    {
      "cell_type": "markdown",
      "source": [
        "---------------------------------------------------------------------------------------------\n",
        "\n"
      ],
      "metadata": {
        "id": "FlI8DJuaHWj5"
      }
    },
    {
      "cell_type": "markdown",
      "source": [
        "###Q 12. Describe how list values and string values are identical."
      ],
      "metadata": {
        "id": "1P9ZwPmtHdyh"
      }
    },
    {
      "cell_type": "markdown",
      "source": [
        "###Ans. Both lists and strings can be passed to len(), have indexes and slices, be used in for loops, be concatenated or replicated, and be used with the in and not in operators."
      ],
      "metadata": {
        "id": "tycgYYwsHkyx"
      }
    },
    {
      "cell_type": "markdown",
      "source": [
        "------------------------------------------------------------------------------------------------------------------"
      ],
      "metadata": {
        "id": "QYTQDSuqHpTx"
      }
    },
    {
      "cell_type": "markdown",
      "source": [
        "###Q 13. What&#39;s the difference between tuples and lists?"
      ],
      "metadata": {
        "id": "39FD5a7lHq0i"
      }
    },
    {
      "cell_type": "markdown",
      "source": [
        "###Ans.Tuples are immutable; they cannot be changed at all whereas Lists are mutable; they can have values added, removed, or changed. Also, tuples are written using parentheses, ( ), while lists use the square brackets, [ ]."
      ],
      "metadata": {
        "id": "tf9ciCWWHul5"
      }
    },
    {
      "cell_type": "markdown",
      "source": [
        "----------------------------------------------------------------------------------------------------------------"
      ],
      "metadata": {
        "id": "Ax6it51PH55p"
      }
    },
    {
      "cell_type": "markdown",
      "source": [
        "###Q 14. How do you type a tuple value that only contains the integer 42?"
      ],
      "metadata": {
        "id": "8Fkw9wfnH79h"
      }
    },
    {
      "cell_type": "code",
      "source": [
        "t = (42,)\n",
        "type(t)"
      ],
      "metadata": {
        "colab": {
          "base_uri": "https://localhost:8080/"
        },
        "id": "cwnL6_thIJZc",
        "outputId": "885b5817-7731-42cd-98c7-d91a0c8dd41c"
      },
      "execution_count": null,
      "outputs": [
        {
          "output_type": "execute_result",
          "data": {
            "text/plain": [
              "tuple"
            ]
          },
          "metadata": {},
          "execution_count": 18
        }
      ]
    },
    {
      "cell_type": "markdown",
      "source": [
        "*The trailing comma is mandatory."
      ],
      "metadata": {
        "id": "li9bz7eyIRVk"
      }
    },
    {
      "cell_type": "markdown",
      "source": [
        "------------------------------------------------------------------------------------------------------------------------------------------------------------------------------------------------------"
      ],
      "metadata": {
        "id": "GzUfQkeRISiR"
      }
    },
    {
      "cell_type": "markdown",
      "source": [
        "###Q 15. How do you get a list value&#39;s tuple form? How do you get a tuple value&#39;s list form?"
      ],
      "metadata": {
        "id": "qoTybXPbIcz5"
      }
    },
    {
      "cell_type": "code",
      "source": [
        "t = (1,2,3,4)\n",
        "type(1)\n",
        "\n",
        "list(t)  \n",
        "\n",
        "\n",
        "\n"
      ],
      "metadata": {
        "colab": {
          "base_uri": "https://localhost:8080/"
        },
        "id": "qzsh3L0sIxG5",
        "outputId": "ebe50752-1f6c-4009-ee99-ee37ada53fef"
      },
      "execution_count": 7,
      "outputs": [
        {
          "output_type": "execute_result",
          "data": {
            "text/plain": [
              "[1, 2, 3, 4]"
            ]
          },
          "metadata": {},
          "execution_count": 7
        }
      ]
    },
    {
      "cell_type": "markdown",
      "source": [
        "By using list() and tuple() function."
      ],
      "metadata": {
        "id": "Loy557J2IrOB"
      }
    },
    {
      "cell_type": "markdown",
      "source": [
        "--------------------------------------------------------------------------------------------------------"
      ],
      "metadata": {
        "id": "IZEIOOhHZH58"
      }
    },
    {
      "cell_type": "markdown",
      "source": [
        "###Q 16. Variables that &quot;contain&quot; list values are not necessarily lists themselves. Instead, what do they contain?"
      ],
      "metadata": {
        "id": "XweY7ebUZJxq"
      }
    },
    {
      "cell_type": "markdown",
      "source": [
        "###Ans.Variables will contain references to list values rather than list values themselves."
      ],
      "metadata": {
        "id": "WZW1uHfzZNmA"
      }
    },
    {
      "cell_type": "markdown",
      "source": [
        "--------------------------------------------------------------------------------------------------------------------------------------------------------------"
      ],
      "metadata": {
        "id": "cikdm59JZdTG"
      }
    },
    {
      "cell_type": "markdown",
      "source": [
        "###Q 17. How do you distinguish between copy.copy() and copy.deepcopy()?"
      ],
      "metadata": {
        "id": "iYFqz4TCZfUH"
      }
    },
    {
      "cell_type": "markdown",
      "source": [
        "###Ans.The copy.copy() function will do a shallow copy of a list, while the copy.deepcopy() function will do a deep copy of a list. That is, only copy.deepcopy() will duplicate any lists inside the list."
      ],
      "metadata": {
        "id": "8GAJnnRMZlbO"
      }
    },
    {
      "cell_type": "markdown",
      "source": [
        "------------------------------------------------End---------------------------------------------------------------------------------------------"
      ],
      "metadata": {
        "id": "kVaPa9q8ZrYp"
      }
    }
  ]
}